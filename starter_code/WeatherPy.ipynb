{
 "cells": [
  {
   "cell_type": "markdown",
   "metadata": {},
   "source": [
    "# WeatherPy\n",
    "----\n",
    "\n",
    "#### Note\n",
    "* Instructions have been included for each segment. You do not have to follow them exactly, but they are included to help you think through the steps."
   ]
  },
  {
   "cell_type": "code",
   "execution_count": 1,
   "metadata": {
    "scrolled": true
   },
   "outputs": [],
   "source": [
    "# Dependencies and Setup\n",
    "import matplotlib.pyplot as plt\n",
    "import pandas as pd\n",
    "import numpy as np\n",
    "import requests\n",
    "import time\n",
    "import scipy.stats as st\n",
    "from scipy.stats import linregress\n",
    "\n",
    "# Import API key\n",
    "from api_keys import weather_api_key\n",
    "\n",
    "# Incorporated citipy to determine city based on latitude and longitude\n",
    "from citipy import citipy\n",
    "\n",
    "# Output File (CSV)\n",
    "output_data_file = \"output_data/cities.csv\"\n",
    "\n",
    "# Range of latitudes and longitudes\n",
    "lat_range = (-90, 90)\n",
    "lng_range = (-180, 180)"
   ]
  },
  {
   "cell_type": "markdown",
   "metadata": {},
   "source": [
    "## Generate Cities List"
   ]
  },
  {
   "cell_type": "code",
   "execution_count": 2,
   "metadata": {},
   "outputs": [
    {
     "data": {
      "text/plain": [
       "626"
      ]
     },
     "execution_count": 2,
     "metadata": {},
     "output_type": "execute_result"
    }
   ],
   "source": [
    "# List for holding lat_lngs and cities\n",
    "lat_lngs = []\n",
    "cities = []\n",
    "\n",
    "# Create a set of random lat and lng combinations\n",
    "lats = np.random.uniform(lat_range[0], lat_range[1], size=1500)\n",
    "lngs = np.random.uniform(lng_range[0], lng_range[1], size=1500)\n",
    "lat_lngs = zip(lats, lngs)\n",
    "\n",
    "# Identify nearest city for each lat, lng combination\n",
    "for lat_lng in lat_lngs:\n",
    "    city = citipy.nearest_city(lat_lng[0], lat_lng[1]).city_name\n",
    "    \n",
    "    # If the city is unique, then add it to a our cities list\n",
    "    if city not in cities:\n",
    "        cities.append(city)\n",
    "\n",
    "# Print the city count to confirm sufficient count\n",
    "len(cities)"
   ]
  },
  {
   "cell_type": "code",
   "execution_count": null,
   "metadata": {},
   "outputs": [],
   "source": []
  },
  {
   "cell_type": "markdown",
   "metadata": {},
   "source": [
    "### Perform API Calls\n",
    "* Perform a weather check on each city using a series of successive API calls.\n",
    "* Include a print log of each city as it'sbeing processed (with the city number and city name).\n"
   ]
  },
  {
   "cell_type": "code",
   "execution_count": 3,
   "metadata": {},
   "outputs": [],
   "source": [
    "# Save config information\n",
    "url = \"http://api.openweathermap.org/data/2.5/weather?\"\n",
    "units = \"metric\"\n",
    "\n",
    "# Build partial query URL\n",
    "query_url = f\"{url}appid={weather_api_key}&units={units}&q=\"\n"
   ]
  },
  {
   "cell_type": "code",
   "execution_count": 4,
   "metadata": {},
   "outputs": [
    {
     "name": "stdout",
     "output_type": "stream",
     "text": [
      "Processing Record 1 of set 1 |kunming\n",
      "Processing Record 2 of set 1 |cherskiy\n",
      "Processing Record 3 of set 1 |along\n",
      "Processing Record 4 of set 1 |avarua\n",
      "Processing Record 5 of set 1 |chokurdakh\n",
      "Processing Record 6 of set 1 |vila franca do campo\n",
      "Processing Record 7 of set 1 |kapaa\n",
      "Processing Record 8 of set 1 |guerrero negro\n",
      "Processing Record 9 of set 1 |trairi\n",
      "Processing Record 10 of set 1 |araouane\n",
      "Processing Record 11 of set 1 |vaini\n",
      "City not found. Skipping...\n",
      "Processing Record 13 of set 1 |santa maria\n",
      "City not found. Skipping...\n",
      "Processing Record 15 of set 1 |izhma\n",
      "Processing Record 16 of set 1 |rikitea\n",
      "Processing Record 17 of set 1 |svarstad\n",
      "Processing Record 18 of set 1 |albany\n",
      "Processing Record 19 of set 1 |codrington\n",
      "Processing Record 20 of set 1 |punta arenas\n",
      "Processing Record 21 of set 1 |nishihara\n",
      "Processing Record 22 of set 1 |severo-kurilsk\n",
      "Processing Record 23 of set 1 |miedzyrzecz\n",
      "Processing Record 24 of set 1 |dunedin\n",
      "Processing Record 25 of set 1 |bonthe\n",
      "Processing Record 26 of set 1 |los llanos de aridane\n",
      "Processing Record 27 of set 1 |atuona\n",
      "Processing Record 28 of set 1 |wladyslawowo\n",
      "Processing Record 29 of set 1 |richards bay\n",
      "Processing Record 30 of set 1 |dyurtyuli\n",
      "City not found. Skipping...\n",
      "Processing Record 32 of set 1 |puerto ayora\n",
      "Processing Record 33 of set 1 |vostok\n",
      "Processing Record 34 of set 1 |bluff\n",
      "Processing Record 35 of set 1 |canatlan\n",
      "Processing Record 36 of set 1 |tasiilaq\n",
      "Processing Record 37 of set 1 |henties bay\n",
      "Processing Record 38 of set 1 |jamestown\n",
      "Processing Record 39 of set 1 |bilibino\n",
      "Processing Record 40 of set 1 |dikson\n",
      "Processing Record 41 of set 1 |cidreira\n",
      "City not found. Skipping...\n",
      "Processing Record 43 of set 1 |hobart\n",
      "Processing Record 44 of set 1 |bethel\n",
      "Processing Record 45 of set 1 |arraial do cabo\n",
      "Processing Record 46 of set 1 |castro\n",
      "Processing Record 47 of set 1 |turmalina\n",
      "Processing Record 48 of set 1 |saint george\n",
      "Processing Record 49 of set 1 |brumunddal\n",
      "Processing Record 50 of set 1 |tomatlan\n",
      "Processing Record 1 of set 2 |saint-philippe\n",
      "Processing Record 2 of set 2 |grindavik\n",
      "Processing Record 3 of set 2 |quatre cocos\n",
      "Processing Record 4 of set 2 |grants pass\n",
      "Processing Record 5 of set 2 |palmer\n",
      "Processing Record 6 of set 2 |lebu\n",
      "Processing Record 7 of set 2 |westport\n",
      "Processing Record 8 of set 2 |mayumba\n",
      "Processing Record 9 of set 2 |yellowknife\n",
      "Processing Record 10 of set 2 |yoichi\n",
      "City not found. Skipping...\n",
      "Processing Record 12 of set 2 |barrow\n",
      "Processing Record 13 of set 2 |porto velho\n",
      "Processing Record 14 of set 2 |east london\n",
      "Processing Record 15 of set 2 |busselton\n",
      "Processing Record 16 of set 2 |voloshka\n",
      "Processing Record 17 of set 2 |sobolevo\n",
      "Processing Record 18 of set 2 |petropavlovsk-kamchatskiy\n",
      "Processing Record 19 of set 2 |port alfred\n",
      "Processing Record 20 of set 2 |acajutla\n",
      "Processing Record 21 of set 2 |el rosario\n",
      "Processing Record 22 of set 2 |katsuura\n",
      "Processing Record 23 of set 2 |camacha\n",
      "Processing Record 24 of set 2 |torbay\n",
      "Processing Record 25 of set 2 |luderitz\n",
      "City not found. Skipping...\n",
      "Processing Record 27 of set 2 |ancud\n",
      "Processing Record 28 of set 2 |ko samui\n",
      "Processing Record 29 of set 2 |okhotsk\n",
      "City not found. Skipping...\n",
      "Processing Record 31 of set 2 |qaqortoq\n",
      "Processing Record 32 of set 2 |kieta\n",
      "Processing Record 33 of set 2 |ahipara\n",
      "Processing Record 34 of set 2 |bollnas\n",
      "Processing Record 35 of set 2 |solnechnyy\n",
      "Processing Record 36 of set 2 |fairbanks\n",
      "Processing Record 37 of set 2 |butaritari\n",
      "City not found. Skipping...\n",
      "Processing Record 39 of set 2 |oboyan\n",
      "City not found. Skipping...\n",
      "Processing Record 41 of set 2 |diu\n",
      "Processing Record 42 of set 2 |isangel\n",
      "Processing Record 43 of set 2 |mersing\n",
      "Processing Record 44 of set 2 |ribeira grande\n",
      "Processing Record 45 of set 2 |huarmey\n",
      "Processing Record 46 of set 2 |poum\n",
      "Processing Record 47 of set 2 |kloulklubed\n",
      "Processing Record 48 of set 2 |cantaura\n",
      "Processing Record 49 of set 2 |spokane\n",
      "Processing Record 50 of set 2 |jabonga\n",
      "Processing Record 1 of set 3 |krasnoarmeysk\n",
      "Processing Record 2 of set 3 |ushuaia\n",
      "Processing Record 3 of set 3 |mataura\n",
      "Processing Record 4 of set 3 |hobyo\n",
      "Processing Record 5 of set 3 |poronaysk\n",
      "Processing Record 6 of set 3 |la asuncion\n",
      "Processing Record 7 of set 3 |asau\n",
      "City not found. Skipping...\n",
      "Processing Record 9 of set 3 |bambous virieux\n",
      "Processing Record 10 of set 3 |geraldton\n",
      "Processing Record 11 of set 3 |kyabe\n",
      "Processing Record 12 of set 3 |doha\n",
      "City not found. Skipping...\n",
      "Processing Record 14 of set 3 |namibe\n",
      "Processing Record 15 of set 3 |nouadhibou\n",
      "Processing Record 16 of set 3 |chegdomyn\n",
      "Processing Record 17 of set 3 |hilo\n",
      "Processing Record 18 of set 3 |phan thiet\n",
      "Processing Record 19 of set 3 |fethiye\n",
      "Processing Record 20 of set 3 |tocopilla\n",
      "Processing Record 21 of set 3 |qaanaaq\n",
      "Processing Record 22 of set 3 |grand gaube\n",
      "Processing Record 23 of set 3 |hithadhoo\n",
      "Processing Record 24 of set 3 |awbari\n",
      "Processing Record 25 of set 3 |meulaboh\n",
      "Processing Record 26 of set 3 |kokstad\n",
      "Processing Record 27 of set 3 |alcaniz\n",
      "Processing Record 28 of set 3 |canto do buriti\n",
      "Processing Record 29 of set 3 |cape town\n",
      "Processing Record 30 of set 3 |tacoronte\n",
      "City not found. Skipping...\n",
      "Processing Record 32 of set 3 |simao\n",
      "City not found. Skipping...\n",
      "Processing Record 34 of set 3 |joshimath\n",
      "Processing Record 35 of set 3 |kruisfontein\n",
      "City not found. Skipping...\n",
      "Processing Record 37 of set 3 |bredasdorp\n",
      "Processing Record 38 of set 3 |yumen\n",
      "Processing Record 39 of set 3 |pawayan\n",
      "Processing Record 40 of set 3 |salinopolis\n",
      "Processing Record 41 of set 3 |esso\n",
      "Processing Record 42 of set 3 |cam ranh\n",
      "Processing Record 43 of set 3 |new norfolk\n",
      "Processing Record 44 of set 3 |rabo de peixe\n",
      "Processing Record 45 of set 3 |dawlatabad\n",
      "City not found. Skipping...\n",
      "Processing Record 47 of set 3 |boa vista\n",
      "Processing Record 48 of set 3 |amga\n",
      "Processing Record 49 of set 3 |faanui\n",
      "Processing Record 50 of set 3 |lawton\n",
      "Processing Record 1 of set 4 |tuktoyaktuk\n",
      "Processing Record 2 of set 4 |goderich\n",
      "Processing Record 3 of set 4 |camiri\n",
      "Processing Record 4 of set 4 |klaksvik\n",
      "Processing Record 5 of set 4 |vestmanna\n",
      "Processing Record 6 of set 4 |oranjemund\n",
      "Processing Record 7 of set 4 |najran\n",
      "Processing Record 8 of set 4 |teya\n",
      "Processing Record 9 of set 4 |nemuro\n",
      "Processing Record 10 of set 4 |portland\n",
      "City not found. Skipping...\n",
      "Processing Record 12 of set 4 |husavik\n",
      "Processing Record 13 of set 4 |jaque\n",
      "Processing Record 14 of set 4 |soyo\n",
      "Processing Record 15 of set 4 |bonavista\n",
      "Processing Record 16 of set 4 |flinders\n",
      "Processing Record 17 of set 4 |tura\n",
      "Processing Record 18 of set 4 |la palma\n",
      "Processing Record 19 of set 4 |kaohsiung\n",
      "Processing Record 20 of set 4 |ushirombo\n",
      "Processing Record 21 of set 4 |kodiak\n",
      "Processing Record 22 of set 4 |bengkulu\n",
      "City not found. Skipping...\n",
      "City not found. Skipping...\n",
      "Processing Record 25 of set 4 |hermanus\n",
      "Processing Record 26 of set 4 |svetlaya\n",
      "Processing Record 27 of set 4 |carire\n",
      "Processing Record 28 of set 4 |prado\n",
      "Processing Record 29 of set 4 |tabuk\n",
      "Processing Record 30 of set 4 |yar-sale\n",
      "Processing Record 31 of set 4 |diphu\n",
      "Processing Record 32 of set 4 |pevek\n",
      "Processing Record 33 of set 4 |taoudenni\n",
      "Processing Record 34 of set 4 |port blair\n",
      "Processing Record 35 of set 4 |saskylakh\n",
      "Processing Record 36 of set 4 |tiksi\n",
      "Processing Record 37 of set 4 |bundaberg\n",
      "City not found. Skipping...\n",
      "Processing Record 39 of set 4 |kahului\n",
      "Processing Record 40 of set 4 |sola\n",
      "Processing Record 41 of set 4 |angoche\n",
      "Processing Record 42 of set 4 |thompson\n",
      "Processing Record 43 of set 4 |innisfail\n",
      "Processing Record 44 of set 4 |airai\n",
      "City not found. Skipping...\n",
      "Processing Record 46 of set 4 |westminster\n",
      "Processing Record 47 of set 4 |aksu\n",
      "Processing Record 48 of set 4 |umm kaddadah\n",
      "Processing Record 49 of set 4 |port hedland\n",
      "Processing Record 50 of set 4 |padang\n",
      "Processing Record 1 of set 5 |avera\n",
      "Processing Record 2 of set 5 |port elizabeth\n",
      "Processing Record 3 of set 5 |ouallam\n",
      "Processing Record 4 of set 5 |svetlogorsk\n",
      "Processing Record 5 of set 5 |wakefield\n",
      "Processing Record 6 of set 5 |nueva loja\n",
      "Processing Record 7 of set 5 |orlik\n",
      "Processing Record 8 of set 5 |corbu\n",
      "City not found. Skipping...\n",
      "Processing Record 10 of set 5 |miles city\n",
      "Processing Record 11 of set 5 |kalabo\n"
     ]
    },
    {
     "name": "stdout",
     "output_type": "stream",
     "text": [
      "Processing Record 12 of set 5 |dodge city\n",
      "Processing Record 13 of set 5 |chuy\n",
      "Processing Record 14 of set 5 |svetlyy\n",
      "Processing Record 15 of set 5 |awjilah\n",
      "Processing Record 16 of set 5 |ballangen\n",
      "Processing Record 17 of set 5 |cabo san lucas\n",
      "Processing Record 18 of set 5 |kidal\n",
      "Processing Record 19 of set 5 |shellbrook\n",
      "Processing Record 20 of set 5 |belmonte\n",
      "Processing Record 21 of set 5 |belogorsk\n",
      "City not found. Skipping...\n",
      "Processing Record 23 of set 5 |sovetskiy\n",
      "Processing Record 24 of set 5 |stornoway\n",
      "Processing Record 25 of set 5 |puerto ayacucho\n",
      "Processing Record 26 of set 5 |oksfjord\n",
      "Processing Record 27 of set 5 |tuatapere\n",
      "Processing Record 28 of set 5 |beberibe\n",
      "Processing Record 29 of set 5 |bosobolo\n",
      "Processing Record 30 of set 5 |alta floresta\n",
      "Processing Record 31 of set 5 |hemnesberget\n",
      "Processing Record 32 of set 5 |joue-les-tours\n",
      "Processing Record 33 of set 5 |kiunga\n",
      "Processing Record 34 of set 5 |talaya\n",
      "Processing Record 35 of set 5 |baykit\n",
      "Processing Record 36 of set 5 |cururupu\n",
      "Processing Record 37 of set 5 |pimampiro\n",
      "Processing Record 38 of set 5 |zabol\n",
      "Processing Record 39 of set 5 |hualmay\n",
      "Processing Record 40 of set 5 |broome\n",
      "Processing Record 41 of set 5 |arrifes\n",
      "Processing Record 42 of set 5 |khatanga\n",
      "Processing Record 43 of set 5 |port lincoln\n",
      "Processing Record 44 of set 5 |sinj\n",
      "City not found. Skipping...\n",
      "City not found. Skipping...\n",
      "Processing Record 47 of set 5 |itarema\n",
      "Processing Record 48 of set 5 |georgetown\n",
      "Processing Record 49 of set 5 |upernavik\n",
      "Processing Record 50 of set 5 |vallenar\n",
      "Processing Record 1 of set 6 |port-gentil\n",
      "City not found. Skipping...\n",
      "Processing Record 3 of set 6 |garowe\n",
      "Processing Record 4 of set 6 |constitucion\n",
      "Processing Record 5 of set 6 |sivas\n",
      "Processing Record 6 of set 6 |yulara\n",
      "Processing Record 7 of set 6 |aquiraz\n",
      "Processing Record 8 of set 6 |cacahoatan\n",
      "Processing Record 9 of set 6 |aklavik\n",
      "Processing Record 10 of set 6 |yerbogachen\n",
      "Processing Record 11 of set 6 |iqaluit\n",
      "Processing Record 12 of set 6 |yanam\n",
      "Processing Record 13 of set 6 |ust-maya\n",
      "Processing Record 14 of set 6 |san cristobal\n",
      "Processing Record 15 of set 6 |norrtalje\n",
      "Processing Record 16 of set 6 |ilulissat\n",
      "Processing Record 17 of set 6 |koumac\n",
      "Processing Record 18 of set 6 |kollam\n",
      "Processing Record 19 of set 6 |roswell\n",
      "Processing Record 20 of set 6 |utica\n",
      "Processing Record 21 of set 6 |benito juarez\n",
      "Processing Record 22 of set 6 |shimoda\n",
      "Processing Record 23 of set 6 |scarborough\n",
      "Processing Record 24 of set 6 |honiara\n",
      "Processing Record 25 of set 6 |acapulco\n",
      "City not found. Skipping...\n",
      "Processing Record 27 of set 6 |sambava\n",
      "Processing Record 28 of set 6 |carutapera\n",
      "Processing Record 29 of set 6 |longyan\n",
      "Processing Record 30 of set 6 |taguatinga\n",
      "Processing Record 31 of set 6 |khomeyn\n",
      "City not found. Skipping...\n",
      "Processing Record 33 of set 6 |prescott valley\n",
      "Processing Record 34 of set 6 |sao jose da coroa grande\n",
      "Processing Record 35 of set 6 |dabakala\n",
      "Processing Record 36 of set 6 |meiktila\n",
      "Processing Record 37 of set 6 |longyearbyen\n",
      "Processing Record 38 of set 6 |deer lake\n",
      "Processing Record 39 of set 6 |minab\n",
      "Processing Record 40 of set 6 |bandarbeyla\n",
      "Processing Record 41 of set 6 |ponot\n",
      "Processing Record 42 of set 6 |itoman\n",
      "Processing Record 43 of set 6 |khovu-aksy\n",
      "Processing Record 44 of set 6 |inuvik\n",
      "Processing Record 45 of set 6 |mount gambier\n",
      "Processing Record 46 of set 6 |buala\n",
      "Processing Record 47 of set 6 |hasaki\n",
      "Processing Record 48 of set 6 |chipinge\n",
      "Processing Record 49 of set 6 |alofi\n",
      "Processing Record 50 of set 6 |wajir\n",
      "Processing Record 1 of set 7 |yingcheng\n",
      "Processing Record 2 of set 7 |klyuchevskiy\n",
      "Processing Record 3 of set 7 |shingu\n",
      "Processing Record 4 of set 7 |noumea\n",
      "Processing Record 5 of set 7 |gombe\n",
      "Processing Record 6 of set 7 |clarence town\n",
      "City not found. Skipping...\n",
      "Processing Record 8 of set 7 |zhireken\n",
      "Processing Record 9 of set 7 |kautokeino\n",
      "Processing Record 10 of set 7 |pangnirtung\n",
      "Processing Record 11 of set 7 |xinqing\n",
      "Processing Record 12 of set 7 |phalaborwa\n",
      "Processing Record 13 of set 7 |port hardy\n",
      "Processing Record 14 of set 7 |mahebourg\n",
      "Processing Record 15 of set 7 |banff\n",
      "Processing Record 16 of set 7 |mar del plata\n",
      "Processing Record 17 of set 7 |kishtwar\n",
      "Processing Record 18 of set 7 |kuyanovo\n",
      "Processing Record 19 of set 7 |tilichiki\n",
      "Processing Record 20 of set 7 |havre-saint-pierre\n",
      "Processing Record 21 of set 7 |kaeo\n",
      "Processing Record 22 of set 7 |dalhem\n",
      "Processing Record 23 of set 7 |norman wells\n",
      "Processing Record 24 of set 7 |nanortalik\n",
      "Processing Record 25 of set 7 |iracoubo\n",
      "Processing Record 26 of set 7 |kropotkin\n",
      "Processing Record 27 of set 7 |souillac\n",
      "Processing Record 28 of set 7 |christchurch\n",
      "Processing Record 29 of set 7 |yantongshan\n",
      "Processing Record 30 of set 7 |fortuna\n",
      "Processing Record 31 of set 7 |kaitangata\n",
      "Processing Record 32 of set 7 |phibun mangsahan\n",
      "Processing Record 33 of set 7 |nikolskoye\n",
      "Processing Record 34 of set 7 |serra\n",
      "Processing Record 35 of set 7 |san quintin\n",
      "Processing Record 36 of set 7 |te anau\n",
      "Processing Record 37 of set 7 |tevriz\n",
      "Processing Record 38 of set 7 |galway\n",
      "Processing Record 39 of set 7 |rawson\n",
      "Processing Record 40 of set 7 |draguignan\n",
      "Processing Record 41 of set 7 |fonte boa\n",
      "Processing Record 42 of set 7 |dolinsk\n",
      "Processing Record 43 of set 7 |nautla\n",
      "Processing Record 44 of set 7 |karema\n",
      "Processing Record 45 of set 7 |kavaratti\n",
      "Processing Record 46 of set 7 |young\n",
      "Processing Record 47 of set 7 |penzance\n",
      "City not found. Skipping...\n",
      "City not found. Skipping...\n",
      "Processing Record 50 of set 7 |hambantota\n",
      "Processing Record 1 of set 8 |riyadh\n",
      "Processing Record 2 of set 8 |olonets\n",
      "Processing Record 3 of set 8 |cayenne\n",
      "Processing Record 4 of set 8 |neyshabur\n",
      "Processing Record 5 of set 8 |ampanihy\n",
      "Processing Record 6 of set 8 |hohhot\n",
      "Processing Record 7 of set 8 |gomel\n",
      "Processing Record 8 of set 8 |impfondo\n",
      "Processing Record 9 of set 8 |shiraz\n",
      "Processing Record 10 of set 8 |arkhangelsk\n",
      "Processing Record 11 of set 8 |half moon bay\n",
      "Processing Record 12 of set 8 |sendenhorst\n",
      "Processing Record 13 of set 8 |upata\n",
      "Processing Record 14 of set 8 |safut\n",
      "Processing Record 15 of set 8 |poopo\n",
      "Processing Record 16 of set 8 |taft\n",
      "Processing Record 17 of set 8 |saint-gaudens\n",
      "Processing Record 18 of set 8 |sur\n",
      "City not found. Skipping...\n",
      "Processing Record 20 of set 8 |zhigansk\n",
      "Processing Record 21 of set 8 |jining\n",
      "City not found. Skipping...\n",
      "Processing Record 23 of set 8 |adrar\n",
      "Processing Record 24 of set 8 |whitianga\n",
      "Processing Record 25 of set 8 |kandrian\n",
      "Processing Record 26 of set 8 |bunda\n",
      "Processing Record 27 of set 8 |deputatskiy\n",
      "Processing Record 28 of set 8 |cobija\n",
      "Processing Record 29 of set 8 |esperance\n",
      "Processing Record 30 of set 8 |rocha\n",
      "Processing Record 31 of set 8 |victoria\n",
      "Processing Record 32 of set 8 |waipawa\n",
      "Processing Record 33 of set 8 |plyussa\n",
      "Processing Record 34 of set 8 |saint-augustin\n",
      "Processing Record 35 of set 8 |mitsamiouli\n",
      "Processing Record 36 of set 8 |altay\n",
      "Processing Record 37 of set 8 |progreso\n",
      "Processing Record 38 of set 8 |bagan\n",
      "Processing Record 39 of set 8 |bijie\n",
      "Processing Record 40 of set 8 |caluquembe\n",
      "Processing Record 41 of set 8 |gazli\n",
      "Processing Record 42 of set 8 |mayor pablo lagerenza\n",
      "City not found. Skipping...\n",
      "Processing Record 44 of set 8 |caraballeda\n",
      "Processing Record 45 of set 8 |dubreka\n",
      "Processing Record 46 of set 8 |beringovskiy\n",
      "Processing Record 47 of set 8 |lavrentiya\n",
      "Processing Record 48 of set 8 |santa cruz\n",
      "Processing Record 49 of set 8 |cao bang\n",
      "Processing Record 50 of set 8 |korla\n",
      "Processing Record 1 of set 9 |cochrane\n",
      "Processing Record 2 of set 9 |mayo\n",
      "Processing Record 3 of set 9 |roald\n",
      "Processing Record 4 of set 9 |ponta do sol\n",
      "Processing Record 5 of set 9 |urdoma\n",
      "City not found. Skipping...\n",
      "Processing Record 7 of set 9 |valparaiso\n",
      "Processing Record 8 of set 9 |ngunguru\n",
      "Processing Record 9 of set 9 |evensk\n",
      "Processing Record 10 of set 9 |inirida\n",
      "Processing Record 11 of set 9 |cap malheureux\n",
      "Processing Record 12 of set 9 |vizinga\n",
      "Processing Record 13 of set 9 |kuching\n",
      "Processing Record 14 of set 9 |nanakuli\n",
      "Processing Record 15 of set 9 |mehamn\n",
      "City not found. Skipping...\n",
      "Processing Record 17 of set 9 |hutang\n",
      "Processing Record 18 of set 9 |rio grande\n",
      "Processing Record 19 of set 9 |tamale\n",
      "Processing Record 20 of set 9 |maumere\n"
     ]
    },
    {
     "name": "stdout",
     "output_type": "stream",
     "text": [
      "Processing Record 21 of set 9 |wanaka\n",
      "Processing Record 22 of set 9 |praia da vitoria\n",
      "Processing Record 23 of set 9 |lagoa\n",
      "Processing Record 24 of set 9 |tessalit\n",
      "Processing Record 25 of set 9 |wonthaggi\n",
      "Processing Record 26 of set 9 |narsaq\n",
      "Processing Record 27 of set 9 |takoradi\n",
      "Processing Record 28 of set 9 |tevaitoa\n",
      "Processing Record 29 of set 9 |moose jaw\n",
      "Processing Record 30 of set 9 |kotido\n",
      "Processing Record 31 of set 9 |sumbe\n",
      "Processing Record 32 of set 9 |coahuayana\n",
      "City not found. Skipping...\n",
      "Processing Record 34 of set 9 |provideniya\n",
      "Processing Record 35 of set 9 |dudinka\n",
      "Processing Record 36 of set 9 |galesong\n",
      "Processing Record 37 of set 9 |axioupoli\n",
      "Processing Record 38 of set 9 |lerwick\n",
      "Processing Record 39 of set 9 |abu dhabi\n",
      "Processing Record 40 of set 9 |mount isa\n",
      "Processing Record 41 of set 9 |lata\n",
      "Processing Record 42 of set 9 |road town\n",
      "Processing Record 43 of set 9 |pallisa\n",
      "Processing Record 44 of set 9 |naze\n",
      "Processing Record 45 of set 9 |abu kamal\n",
      "Processing Record 46 of set 9 |nampula\n",
      "Processing Record 47 of set 9 |gejiu\n",
      "Processing Record 48 of set 9 |camana\n",
      "Processing Record 49 of set 9 |albrechtice\n",
      "City not found. Skipping...\n",
      "Processing Record 1 of set 10 |mandok\n",
      "Processing Record 2 of set 10 |nome\n",
      "Processing Record 3 of set 10 |boulder city\n",
      "Processing Record 4 of set 10 |mulanje\n",
      "Processing Record 5 of set 10 |qasigiannguit\n",
      "Processing Record 6 of set 10 |rantepao\n",
      "Processing Record 7 of set 10 |gunnedah\n",
      "Processing Record 8 of set 10 |ojinaga\n",
      "Processing Record 9 of set 10 |kattivakkam\n",
      "Processing Record 10 of set 10 |batetskiy\n",
      "Processing Record 11 of set 10 |ciudad bolivar\n",
      "City not found. Skipping...\n",
      "Processing Record 13 of set 10 |asyut\n",
      "Processing Record 14 of set 10 |taitung\n",
      "Processing Record 15 of set 10 |san ignacio\n",
      "Processing Record 16 of set 10 |yei\n",
      "Processing Record 17 of set 10 |coquimbo\n",
      "Processing Record 18 of set 10 |taree\n",
      "City not found. Skipping...\n",
      "Processing Record 20 of set 10 |marzuq\n",
      "Processing Record 21 of set 10 |mankono\n",
      "Processing Record 22 of set 10 |karaton\n",
      "Processing Record 23 of set 10 |pisco\n",
      "Processing Record 24 of set 10 |sao filipe\n",
      "Processing Record 25 of set 10 |juegang\n",
      "Processing Record 26 of set 10 |gondanglegi\n",
      "Processing Record 27 of set 10 |lancaster\n",
      "Processing Record 28 of set 10 |revelstoke\n",
      "Processing Record 29 of set 10 |clearlake\n",
      "Processing Record 30 of set 10 |bintulu\n",
      "Processing Record 31 of set 10 |malindi\n",
      "Processing Record 32 of set 10 |cuicatlan\n",
      "Processing Record 33 of set 10 |kununurra\n",
      "Processing Record 34 of set 10 |kutum\n",
      "Processing Record 35 of set 10 |carnarvon\n",
      "Processing Record 36 of set 10 |vodnyy\n",
      "City not found. Skipping...\n",
      "Processing Record 38 of set 10 |santa vitoria\n",
      "Processing Record 39 of set 10 |palu\n",
      "Processing Record 40 of set 10 |akdepe\n",
      "Processing Record 41 of set 10 |ulladulla\n",
      "Processing Record 42 of set 10 |vanavara\n",
      "Processing Record 43 of set 10 |chernyshevskiy\n",
      "Processing Record 44 of set 10 |sabha\n",
      "Processing Record 45 of set 10 |palitana\n",
      "Processing Record 46 of set 10 |cluses\n",
      "Processing Record 47 of set 10 |tomohon\n",
      "Processing Record 48 of set 10 |villarrica\n",
      "City not found. Skipping...\n",
      "Processing Record 50 of set 10 |margate\n",
      "City not found. Skipping...\n",
      "Processing Record 2 of set 11 |byron bay\n",
      "Processing Record 3 of set 11 |bemidji\n",
      "Processing Record 4 of set 11 |saint-georges\n",
      "Processing Record 5 of set 11 |anchorage\n",
      "Processing Record 6 of set 11 |paamiut\n",
      "Processing Record 7 of set 11 |filadelfia\n",
      "Processing Record 8 of set 11 |shelburne\n",
      "Processing Record 9 of set 11 |madona\n",
      "Processing Record 10 of set 11 |rossano\n",
      "Processing Record 11 of set 11 |maarianhamina\n",
      "Processing Record 12 of set 11 |nchelenge\n",
      "Processing Record 13 of set 11 |wamba\n",
      "Processing Record 14 of set 11 |hamilton\n",
      "Processing Record 15 of set 11 |sitka\n",
      "Processing Record 16 of set 11 |praxedis guerrero\n",
      "Processing Record 17 of set 11 |hauterive\n",
      "City not found. Skipping...\n",
      "Processing Record 19 of set 11 |melo\n",
      "Processing Record 20 of set 11 |yarada\n",
      "Processing Record 21 of set 11 |sao felix do xingu\n",
      "Processing Record 22 of set 11 |escarcega\n",
      "Processing Record 23 of set 11 |cheremshan\n",
      "Processing Record 24 of set 11 |sao joao da barra\n",
      "Processing Record 25 of set 11 |moose factory\n",
      "City not found. Skipping...\n",
      "Processing Record 27 of set 11 |rivers\n",
      "Processing Record 28 of set 11 |haines junction\n",
      "Processing Record 29 of set 11 |rudnogorsk\n",
      "Processing Record 30 of set 11 |lyamino\n",
      "Processing Record 31 of set 11 |cordoba\n",
      "Processing Record 32 of set 11 |leh\n",
      "Processing Record 33 of set 11 |faya\n",
      "Processing Record 34 of set 11 |yangjiang\n",
      "Processing Record 35 of set 11 |vibo valentia\n",
      "Processing Record 36 of set 11 |dalianwan\n",
      "Processing Record 37 of set 11 |roma\n",
      "City not found. Skipping...\n",
      "Processing Record 39 of set 11 |rio gallegos\n",
      "Processing Record 40 of set 11 |mundo nuevo\n",
      "Processing Record 41 of set 11 |lourdes\n",
      "Processing Record 42 of set 11 |mount darwin\n",
      "Processing Record 43 of set 11 |berlevag\n",
      "Processing Record 44 of set 11 |tiznit\n",
      "Processing Record 45 of set 11 |skibbereen\n",
      "Processing Record 46 of set 11 |sain alto\n",
      "Processing Record 47 of set 11 |santa rosa\n",
      "Processing Record 48 of set 11 |benguela\n",
      "Processing Record 49 of set 11 |maloy\n",
      "Processing Record 50 of set 11 |kachug\n",
      "Processing Record 1 of set 12 |tiarei\n",
      "Processing Record 2 of set 12 |le port\n",
      "Processing Record 3 of set 12 |bato\n",
      "Processing Record 4 of set 12 |phek\n",
      "Processing Record 5 of set 12 |wakkanai\n",
      "Processing Record 6 of set 12 |rio cuarto\n",
      "Processing Record 7 of set 12 |smila\n",
      "Processing Record 8 of set 12 |aipe\n",
      "Processing Record 9 of set 12 |kihei\n",
      "Processing Record 10 of set 12 |nenjiang\n",
      "Processing Record 11 of set 12 |nelson bay\n",
      "Processing Record 12 of set 12 |taksimo\n",
      "Processing Record 13 of set 12 |saint-paul\n",
      "Processing Record 14 of set 12 |maragogi\n",
      "Processing Record 15 of set 12 |hami\n",
      "Processing Record 16 of set 12 |zhuzhou\n",
      "Processing Record 17 of set 12 |chippewa falls\n",
      "Processing Record 18 of set 12 |vicente guerrero\n",
      "City not found. Skipping...\n",
      "Processing Record 20 of set 12 |kaseda\n",
      "Processing Record 21 of set 12 |laiyang\n",
      "Processing Record 22 of set 12 |komsomolskiy\n",
      "City not found. Skipping...\n",
      "Processing Record 24 of set 12 |fukue\n",
      "City not found. Skipping...\n",
      "Processing Record 26 of set 12 |zastron\n",
      "Processing Record 27 of set 12 |lompoc\n",
      "Processing Record 28 of set 12 |grande-synthe\n",
      "Processing Record 29 of set 12 |kalemie\n",
      "Processing Record 30 of set 12 |mocuba\n",
      "Processing Record 31 of set 12 |coihaique\n",
      "Processing Record 32 of set 12 |saint anthony\n",
      "Processing Record 33 of set 12 |odweyne\n",
      "Processing Record 34 of set 12 |corinto\n",
      "Processing Record 35 of set 12 |dubrovnik\n",
      "Processing Record 36 of set 12 |ukiah\n",
      "Processing Record 37 of set 12 |la orilla\n",
      "Processing Record 38 of set 12 |gobabis\n",
      "Processing Record 39 of set 12 |port macquarie\n",
      "Processing Record 40 of set 12 |clyde river\n",
      "Processing Record 41 of set 12 |blagodatnoye\n",
      "Processing Record 42 of set 12 |northam\n",
      "Processing Record 43 of set 12 |chapais\n",
      "Processing Record 44 of set 12 |beyneu\n",
      "Processing Record 45 of set 12 |tamandare\n",
      "Processing Record 46 of set 12 |vygonichi\n",
      "Processing Record 47 of set 12 |orotukan\n",
      "City not found. Skipping...\n",
      "Processing Record 49 of set 12 |bulgan\n",
      "Processing Record 50 of set 12 |pontes e lacerda\n",
      "Processing Record 1 of set 13 |togul\n",
      "Processing Record 2 of set 13 |tarko-sale\n",
      "Processing Record 3 of set 13 |humaita\n",
      "Processing Record 4 of set 13 |labuhan\n",
      "Processing Record 5 of set 13 |birjand\n",
      "Processing Record 6 of set 13 |kumla\n",
      "City not found. Skipping...\n",
      "Processing Record 8 of set 13 |egvekinot\n",
      "Processing Record 9 of set 13 |maldonado\n",
      "Processing Record 10 of set 13 |muros\n",
      "Processing Record 11 of set 13 |malaya serdoba\n",
      "Processing Record 12 of set 13 |jhudo\n",
      "Processing Record 13 of set 13 |umba\n",
      "Processing Record 14 of set 13 |afogados da ingazeira\n",
      "Processing Record 15 of set 13 |micheweni\n",
      "Processing Record 16 of set 13 |jalu\n",
      "Processing Record 17 of set 13 |hongjiang\n",
      "Processing Record 18 of set 13 |raglan\n",
      "Processing Record 19 of set 13 |bull savanna\n",
      "Processing Record 20 of set 13 |taltal\n",
      "Processing Record 21 of set 13 |jiangyou\n",
      "Processing Record 22 of set 13 |rio grande city\n",
      "Processing Record 23 of set 13 |ostrovnoy\n",
      "Processing Record 24 of set 13 |pandharpur\n",
      "Processing Record 25 of set 13 |nushki\n"
     ]
    },
    {
     "name": "stdout",
     "output_type": "stream",
     "text": [
      "Processing Record 26 of set 13 |auxerre\n"
     ]
    }
   ],
   "source": [
    "\n",
    "# set up lists to hold reponse info\n",
    "city_checked=[]\n",
    "lng = []\n",
    "lat = []\n",
    "temp = []\n",
    "humidity = []\n",
    "wind = []\n",
    "cloud = []\n",
    "country = []\n",
    "date=[]\n",
    "record_count=0\n",
    "set_count=0\n",
    "\n",
    "\n",
    "# Loop through the list of cities and perform a request for data on each city\n",
    "\n",
    "    \n",
    "for i, city in enumerate(cities):\n",
    "    set_count = i // 50 + 1\n",
    "    record_count= i % 50 + 1 \n",
    "\n",
    "    try:\n",
    "        response = requests.get(query_url + city).json()  \n",
    "        city_checked.append(response['name'])\n",
    "        lng.append(response['coord']['lon'])\n",
    "        lat.append(response['coord']['lat'])\n",
    "        temp.append(response['main']['temp_max'])\n",
    "        humidity.append(response['main']['humidity'])\n",
    "        wind.append(response['wind']['speed'])\n",
    "        cloud.append(response['clouds']['all'])\n",
    "        date.append(response['dt'])\n",
    "        country.append(response['sys']['country'])\n",
    "\n",
    "            #print a print log of each city as it'sbeing processed (with the city number and city name)\n",
    "        print(f\"Processing Record {record_count} of set {set_count} |{city}\")\n",
    "    except (KeyError, IndexError):\n",
    "        print(\"City not found. Skipping...\")\n",
    "\n",
    "      "
   ]
  },
  {
   "cell_type": "code",
   "execution_count": null,
   "metadata": {},
   "outputs": [],
   "source": []
  },
  {
   "cell_type": "markdown",
   "metadata": {},
   "source": [
    "### Convert Raw Data to DataFrame\n",
    "* Export the city data into a .csv.\n",
    "* Display the DataFrame"
   ]
  },
  {
   "cell_type": "code",
   "execution_count": 8,
   "metadata": {},
   "outputs": [],
   "source": [
    "# create a data frame from cities, lat, and temp\n",
    "weather_dict = {\n",
    "    \"city\": city_checked,\n",
    "    \"lng\": lng,\n",
    "    \"lat\": lat,\n",
    "    \"Max Temp\": temp,\n",
    "    \"Humidity\": humidity,\n",
    "    \"Wind Speed\": wind,\n",
    "    \"Cloudiness\": cloud,\n",
    "    \"Country\": country,\n",
    "    \"Date\": date\n",
    "    \n",
    "}\n",
    "weather_data = pd.DataFrame(weather_dict)"
   ]
  },
  {
   "cell_type": "code",
   "execution_count": 9,
   "metadata": {},
   "outputs": [
    {
     "data": {
      "text/html": [
       "<div>\n",
       "<style scoped>\n",
       "    .dataframe tbody tr th:only-of-type {\n",
       "        vertical-align: middle;\n",
       "    }\n",
       "\n",
       "    .dataframe tbody tr th {\n",
       "        vertical-align: top;\n",
       "    }\n",
       "\n",
       "    .dataframe thead th {\n",
       "        text-align: right;\n",
       "    }\n",
       "</style>\n",
       "<table border=\"1\" class=\"dataframe\">\n",
       "  <thead>\n",
       "    <tr style=\"text-align: right;\">\n",
       "      <th></th>\n",
       "      <th>city</th>\n",
       "      <th>lng</th>\n",
       "      <th>lat</th>\n",
       "      <th>Max Temp</th>\n",
       "      <th>Humidity</th>\n",
       "      <th>Wind Speed</th>\n",
       "      <th>Cloudiness</th>\n",
       "      <th>Country</th>\n",
       "      <th>Date</th>\n",
       "    </tr>\n",
       "  </thead>\n",
       "  <tbody>\n",
       "    <tr>\n",
       "      <th>0</th>\n",
       "      <td>Kunming</td>\n",
       "      <td>102.7183</td>\n",
       "      <td>25.0389</td>\n",
       "      <td>26.20</td>\n",
       "      <td>51</td>\n",
       "      <td>4.19</td>\n",
       "      <td>100</td>\n",
       "      <td>CN</td>\n",
       "      <td>1624010465</td>\n",
       "    </tr>\n",
       "    <tr>\n",
       "      <th>1</th>\n",
       "      <td>Cherskiy</td>\n",
       "      <td>161.3000</td>\n",
       "      <td>68.7500</td>\n",
       "      <td>3.33</td>\n",
       "      <td>76</td>\n",
       "      <td>6.91</td>\n",
       "      <td>100</td>\n",
       "      <td>RU</td>\n",
       "      <td>1624010598</td>\n",
       "    </tr>\n",
       "    <tr>\n",
       "      <th>2</th>\n",
       "      <td>Along</td>\n",
       "      <td>94.7667</td>\n",
       "      <td>28.1667</td>\n",
       "      <td>27.77</td>\n",
       "      <td>91</td>\n",
       "      <td>0.95</td>\n",
       "      <td>100</td>\n",
       "      <td>IN</td>\n",
       "      <td>1624010598</td>\n",
       "    </tr>\n",
       "    <tr>\n",
       "      <th>3</th>\n",
       "      <td>Avarua</td>\n",
       "      <td>-159.7750</td>\n",
       "      <td>-21.2078</td>\n",
       "      <td>25.30</td>\n",
       "      <td>84</td>\n",
       "      <td>8.71</td>\n",
       "      <td>100</td>\n",
       "      <td>CK</td>\n",
       "      <td>1624010598</td>\n",
       "    </tr>\n",
       "    <tr>\n",
       "      <th>4</th>\n",
       "      <td>Chokurdakh</td>\n",
       "      <td>147.9167</td>\n",
       "      <td>70.6333</td>\n",
       "      <td>13.92</td>\n",
       "      <td>38</td>\n",
       "      <td>1.50</td>\n",
       "      <td>86</td>\n",
       "      <td>RU</td>\n",
       "      <td>1624010598</td>\n",
       "    </tr>\n",
       "  </tbody>\n",
       "</table>\n",
       "</div>"
      ],
      "text/plain": [
       "         city       lng      lat  Max Temp  Humidity  Wind Speed  Cloudiness  \\\n",
       "0     Kunming  102.7183  25.0389     26.20        51        4.19         100   \n",
       "1    Cherskiy  161.3000  68.7500      3.33        76        6.91         100   \n",
       "2       Along   94.7667  28.1667     27.77        91        0.95         100   \n",
       "3      Avarua -159.7750 -21.2078     25.30        84        8.71         100   \n",
       "4  Chokurdakh  147.9167  70.6333     13.92        38        1.50          86   \n",
       "\n",
       "  Country        Date  \n",
       "0      CN  1624010465  \n",
       "1      RU  1624010598  \n",
       "2      IN  1624010598  \n",
       "3      CK  1624010598  \n",
       "4      RU  1624010598  "
      ]
     },
     "execution_count": 9,
     "metadata": {},
     "output_type": "execute_result"
    }
   ],
   "source": [
    "# Save the updated dataframe as a csv\n",
    "weather_data.to_csv(\"../output_data/weather_data.csv\", encoding=\"utf-8\", index=False)\n",
    "weather_data.head()"
   ]
  },
  {
   "cell_type": "code",
   "execution_count": 10,
   "metadata": {},
   "outputs": [
    {
     "name": "stdout",
     "output_type": "stream",
     "text": [
      "<class 'pandas.core.frame.DataFrame'>\n",
      "RangeIndex: 576 entries, 0 to 575\n",
      "Data columns (total 9 columns):\n",
      " #   Column      Non-Null Count  Dtype  \n",
      "---  ------      --------------  -----  \n",
      " 0   city        576 non-null    object \n",
      " 1   lng         576 non-null    float64\n",
      " 2   lat         576 non-null    float64\n",
      " 3   Max Temp    576 non-null    float64\n",
      " 4   Humidity    576 non-null    int64  \n",
      " 5   Wind Speed  576 non-null    float64\n",
      " 6   Cloudiness  576 non-null    int64  \n",
      " 7   Country     576 non-null    object \n",
      " 8   Date        576 non-null    int64  \n",
      "dtypes: float64(4), int64(3), object(2)\n",
      "memory usage: 40.6+ KB\n"
     ]
    }
   ],
   "source": [
    "weather_data.info()"
   ]
  },
  {
   "cell_type": "code",
   "execution_count": null,
   "metadata": {},
   "outputs": [],
   "source": []
  },
  {
   "cell_type": "markdown",
   "metadata": {},
   "source": [
    "## Inspect the data and remove the cities where the humidity > 100%.\n",
    "----\n",
    "Skip this step if there are no cities that have humidity > 100%. "
   ]
  },
  {
   "cell_type": "code",
   "execution_count": 11,
   "metadata": {},
   "outputs": [
    {
     "data": {
      "text/html": [
       "<div>\n",
       "<style scoped>\n",
       "    .dataframe tbody tr th:only-of-type {\n",
       "        vertical-align: middle;\n",
       "    }\n",
       "\n",
       "    .dataframe tbody tr th {\n",
       "        vertical-align: top;\n",
       "    }\n",
       "\n",
       "    .dataframe thead th {\n",
       "        text-align: right;\n",
       "    }\n",
       "</style>\n",
       "<table border=\"1\" class=\"dataframe\">\n",
       "  <thead>\n",
       "    <tr style=\"text-align: right;\">\n",
       "      <th></th>\n",
       "      <th>lng</th>\n",
       "      <th>lat</th>\n",
       "      <th>Max Temp</th>\n",
       "      <th>Humidity</th>\n",
       "      <th>Wind Speed</th>\n",
       "      <th>Cloudiness</th>\n",
       "      <th>Date</th>\n",
       "    </tr>\n",
       "  </thead>\n",
       "  <tbody>\n",
       "    <tr>\n",
       "      <th>count</th>\n",
       "      <td>576.000000</td>\n",
       "      <td>576.000000</td>\n",
       "      <td>576.000000</td>\n",
       "      <td>576.000000</td>\n",
       "      <td>576.000000</td>\n",
       "      <td>576.000000</td>\n",
       "      <td>5.760000e+02</td>\n",
       "    </tr>\n",
       "    <tr>\n",
       "      <th>mean</th>\n",
       "      <td>18.600995</td>\n",
       "      <td>20.100884</td>\n",
       "      <td>20.626736</td>\n",
       "      <td>66.741319</td>\n",
       "      <td>3.485417</td>\n",
       "      <td>54.239583</td>\n",
       "      <td>1.624011e+09</td>\n",
       "    </tr>\n",
       "    <tr>\n",
       "      <th>std</th>\n",
       "      <td>90.186536</td>\n",
       "      <td>33.332657</td>\n",
       "      <td>8.924992</td>\n",
       "      <td>23.613278</td>\n",
       "      <td>2.364511</td>\n",
       "      <td>39.467343</td>\n",
       "      <td>8.410949e+01</td>\n",
       "    </tr>\n",
       "    <tr>\n",
       "      <th>min</th>\n",
       "      <td>-179.166700</td>\n",
       "      <td>-54.800000</td>\n",
       "      <td>-6.030000</td>\n",
       "      <td>3.000000</td>\n",
       "      <td>0.000000</td>\n",
       "      <td>0.000000</td>\n",
       "      <td>1.624010e+09</td>\n",
       "    </tr>\n",
       "    <tr>\n",
       "      <th>25%</th>\n",
       "      <td>-60.697925</td>\n",
       "      <td>-7.840600</td>\n",
       "      <td>14.065000</td>\n",
       "      <td>54.000000</td>\n",
       "      <td>1.790000</td>\n",
       "      <td>9.000000</td>\n",
       "      <td>1.624011e+09</td>\n",
       "    </tr>\n",
       "    <tr>\n",
       "      <th>50%</th>\n",
       "      <td>22.269500</td>\n",
       "      <td>24.602200</td>\n",
       "      <td>22.070000</td>\n",
       "      <td>72.000000</td>\n",
       "      <td>3.060000</td>\n",
       "      <td>60.500000</td>\n",
       "      <td>1.624011e+09</td>\n",
       "    </tr>\n",
       "    <tr>\n",
       "      <th>75%</th>\n",
       "      <td>100.035625</td>\n",
       "      <td>49.170850</td>\n",
       "      <td>26.760000</td>\n",
       "      <td>85.000000</td>\n",
       "      <td>4.857500</td>\n",
       "      <td>96.000000</td>\n",
       "      <td>1.624011e+09</td>\n",
       "    </tr>\n",
       "    <tr>\n",
       "      <th>max</th>\n",
       "      <td>179.316700</td>\n",
       "      <td>78.218600</td>\n",
       "      <td>41.710000</td>\n",
       "      <td>100.000000</td>\n",
       "      <td>12.870000</td>\n",
       "      <td>100.000000</td>\n",
       "      <td>1.624011e+09</td>\n",
       "    </tr>\n",
       "  </tbody>\n",
       "</table>\n",
       "</div>"
      ],
      "text/plain": [
       "              lng         lat    Max Temp    Humidity  Wind Speed  Cloudiness  \\\n",
       "count  576.000000  576.000000  576.000000  576.000000  576.000000  576.000000   \n",
       "mean    18.600995   20.100884   20.626736   66.741319    3.485417   54.239583   \n",
       "std     90.186536   33.332657    8.924992   23.613278    2.364511   39.467343   \n",
       "min   -179.166700  -54.800000   -6.030000    3.000000    0.000000    0.000000   \n",
       "25%    -60.697925   -7.840600   14.065000   54.000000    1.790000    9.000000   \n",
       "50%     22.269500   24.602200   22.070000   72.000000    3.060000   60.500000   \n",
       "75%    100.035625   49.170850   26.760000   85.000000    4.857500   96.000000   \n",
       "max    179.316700   78.218600   41.710000  100.000000   12.870000  100.000000   \n",
       "\n",
       "               Date  \n",
       "count  5.760000e+02  \n",
       "mean   1.624011e+09  \n",
       "std    8.410949e+01  \n",
       "min    1.624010e+09  \n",
       "25%    1.624011e+09  \n",
       "50%    1.624011e+09  \n",
       "75%    1.624011e+09  \n",
       "max    1.624011e+09  "
      ]
     },
     "execution_count": 11,
     "metadata": {},
     "output_type": "execute_result"
    }
   ],
   "source": [
    "weather_data_path=\"../output_data/weather_data.csv\"\n",
    "weather_data_df=pd.read_csv(weather_data_path,encoding=\"utf-8\")\n",
    "weather_data_df.describe()"
   ]
  },
  {
   "cell_type": "code",
   "execution_count": 12,
   "metadata": {},
   "outputs": [
    {
     "name": "stdout",
     "output_type": "stream",
     "text": [
      "            city       lng      lat  Max Temp  Humidity  Wind Speed  \\\n",
      "10         Vaini -175.2000 -21.2000     21.09       100        1.54   \n",
      "185   Nueva Loja  -76.8828   0.0847     20.51       100        0.15   \n",
      "312    Fonte Boa  -66.2662  -2.4959     21.47       100        0.54   \n",
      "375      Inírida  -67.9239   3.8653     21.89       100        0.34   \n",
      "426  San Ignacio  -89.0714  17.1561     22.08       100        0.00   \n",
      "428     Coquimbo  -71.3436 -29.9533      9.85       100        2.06   \n",
      "510   Río Cuarto  -64.3499 -33.1307      2.87       100        3.60   \n",
      "541  Clyde River  -68.5914  70.4692      0.13       100        3.09   \n",
      "\n",
      "     Cloudiness Country        Date  \n",
      "10           20      TO  1624010600  \n",
      "185         100      EC  1624010649  \n",
      "312          52      BR  1624010683  \n",
      "375          90      CO  1624010701  \n",
      "426          75      BZ  1624010715  \n",
      "428          90      CL  1624010716  \n",
      "510          90      AR  1624010738  \n",
      "541          90      CA  1624010747  \n"
     ]
    }
   ],
   "source": [
    "#  Get the indices of cities that have humidity equal or over 100%.\n",
    "\n",
    "Humidity_100=weather_data_df.loc[weather_data_df[\"Humidity\"]>=100]\n",
    "\n",
    "print (Humidity_100)\n",
    "\n"
   ]
  },
  {
   "cell_type": "code",
   "execution_count": 13,
   "metadata": {},
   "outputs": [
    {
     "data": {
      "text/plain": [
       "Int64Index([10, 185, 312, 375, 426, 428, 510, 541], dtype='int64')"
      ]
     },
     "execution_count": 13,
     "metadata": {},
     "output_type": "execute_result"
    }
   ],
   "source": [
    "#check the index of cities with humidity equal or over 100\n",
    "# Make a new DataFrame equal to the city data to drop all humidity outliers by index.\n",
    "Humidity_100.index"
   ]
  },
  {
   "cell_type": "code",
   "execution_count": 14,
   "metadata": {},
   "outputs": [
    {
     "data": {
      "text/html": [
       "<div>\n",
       "<style scoped>\n",
       "    .dataframe tbody tr th:only-of-type {\n",
       "        vertical-align: middle;\n",
       "    }\n",
       "\n",
       "    .dataframe tbody tr th {\n",
       "        vertical-align: top;\n",
       "    }\n",
       "\n",
       "    .dataframe thead th {\n",
       "        text-align: right;\n",
       "    }\n",
       "</style>\n",
       "<table border=\"1\" class=\"dataframe\">\n",
       "  <thead>\n",
       "    <tr style=\"text-align: right;\">\n",
       "      <th></th>\n",
       "      <th>city</th>\n",
       "      <th>lng</th>\n",
       "      <th>lat</th>\n",
       "      <th>Max Temp</th>\n",
       "      <th>Humidity</th>\n",
       "      <th>Wind Speed</th>\n",
       "      <th>Cloudiness</th>\n",
       "      <th>Country</th>\n",
       "      <th>Date</th>\n",
       "    </tr>\n",
       "  </thead>\n",
       "  <tbody>\n",
       "    <tr>\n",
       "      <th>0</th>\n",
       "      <td>Kunming</td>\n",
       "      <td>102.7183</td>\n",
       "      <td>25.0389</td>\n",
       "      <td>26.20</td>\n",
       "      <td>51</td>\n",
       "      <td>4.19</td>\n",
       "      <td>100</td>\n",
       "      <td>CN</td>\n",
       "      <td>1624010465</td>\n",
       "    </tr>\n",
       "    <tr>\n",
       "      <th>1</th>\n",
       "      <td>Cherskiy</td>\n",
       "      <td>161.3000</td>\n",
       "      <td>68.7500</td>\n",
       "      <td>3.33</td>\n",
       "      <td>76</td>\n",
       "      <td>6.91</td>\n",
       "      <td>100</td>\n",
       "      <td>RU</td>\n",
       "      <td>1624010598</td>\n",
       "    </tr>\n",
       "    <tr>\n",
       "      <th>2</th>\n",
       "      <td>Along</td>\n",
       "      <td>94.7667</td>\n",
       "      <td>28.1667</td>\n",
       "      <td>27.77</td>\n",
       "      <td>91</td>\n",
       "      <td>0.95</td>\n",
       "      <td>100</td>\n",
       "      <td>IN</td>\n",
       "      <td>1624010598</td>\n",
       "    </tr>\n",
       "    <tr>\n",
       "      <th>3</th>\n",
       "      <td>Avarua</td>\n",
       "      <td>-159.7750</td>\n",
       "      <td>-21.2078</td>\n",
       "      <td>25.30</td>\n",
       "      <td>84</td>\n",
       "      <td>8.71</td>\n",
       "      <td>100</td>\n",
       "      <td>CK</td>\n",
       "      <td>1624010598</td>\n",
       "    </tr>\n",
       "    <tr>\n",
       "      <th>4</th>\n",
       "      <td>Chokurdakh</td>\n",
       "      <td>147.9167</td>\n",
       "      <td>70.6333</td>\n",
       "      <td>13.92</td>\n",
       "      <td>38</td>\n",
       "      <td>1.50</td>\n",
       "      <td>86</td>\n",
       "      <td>RU</td>\n",
       "      <td>1624010598</td>\n",
       "    </tr>\n",
       "    <tr>\n",
       "      <th>...</th>\n",
       "      <td>...</td>\n",
       "      <td>...</td>\n",
       "      <td>...</td>\n",
       "      <td>...</td>\n",
       "      <td>...</td>\n",
       "      <td>...</td>\n",
       "      <td>...</td>\n",
       "      <td>...</td>\n",
       "      <td>...</td>\n",
       "    </tr>\n",
       "    <tr>\n",
       "      <th>571</th>\n",
       "      <td>Rio Grande City</td>\n",
       "      <td>-98.8203</td>\n",
       "      <td>26.3798</td>\n",
       "      <td>24.90</td>\n",
       "      <td>83</td>\n",
       "      <td>1.42</td>\n",
       "      <td>73</td>\n",
       "      <td>US</td>\n",
       "      <td>1624010755</td>\n",
       "    </tr>\n",
       "    <tr>\n",
       "      <th>572</th>\n",
       "      <td>Ostrovnoy</td>\n",
       "      <td>39.5131</td>\n",
       "      <td>68.0531</td>\n",
       "      <td>9.60</td>\n",
       "      <td>60</td>\n",
       "      <td>3.32</td>\n",
       "      <td>100</td>\n",
       "      <td>RU</td>\n",
       "      <td>1624010755</td>\n",
       "    </tr>\n",
       "    <tr>\n",
       "      <th>573</th>\n",
       "      <td>Pandharpur</td>\n",
       "      <td>75.3333</td>\n",
       "      <td>17.6667</td>\n",
       "      <td>29.79</td>\n",
       "      <td>56</td>\n",
       "      <td>10.03</td>\n",
       "      <td>90</td>\n",
       "      <td>IN</td>\n",
       "      <td>1624010711</td>\n",
       "    </tr>\n",
       "    <tr>\n",
       "      <th>574</th>\n",
       "      <td>Nushki</td>\n",
       "      <td>66.0215</td>\n",
       "      <td>29.5542</td>\n",
       "      <td>36.93</td>\n",
       "      <td>9</td>\n",
       "      <td>5.07</td>\n",
       "      <td>0</td>\n",
       "      <td>PK</td>\n",
       "      <td>1624010756</td>\n",
       "    </tr>\n",
       "    <tr>\n",
       "      <th>575</th>\n",
       "      <td>Auxerre</td>\n",
       "      <td>3.5667</td>\n",
       "      <td>47.8000</td>\n",
       "      <td>27.92</td>\n",
       "      <td>66</td>\n",
       "      <td>5.65</td>\n",
       "      <td>48</td>\n",
       "      <td>FR</td>\n",
       "      <td>1624010756</td>\n",
       "    </tr>\n",
       "  </tbody>\n",
       "</table>\n",
       "<p>568 rows × 9 columns</p>\n",
       "</div>"
      ],
      "text/plain": [
       "                city       lng      lat  Max Temp  Humidity  Wind Speed  \\\n",
       "0            Kunming  102.7183  25.0389     26.20        51        4.19   \n",
       "1           Cherskiy  161.3000  68.7500      3.33        76        6.91   \n",
       "2              Along   94.7667  28.1667     27.77        91        0.95   \n",
       "3             Avarua -159.7750 -21.2078     25.30        84        8.71   \n",
       "4         Chokurdakh  147.9167  70.6333     13.92        38        1.50   \n",
       "..               ...       ...      ...       ...       ...         ...   \n",
       "571  Rio Grande City  -98.8203  26.3798     24.90        83        1.42   \n",
       "572        Ostrovnoy   39.5131  68.0531      9.60        60        3.32   \n",
       "573       Pandharpur   75.3333  17.6667     29.79        56       10.03   \n",
       "574           Nushki   66.0215  29.5542     36.93         9        5.07   \n",
       "575          Auxerre    3.5667  47.8000     27.92        66        5.65   \n",
       "\n",
       "     Cloudiness Country        Date  \n",
       "0           100      CN  1624010465  \n",
       "1           100      RU  1624010598  \n",
       "2           100      IN  1624010598  \n",
       "3           100      CK  1624010598  \n",
       "4            86      RU  1624010598  \n",
       "..          ...     ...         ...  \n",
       "571          73      US  1624010755  \n",
       "572         100      RU  1624010755  \n",
       "573          90      IN  1624010711  \n",
       "574           0      PK  1624010756  \n",
       "575          48      FR  1624010756  \n",
       "\n",
       "[568 rows x 9 columns]"
      ]
     },
     "execution_count": 14,
     "metadata": {},
     "output_type": "execute_result"
    }
   ],
   "source": [
    "# dropping the city with humidity equal or over 100 by reference the humidity_100 index\n",
    "# Passing \"inplace=False\" and make a new data fram \"clean_data\".\n",
    "clean_data=weather_data_df.drop(Humidity_100.index, inplace = False)\n",
    "clean_data"
   ]
  },
  {
   "cell_type": "code",
   "execution_count": 15,
   "metadata": {},
   "outputs": [
    {
     "data": {
      "text/html": [
       "<div>\n",
       "<style scoped>\n",
       "    .dataframe tbody tr th:only-of-type {\n",
       "        vertical-align: middle;\n",
       "    }\n",
       "\n",
       "    .dataframe tbody tr th {\n",
       "        vertical-align: top;\n",
       "    }\n",
       "\n",
       "    .dataframe thead th {\n",
       "        text-align: right;\n",
       "    }\n",
       "</style>\n",
       "<table border=\"1\" class=\"dataframe\">\n",
       "  <thead>\n",
       "    <tr style=\"text-align: right;\">\n",
       "      <th></th>\n",
       "      <th>lng</th>\n",
       "      <th>lat</th>\n",
       "      <th>Max Temp</th>\n",
       "      <th>Humidity</th>\n",
       "      <th>Wind Speed</th>\n",
       "      <th>Cloudiness</th>\n",
       "      <th>Date</th>\n",
       "    </tr>\n",
       "  </thead>\n",
       "  <tbody>\n",
       "    <tr>\n",
       "      <th>count</th>\n",
       "      <td>568.000000</td>\n",
       "      <td>568.000000</td>\n",
       "      <td>568.000000</td>\n",
       "      <td>568.000000</td>\n",
       "      <td>568.000000</td>\n",
       "      <td>568.000000</td>\n",
       "      <td>5.680000e+02</td>\n",
       "    </tr>\n",
       "    <tr>\n",
       "      <th>mean</th>\n",
       "      <td>20.059511</td>\n",
       "      <td>20.375553</td>\n",
       "      <td>20.706180</td>\n",
       "      <td>66.272887</td>\n",
       "      <td>3.514577</td>\n",
       "      <td>53.934859</td>\n",
       "      <td>1.624011e+09</td>\n",
       "    </tr>\n",
       "    <tr>\n",
       "      <th>std</th>\n",
       "      <td>89.876326</td>\n",
       "      <td>33.281834</td>\n",
       "      <td>8.902977</td>\n",
       "      <td>23.444132</td>\n",
       "      <td>2.363174</td>\n",
       "      <td>39.547498</td>\n",
       "      <td>8.440177e+01</td>\n",
       "    </tr>\n",
       "    <tr>\n",
       "      <th>min</th>\n",
       "      <td>-179.166700</td>\n",
       "      <td>-54.800000</td>\n",
       "      <td>-6.030000</td>\n",
       "      <td>3.000000</td>\n",
       "      <td>0.000000</td>\n",
       "      <td>0.000000</td>\n",
       "      <td>1.624010e+09</td>\n",
       "    </tr>\n",
       "    <tr>\n",
       "      <th>25%</th>\n",
       "      <td>-56.682875</td>\n",
       "      <td>-7.748625</td>\n",
       "      <td>14.092500</td>\n",
       "      <td>53.000000</td>\n",
       "      <td>1.790000</td>\n",
       "      <td>8.000000</td>\n",
       "      <td>1.624011e+09</td>\n",
       "    </tr>\n",
       "    <tr>\n",
       "      <th>50%</th>\n",
       "      <td>22.999250</td>\n",
       "      <td>25.073050</td>\n",
       "      <td>22.290000</td>\n",
       "      <td>71.000000</td>\n",
       "      <td>3.090000</td>\n",
       "      <td>59.000000</td>\n",
       "      <td>1.624011e+09</td>\n",
       "    </tr>\n",
       "    <tr>\n",
       "      <th>75%</th>\n",
       "      <td>100.509425</td>\n",
       "      <td>49.191650</td>\n",
       "      <td>26.830000</td>\n",
       "      <td>85.000000</td>\n",
       "      <td>4.897500</td>\n",
       "      <td>96.000000</td>\n",
       "      <td>1.624011e+09</td>\n",
       "    </tr>\n",
       "    <tr>\n",
       "      <th>max</th>\n",
       "      <td>179.316700</td>\n",
       "      <td>78.218600</td>\n",
       "      <td>41.710000</td>\n",
       "      <td>99.000000</td>\n",
       "      <td>12.870000</td>\n",
       "      <td>100.000000</td>\n",
       "      <td>1.624011e+09</td>\n",
       "    </tr>\n",
       "  </tbody>\n",
       "</table>\n",
       "</div>"
      ],
      "text/plain": [
       "              lng         lat    Max Temp    Humidity  Wind Speed  Cloudiness  \\\n",
       "count  568.000000  568.000000  568.000000  568.000000  568.000000  568.000000   \n",
       "mean    20.059511   20.375553   20.706180   66.272887    3.514577   53.934859   \n",
       "std     89.876326   33.281834    8.902977   23.444132    2.363174   39.547498   \n",
       "min   -179.166700  -54.800000   -6.030000    3.000000    0.000000    0.000000   \n",
       "25%    -56.682875   -7.748625   14.092500   53.000000    1.790000    8.000000   \n",
       "50%     22.999250   25.073050   22.290000   71.000000    3.090000   59.000000   \n",
       "75%    100.509425   49.191650   26.830000   85.000000    4.897500   96.000000   \n",
       "max    179.316700   78.218600   41.710000   99.000000   12.870000  100.000000   \n",
       "\n",
       "               Date  \n",
       "count  5.680000e+02  \n",
       "mean   1.624011e+09  \n",
       "std    8.440177e+01  \n",
       "min    1.624010e+09  \n",
       "25%    1.624011e+09  \n",
       "50%    1.624011e+09  \n",
       "75%    1.624011e+09  \n",
       "max    1.624011e+09  "
      ]
     },
     "execution_count": 15,
     "metadata": {},
     "output_type": "execute_result"
    }
   ],
   "source": [
    "clean_data.describe()"
   ]
  },
  {
   "cell_type": "markdown",
   "metadata": {},
   "source": [
    "## Plotting the Data\n",
    "* Use proper labeling of the plots using plot titles (including date of analysis) and axes labels.\n",
    "* Save the plotted figures as .pngs."
   ]
  },
  {
   "cell_type": "markdown",
   "metadata": {},
   "source": [
    "## Latitude vs. Temperature Plot"
   ]
  },
  {
   "cell_type": "code",
   "execution_count": 16,
   "metadata": {
    "scrolled": true
   },
   "outputs": [
    {
     "data": {
      "image/png": "[encoded data removed]",
      "text/plain": [
       "<Figure size 432x432 with 1 Axes>"
      ]
     },
     "metadata": {
      "needs_background": "light"
     },
     "output_type": "display_data"
    }
   ],
   "source": [
    "#Latitude vs. Temperature Plot\n",
    "clean_data.plot(kind=\"scatter\", x=\"lat\", y=\"Max Temp\", grid=True, figsize=(6,6),\n",
    "              title=\"Latitude vs.Temperature\");\n",
    "plt.savefig(\"../output_data/lat vs Temp.png\") "
   ]
  },
  {
   "cell_type": "code",
   "execution_count": null,
   "metadata": {},
   "outputs": [],
   "source": []
  },
  {
   "cell_type": "code",
   "execution_count": null,
   "metadata": {},
   "outputs": [],
   "source": []
  },
  {
   "cell_type": "markdown",
   "metadata": {},
   "source": [
    "## Latitude vs. Humidity Plot"
   ]
  },
  {
   "cell_type": "code",
   "execution_count": 17,
   "metadata": {},
   "outputs": [
    {
     "data": {
      "image/png": "[encoded data removed]",
      "text/plain": [
       "<Figure size 432x432 with 1 Axes>"
      ]
     },
     "metadata": {
      "needs_background": "light"
     },
     "output_type": "display_data"
    }
   ],
   "source": [
    "#Latitude vs. Humidity Plot\n",
    "clean_data.plot(kind=\"scatter\", x=\"lat\", y=\"Humidity\", grid=True, figsize=(6,6),\n",
    "              title=\"Latitude vs.Humidity\");\n",
    "plt.savefig(\"../output_data/lat vs Humidity.png\") "
   ]
  },
  {
   "cell_type": "code",
   "execution_count": null,
   "metadata": {},
   "outputs": [],
   "source": []
  },
  {
   "cell_type": "code",
   "execution_count": null,
   "metadata": {},
   "outputs": [],
   "source": []
  },
  {
   "cell_type": "code",
   "execution_count": null,
   "metadata": {},
   "outputs": [],
   "source": []
  },
  {
   "cell_type": "markdown",
   "metadata": {},
   "source": [
    "## Latitude vs. Cloudiness Plot"
   ]
  },
  {
   "cell_type": "code",
   "execution_count": 18,
   "metadata": {},
   "outputs": [
    {
     "data": {
      "image/png": "[encoded data removed]",
      "text/plain": [
       "<Figure size 432x432 with 1 Axes>"
      ]
     },
     "metadata": {
      "needs_background": "light"
     },
     "output_type": "display_data"
    }
   ],
   "source": [
    "#Latitude vs. Cloudiness Plot\n",
    "clean_data.plot(kind=\"scatter\", x=\"lat\", y=\"Cloudiness\", grid=True, figsize=(6,6),\n",
    "              title=\"Latitude vs.Cloudiness\");\n",
    "plt.savefig(\"../output_data/lat vs Cloudiness.png\") "
   ]
  },
  {
   "cell_type": "markdown",
   "metadata": {},
   "source": [
    "## Latitude vs. Wind Speed Plot"
   ]
  },
  {
   "cell_type": "code",
   "execution_count": 19,
   "metadata": {},
   "outputs": [
    {
     "data": {
      "image/png": "[encoded data removed]",
      "text/plain": [
       "<Figure size 432x432 with 1 Axes>"
      ]
     },
     "metadata": {
      "needs_background": "light"
     },
     "output_type": "display_data"
    }
   ],
   "source": [
    "#Latitude vs. Wind Speed Plot\n",
    "clean_data.plot(kind=\"scatter\", x=\"lat\", y=\"Wind Speed\", grid=True, figsize=(6,6),\n",
    "              title=\"Latitude vs.Wind Speed\");\n",
    "plt.savefig(\"../output_data/lat vs Wind Speed.png\") "
   ]
  },
  {
   "cell_type": "markdown",
   "metadata": {},
   "source": [
    "## Linear Regression"
   ]
  },
  {
   "cell_type": "code",
   "execution_count": null,
   "metadata": {},
   "outputs": [],
   "source": [
    "\n",
    "#Northern Hemisphere (greater than or equal to 0 degrees latitude) and \n",
    "#Southern Hemisphere (less than 0 degrees latitude)"
   ]
  },
  {
   "cell_type": "code",
   "execution_count": 20,
   "metadata": {},
   "outputs": [
    {
     "data": {
      "text/html": [
       "<div>\n",
       "<style scoped>\n",
       "    .dataframe tbody tr th:only-of-type {\n",
       "        vertical-align: middle;\n",
       "    }\n",
       "\n",
       "    .dataframe tbody tr th {\n",
       "        vertical-align: top;\n",
       "    }\n",
       "\n",
       "    .dataframe thead th {\n",
       "        text-align: right;\n",
       "    }\n",
       "</style>\n",
       "<table border=\"1\" class=\"dataframe\">\n",
       "  <thead>\n",
       "    <tr style=\"text-align: right;\">\n",
       "      <th></th>\n",
       "      <th>city</th>\n",
       "      <th>lng</th>\n",
       "      <th>lat</th>\n",
       "      <th>Max Temp</th>\n",
       "      <th>Humidity</th>\n",
       "      <th>Wind Speed</th>\n",
       "      <th>Cloudiness</th>\n",
       "      <th>Country</th>\n",
       "      <th>Date</th>\n",
       "    </tr>\n",
       "  </thead>\n",
       "  <tbody>\n",
       "    <tr>\n",
       "      <th>0</th>\n",
       "      <td>Kunming</td>\n",
       "      <td>102.7183</td>\n",
       "      <td>25.0389</td>\n",
       "      <td>26.20</td>\n",
       "      <td>51</td>\n",
       "      <td>4.19</td>\n",
       "      <td>100</td>\n",
       "      <td>CN</td>\n",
       "      <td>1624010465</td>\n",
       "    </tr>\n",
       "    <tr>\n",
       "      <th>1</th>\n",
       "      <td>Cherskiy</td>\n",
       "      <td>161.3000</td>\n",
       "      <td>68.7500</td>\n",
       "      <td>3.33</td>\n",
       "      <td>76</td>\n",
       "      <td>6.91</td>\n",
       "      <td>100</td>\n",
       "      <td>RU</td>\n",
       "      <td>1624010598</td>\n",
       "    </tr>\n",
       "    <tr>\n",
       "      <th>2</th>\n",
       "      <td>Along</td>\n",
       "      <td>94.7667</td>\n",
       "      <td>28.1667</td>\n",
       "      <td>27.77</td>\n",
       "      <td>91</td>\n",
       "      <td>0.95</td>\n",
       "      <td>100</td>\n",
       "      <td>IN</td>\n",
       "      <td>1624010598</td>\n",
       "    </tr>\n",
       "    <tr>\n",
       "      <th>4</th>\n",
       "      <td>Chokurdakh</td>\n",
       "      <td>147.9167</td>\n",
       "      <td>70.6333</td>\n",
       "      <td>13.92</td>\n",
       "      <td>38</td>\n",
       "      <td>1.50</td>\n",
       "      <td>86</td>\n",
       "      <td>RU</td>\n",
       "      <td>1624010598</td>\n",
       "    </tr>\n",
       "    <tr>\n",
       "      <th>5</th>\n",
       "      <td>Vila Franca do Campo</td>\n",
       "      <td>-25.4333</td>\n",
       "      <td>37.7167</td>\n",
       "      <td>19.23</td>\n",
       "      <td>59</td>\n",
       "      <td>2.32</td>\n",
       "      <td>65</td>\n",
       "      <td>PT</td>\n",
       "      <td>1624010599</td>\n",
       "    </tr>\n",
       "  </tbody>\n",
       "</table>\n",
       "</div>"
      ],
      "text/plain": [
       "                   city       lng      lat  Max Temp  Humidity  Wind Speed  \\\n",
       "0               Kunming  102.7183  25.0389     26.20        51        4.19   \n",
       "1              Cherskiy  161.3000  68.7500      3.33        76        6.91   \n",
       "2                 Along   94.7667  28.1667     27.77        91        0.95   \n",
       "4            Chokurdakh  147.9167  70.6333     13.92        38        1.50   \n",
       "5  Vila Franca do Campo  -25.4333  37.7167     19.23        59        2.32   \n",
       "\n",
       "   Cloudiness Country        Date  \n",
       "0         100      CN  1624010465  \n",
       "1         100      RU  1624010598  \n",
       "2         100      IN  1624010598  \n",
       "4          86      RU  1624010598  \n",
       "5          65      PT  1624010599  "
      ]
     },
     "execution_count": 20,
     "metadata": {},
     "output_type": "execute_result"
    }
   ],
   "source": [
    "#setup a Northern Hemishpere dataframe\n",
    "Northern_Hemisphere=weather_data_df.loc[weather_data_df[\"lat\"]>=0.00]\n",
    "Northern_Hemisphere.head()                                                     "
   ]
  },
  {
   "cell_type": "code",
   "execution_count": 21,
   "metadata": {},
   "outputs": [
    {
     "data": {
      "text/html": [
       "<div>\n",
       "<style scoped>\n",
       "    .dataframe tbody tr th:only-of-type {\n",
       "        vertical-align: middle;\n",
       "    }\n",
       "\n",
       "    .dataframe tbody tr th {\n",
       "        vertical-align: top;\n",
       "    }\n",
       "\n",
       "    .dataframe thead th {\n",
       "        text-align: right;\n",
       "    }\n",
       "</style>\n",
       "<table border=\"1\" class=\"dataframe\">\n",
       "  <thead>\n",
       "    <tr style=\"text-align: right;\">\n",
       "      <th></th>\n",
       "      <th>lng</th>\n",
       "      <th>lat</th>\n",
       "      <th>Max Temp</th>\n",
       "      <th>Humidity</th>\n",
       "      <th>Wind Speed</th>\n",
       "      <th>Cloudiness</th>\n",
       "      <th>Date</th>\n",
       "    </tr>\n",
       "  </thead>\n",
       "  <tbody>\n",
       "    <tr>\n",
       "      <th>count</th>\n",
       "      <td>178.000000</td>\n",
       "      <td>178.000000</td>\n",
       "      <td>178.000000</td>\n",
       "      <td>178.00000</td>\n",
       "      <td>178.000000</td>\n",
       "      <td>178.000000</td>\n",
       "      <td>1.780000e+02</td>\n",
       "    </tr>\n",
       "    <tr>\n",
       "      <th>mean</th>\n",
       "      <td>29.826108</td>\n",
       "      <td>-21.760142</td>\n",
       "      <td>18.062022</td>\n",
       "      <td>73.97191</td>\n",
       "      <td>3.345955</td>\n",
       "      <td>50.084270</td>\n",
       "      <td>1.624011e+09</td>\n",
       "    </tr>\n",
       "    <tr>\n",
       "      <th>std</th>\n",
       "      <td>94.690393</td>\n",
       "      <td>13.319170</td>\n",
       "      <td>8.149394</td>\n",
       "      <td>19.51428</td>\n",
       "      <td>2.208435</td>\n",
       "      <td>37.313585</td>\n",
       "      <td>9.801079e+01</td>\n",
       "    </tr>\n",
       "    <tr>\n",
       "      <th>min</th>\n",
       "      <td>-175.200000</td>\n",
       "      <td>-54.800000</td>\n",
       "      <td>-6.030000</td>\n",
       "      <td>20.00000</td>\n",
       "      <td>0.000000</td>\n",
       "      <td>0.000000</td>\n",
       "      <td>1.624010e+09</td>\n",
       "    </tr>\n",
       "    <tr>\n",
       "      <th>25%</th>\n",
       "      <td>-53.720575</td>\n",
       "      <td>-32.940650</td>\n",
       "      <td>12.130000</td>\n",
       "      <td>66.25000</td>\n",
       "      <td>1.800000</td>\n",
       "      <td>10.250000</td>\n",
       "      <td>1.624011e+09</td>\n",
       "    </tr>\n",
       "    <tr>\n",
       "      <th>50%</th>\n",
       "      <td>26.987500</td>\n",
       "      <td>-20.375450</td>\n",
       "      <td>20.110000</td>\n",
       "      <td>78.50000</td>\n",
       "      <td>2.845000</td>\n",
       "      <td>46.500000</td>\n",
       "      <td>1.624011e+09</td>\n",
       "    </tr>\n",
       "    <tr>\n",
       "      <th>75%</th>\n",
       "      <td>122.133325</td>\n",
       "      <td>-9.818900</td>\n",
       "      <td>25.277500</td>\n",
       "      <td>88.00000</td>\n",
       "      <td>4.465000</td>\n",
       "      <td>89.750000</td>\n",
       "      <td>1.624011e+09</td>\n",
       "    </tr>\n",
       "    <tr>\n",
       "      <th>max</th>\n",
       "      <td>175.700000</td>\n",
       "      <td>-0.600000</td>\n",
       "      <td>29.420000</td>\n",
       "      <td>100.00000</td>\n",
       "      <td>10.640000</td>\n",
       "      <td>100.000000</td>\n",
       "      <td>1.624011e+09</td>\n",
       "    </tr>\n",
       "  </tbody>\n",
       "</table>\n",
       "</div>"
      ],
      "text/plain": [
       "              lng         lat    Max Temp   Humidity  Wind Speed  Cloudiness  \\\n",
       "count  178.000000  178.000000  178.000000  178.00000  178.000000  178.000000   \n",
       "mean    29.826108  -21.760142   18.062022   73.97191    3.345955   50.084270   \n",
       "std     94.690393   13.319170    8.149394   19.51428    2.208435   37.313585   \n",
       "min   -175.200000  -54.800000   -6.030000   20.00000    0.000000    0.000000   \n",
       "25%    -53.720575  -32.940650   12.130000   66.25000    1.800000   10.250000   \n",
       "50%     26.987500  -20.375450   20.110000   78.50000    2.845000   46.500000   \n",
       "75%    122.133325   -9.818900   25.277500   88.00000    4.465000   89.750000   \n",
       "max    175.700000   -0.600000   29.420000  100.00000   10.640000  100.000000   \n",
       "\n",
       "               Date  \n",
       "count  1.780000e+02  \n",
       "mean   1.624011e+09  \n",
       "std    9.801079e+01  \n",
       "min    1.624010e+09  \n",
       "25%    1.624011e+09  \n",
       "50%    1.624011e+09  \n",
       "75%    1.624011e+09  \n",
       "max    1.624011e+09  "
      ]
     },
     "execution_count": 21,
     "metadata": {},
     "output_type": "execute_result"
    }
   ],
   "source": [
    "#setup a Southern Hemishpere dataframe\n",
    "Southern_Hemisphere=weather_data_df.loc[weather_data_df[\"lat\"]<0.00]\n",
    "Southern_Hemisphere.describe()   "
   ]
  },
  {
   "cell_type": "code",
   "execution_count": 22,
   "metadata": {},
   "outputs": [
    {
     "data": {
      "text/plain": [
       "0      26.20\n",
       "1       3.33\n",
       "2      27.77\n",
       "4      13.92\n",
       "5      19.23\n",
       "       ...  \n",
       "571    24.90\n",
       "572     9.60\n",
       "573    29.79\n",
       "574    36.93\n",
       "575    27.92\n",
       "Name: Max Temp, Length: 398, dtype: float64"
      ]
     },
     "execution_count": 22,
     "metadata": {},
     "output_type": "execute_result"
    }
   ],
   "source": [
    "max_temp=Northern_Hemisphere.iloc[:,3]\n",
    "max_temp"
   ]
  },
  {
   "cell_type": "code",
   "execution_count": null,
   "metadata": {},
   "outputs": [],
   "source": []
  },
  {
   "cell_type": "markdown",
   "metadata": {},
   "source": [
    "####  Northern Hemisphere - Max Temp vs. Latitude Linear Regression"
   ]
  },
  {
   "cell_type": "code",
   "execution_count": 23,
   "metadata": {},
   "outputs": [
    {
     "name": "stdout",
     "output_type": "stream",
     "text": [
      "the correlation between weight and tumor volume is -0.62\n",
      "R squared: 0.38626726009240214\n"
     ]
    },
    {
     "data": {
      "image/png": "[encoded data removed]",
      "text/plain": [
       "<Figure size 432x288 with 1 Axes>"
      ]
     },
     "metadata": {
      "needs_background": "light"
     },
     "output_type": "display_data"
    }
   ],
   "source": [
    "# Calculate the correlation coefficient and linear regression model eight=Capomulin_weight_volume.iloc[:,0]\n",
    "lat=Northern_Hemisphere.iloc[:,2]\n",
    "max_temp=Northern_Hemisphere.iloc[:,3]\n",
    "correlation=st.pearsonr(lat,max_temp)\n",
    "\n",
    "slope, intercept, rvalue, pvalue, stderr = st.linregress(lat,max_temp)\n",
    "regress_values=lat*slope+intercept\n",
    "regress_values\n",
    "line_eq=\"y=\"+str(round(slope,2))+\"x+\"+str(round(intercept,2))\n",
    "plt.scatter(lat,max_temp)\n",
    "plt.plot(lat,regress_values,\"--\",color=\"r\")\n",
    "plt.annotate(line_eq,(20,36),fontsize=15,color=\"r\")\n",
    "plt.xlabel(\"Latitude\")\n",
    "plt.ylabel(\"Max Temp\")\n",
    "plt.title(\"Northern Hemisphere - Max Temp vs. Latitude Linear Regression\")\n",
    "print(f\"the correlation between weight and tumor volume is {round(correlation[0],2)}\")\n",
    "print(f\"R squared: {rvalue**2}\")  \n",
    "plt.savefig(\"../output_data/Northern Hemisphere lat vs Max temp linear regressoin.png\") \n",
    "plt.show()"
   ]
  },
  {
   "cell_type": "code",
   "execution_count": null,
   "metadata": {},
   "outputs": [],
   "source": []
  },
  {
   "cell_type": "code",
   "execution_count": null,
   "metadata": {},
   "outputs": [],
   "source": []
  },
  {
   "cell_type": "code",
   "execution_count": null,
   "metadata": {},
   "outputs": [],
   "source": []
  },
  {
   "cell_type": "code",
   "execution_count": null,
   "metadata": {},
   "outputs": [],
   "source": []
  },
  {
   "cell_type": "markdown",
   "metadata": {},
   "source": [
    "####  Southern Hemisphere - Max Temp vs. Latitude Linear Regression"
   ]
  },
  {
   "cell_type": "code",
   "execution_count": 24,
   "metadata": {},
   "outputs": [
    {
     "name": "stdout",
     "output_type": "stream",
     "text": [
      "the correlation between weight and tumor volume is 0.78\n",
      "R squared: 0.6118064238729868\n"
     ]
    },
    {
     "data": {
      "image/png": "[encoded data removed]",
      "text/plain": [
       "<Figure size 432x288 with 1 Axes>"
      ]
     },
     "metadata": {
      "needs_background": "light"
     },
     "output_type": "display_data"
    }
   ],
   "source": [
    "# Calculate the correlation coefficient and linear regression model eight=Capomulin_weight_volume.iloc[:,0]\n",
    "lat=Southern_Hemisphere.iloc[:,2]\n",
    "max_temp=Southern_Hemisphere.iloc[:,3]\n",
    "correlation=st.pearsonr(lat,max_temp)\n",
    "\n",
    "slope, intercept, rvalue, pvalue, stderr = st.linregress(lat,max_temp)\n",
    "regress_values=lat*slope+intercept\n",
    "regress_values\n",
    "line_eq=\"y=\"+str(round(slope,2))+\"x+\"+str(round(intercept,2))\n",
    "plt.scatter(lat,max_temp)\n",
    "plt.plot(lat,regress_values,\"--\",color=\"r\")\n",
    "plt.annotate(line_eq,(20,36),fontsize=15,color=\"r\")\n",
    "plt.xlabel(\"Latitude\")\n",
    "plt.ylabel(\"Max Temp\")\n",
    "plt.title(\"Southern Hemisphere - Max Temp vs. Latitude Linear Regression\")\n",
    "\n",
    "print(f\"the correlation between weight and tumor volume is {round(correlation[0],2)}\")\n",
    "print(f\"R squared: {rvalue**2}\")\n",
    "\n",
    "plt.savefig(\"../output_data/Southern Hemisphere lat vs Max temp linear regressoin.png\") \n",
    "plt.show()  "
   ]
  },
  {
   "cell_type": "code",
   "execution_count": null,
   "metadata": {},
   "outputs": [],
   "source": []
  },
  {
   "cell_type": "code",
   "execution_count": null,
   "metadata": {},
   "outputs": [],
   "source": []
  },
  {
   "cell_type": "code",
   "execution_count": null,
   "metadata": {},
   "outputs": [],
   "source": []
  },
  {
   "cell_type": "code",
   "execution_count": null,
   "metadata": {},
   "outputs": [],
   "source": []
  },
  {
   "cell_type": "markdown",
   "metadata": {},
   "source": [
    "####  Northern Hemisphere - Humidity (%) vs. Latitude Linear Regression"
   ]
  },
  {
   "cell_type": "code",
   "execution_count": 25,
   "metadata": {},
   "outputs": [
    {
     "name": "stdout",
     "output_type": "stream",
     "text": [
      "the correlation between Latitude and humidity is -0.04\n",
      "R squared: 0.0013826478036775296\n"
     ]
    },
    {
     "data": {
      "image/png": "[encoded data removed]",
      "text/plain": [
       "<Figure size 432x288 with 1 Axes>"
      ]
     },
     "metadata": {
      "needs_background": "light"
     },
     "output_type": "display_data"
    }
   ],
   "source": [
    "# Calculate the correlation coefficient and linear regression model eight=Capomulin_weight_volume.iloc[:,0]\n",
    "lat=Northern_Hemisphere.iloc[:,2]\n",
    "humidity=Northern_Hemisphere.iloc[:,4]\n",
    "correlation=st.pearsonr(lat,humidity)\n",
    "\n",
    "slope, intercept, rvalue, pvalue, stderr = st.linregress(lat,humidity)\n",
    "regress_values=lat*slope+intercept\n",
    "regress_values\n",
    "line_eq=\"y=\"+str(round(slope,2))+\"x+\"+str(round(intercept,2))\n",
    "plt.scatter(lat,humidity)\n",
    "plt.plot(lat,regress_values,\"--\",color=\"r\")\n",
    "plt.annotate(line_eq,(20,36),fontsize=15,color=\"r\")\n",
    "plt.xlabel(\"Latitude\")\n",
    "plt.ylabel(\"humidity\")\n",
    "plt.title(\"Northern Hemisphere - humidity (%) vs. Latitude Linear Regression\")\n",
    "\n",
    "print(f\"the correlation between Latitude and humidity is {round(correlation[0],2)}\")\n",
    "print(f\"R squared: {rvalue**2}\") \n",
    "plt.savefig(\"../output_data/Northern_Hemisphere lat vs Humidity linear regressoin.png\") \n",
    "plt.show()  "
   ]
  },
  {
   "cell_type": "code",
   "execution_count": null,
   "metadata": {},
   "outputs": [],
   "source": []
  },
  {
   "cell_type": "code",
   "execution_count": null,
   "metadata": {},
   "outputs": [],
   "source": []
  },
  {
   "cell_type": "code",
   "execution_count": null,
   "metadata": {},
   "outputs": [],
   "source": []
  },
  {
   "cell_type": "code",
   "execution_count": null,
   "metadata": {},
   "outputs": [],
   "source": []
  },
  {
   "cell_type": "code",
   "execution_count": null,
   "metadata": {},
   "outputs": [],
   "source": []
  },
  {
   "cell_type": "markdown",
   "metadata": {},
   "source": [
    "####  Southern Hemisphere - Humidity (%) vs. Latitude Linear Regression"
   ]
  },
  {
   "cell_type": "code",
   "execution_count": 26,
   "metadata": {},
   "outputs": [
    {
     "name": "stdout",
     "output_type": "stream",
     "text": [
      "the correlation between Latitude and humidity is -0.05\n",
      "R squared: 0.0022350932597770996\n"
     ]
    },
    {
     "data": {
      "image/png": "[encoded data removed]",
      "text/plain": [
       "<Figure size 432x288 with 1 Axes>"
      ]
     },
     "metadata": {
      "needs_background": "light"
     },
     "output_type": "display_data"
    }
   ],
   "source": [
    "# Calculate the correlation coefficient and linear regression model eight=Capomulin_weight_volume.iloc[:,0]\n",
    "lat=Southern_Hemisphere.iloc[:,2]\n",
    "humidity=Southern_Hemisphere.iloc[:,4]\n",
    "correlation=st.pearsonr(lat,humidity)\n",
    "\n",
    "slope, intercept, rvalue, pvalue, stderr = st.linregress(lat,humidity)\n",
    "regress_values=lat*slope+intercept\n",
    "regress_values\n",
    "line_eq=\"y=\"+str(round(slope,2))+\"x+\"+str(round(intercept,2))\n",
    "plt.scatter(lat,humidity)\n",
    "plt.plot(lat,regress_values,\"--\",color=\"r\")\n",
    "plt.annotate(line_eq,(20,36),fontsize=15,color=\"r\")\n",
    "plt.xlabel(\"Latitude\")\n",
    "plt.ylabel(\"humidity\")\n",
    "plt.title(\"Southern Hemisphere - humidity (%) vs. Latitude Linear Regression\")\n",
    "\n",
    "print(f\"the correlation between Latitude and humidity is {round(correlation[0],2)}\")\n",
    "print(f\"R squared: {rvalue**2}\") \n",
    "plt.savefig(\"../output_data/Southernn_Hemisphere lat vs Humidity linear regressoin.png\") \n",
    "plt.show()  "
   ]
  },
  {
   "cell_type": "code",
   "execution_count": null,
   "metadata": {},
   "outputs": [],
   "source": []
  },
  {
   "cell_type": "code",
   "execution_count": null,
   "metadata": {},
   "outputs": [],
   "source": []
  },
  {
   "cell_type": "code",
   "execution_count": null,
   "metadata": {},
   "outputs": [],
   "source": []
  },
  {
   "cell_type": "code",
   "execution_count": null,
   "metadata": {},
   "outputs": [],
   "source": []
  },
  {
   "cell_type": "code",
   "execution_count": null,
   "metadata": {},
   "outputs": [],
   "source": []
  },
  {
   "cell_type": "code",
   "execution_count": null,
   "metadata": {},
   "outputs": [],
   "source": []
  },
  {
   "cell_type": "code",
   "execution_count": null,
   "metadata": {},
   "outputs": [],
   "source": []
  },
  {
   "cell_type": "markdown",
   "metadata": {},
   "source": [
    "####  Northern Hemisphere - Cloudiness (%) vs. Latitude Linear Regression"
   ]
  },
  {
   "cell_type": "code",
   "execution_count": 27,
   "metadata": {},
   "outputs": [
    {
     "name": "stdout",
     "output_type": "stream",
     "text": [
      "the correlation between Latitude and Cloudiness is -0.03\n",
      "R squared: 0.0008662174211802736\n"
     ]
    },
    {
     "data": {
      "image/png": "[encoded data removed]",
      "text/plain": [
       "<Figure size 432x288 with 1 Axes>"
      ]
     },
     "metadata": {
      "needs_background": "light"
     },
     "output_type": "display_data"
    }
   ],
   "source": [
    "# Calculate the correlation coefficient and linear regression model eight=Capomulin_weight_volume.iloc[:,0]\n",
    "lat=Northern_Hemisphere.iloc[:,2]\n",
    "Cloudiness=Northern_Hemisphere.iloc[:,6]\n",
    "correlation=st.pearsonr(lat,Cloudiness)\n",
    "\n",
    "slope, intercept, rvalue, pvalue, stderr = st.linregress(lat,Cloudiness)\n",
    "regress_values=lat*slope+intercept\n",
    "regress_values\n",
    "line_eq=\"y=\"+str(round(slope,2))+\"x+\"+str(round(intercept,2))\n",
    "plt.scatter(lat,Cloudiness)\n",
    "plt.plot(lat,regress_values,\"--\",color=\"r\")\n",
    "plt.annotate(line_eq,(20,36),fontsize=15,color=\"r\")\n",
    "plt.xlabel(\"Latitude\")\n",
    "plt.ylabel(\"Cloudiness\")\n",
    "plt.title(\"Northern Hemisphere - Cloudiness vs. Latitude Linear Regression\")\n",
    "\n",
    "print(f\"the correlation between Latitude and Cloudiness is {round(correlation[0],2)}\")\n",
    "print(f\"R squared: {rvalue**2}\") \n",
    "plt.savefig(\"../output_data/Northern_Hemisphere lat vs Cloudiness linear regressoin.png\") \n",
    "plt.show()  "
   ]
  },
  {
   "cell_type": "code",
   "execution_count": null,
   "metadata": {},
   "outputs": [],
   "source": []
  },
  {
   "cell_type": "code",
   "execution_count": null,
   "metadata": {},
   "outputs": [],
   "source": []
  },
  {
   "cell_type": "code",
   "execution_count": null,
   "metadata": {},
   "outputs": [],
   "source": []
  },
  {
   "cell_type": "code",
   "execution_count": null,
   "metadata": {},
   "outputs": [],
   "source": []
  },
  {
   "cell_type": "code",
   "execution_count": null,
   "metadata": {},
   "outputs": [],
   "source": []
  },
  {
   "cell_type": "markdown",
   "metadata": {},
   "source": [
    "####  Southern Hemisphere - Cloudiness (%) vs. Latitude Linear Regression"
   ]
  },
  {
   "cell_type": "code",
   "execution_count": 28,
   "metadata": {},
   "outputs": [
    {
     "name": "stdout",
     "output_type": "stream",
     "text": [
      "the correlation between Latitude and Cloudiness is 0.09\n",
      "R squared: 0.0072508616086559155\n"
     ]
    },
    {
     "data": {
      "image/png": "[encoded data removed]",
      "text/plain": [
       "<Figure size 432x288 with 1 Axes>"
      ]
     },
     "metadata": {
      "needs_background": "light"
     },
     "output_type": "display_data"
    }
   ],
   "source": [
    "# Calculate the correlation coefficient and linear regression model eight=Capomulin_weight_volume.iloc[:,0]\n",
    "lat=Southern_Hemisphere.iloc[:,2]\n",
    "Cloudiness=Southern_Hemisphere.iloc[:,6]\n",
    "correlation=st.pearsonr(lat,Cloudiness)\n",
    "\n",
    "slope, intercept, rvalue, pvalue, stderr = st.linregress(lat,Cloudiness)\n",
    "regress_values=lat*slope+intercept\n",
    "regress_values\n",
    "line_eq=\"y=\"+str(round(slope,2))+\"x+\"+str(round(intercept,2))\n",
    "plt.scatter(lat,Cloudiness)\n",
    "plt.plot(lat,regress_values,\"--\",color=\"r\")\n",
    "plt.annotate(line_eq,(20,36),fontsize=15,color=\"r\")\n",
    "plt.xlabel(\"Latitude\")\n",
    "plt.ylabel(\"Cloudiness\")\n",
    "plt.title(\"Southern Hemisphere - Cloudiness vs. Latitude Linear Regression\")\n",
    "\n",
    "print(f\"the correlation between Latitude and Cloudiness is {round(correlation[0],2)}\")\n",
    "print(f\"R squared: {rvalue**2}\") \n",
    "plt.savefig(\"../output_data/Southernn_Hemisphere lat vs Cloudiness linear regressoin.png\") \n",
    "plt.show()  "
   ]
  },
  {
   "cell_type": "code",
   "execution_count": null,
   "metadata": {},
   "outputs": [],
   "source": []
  },
  {
   "cell_type": "code",
   "execution_count": null,
   "metadata": {},
   "outputs": [],
   "source": []
  },
  {
   "cell_type": "code",
   "execution_count": null,
   "metadata": {},
   "outputs": [],
   "source": []
  },
  {
   "cell_type": "code",
   "execution_count": null,
   "metadata": {},
   "outputs": [],
   "source": []
  },
  {
   "cell_type": "code",
   "execution_count": null,
   "metadata": {},
   "outputs": [],
   "source": []
  },
  {
   "cell_type": "code",
   "execution_count": null,
   "metadata": {},
   "outputs": [],
   "source": []
  },
  {
   "cell_type": "markdown",
   "metadata": {},
   "source": [
    "####  Northern Hemisphere - Wind Speed (mph) vs. Latitude Linear Regression"
   ]
  },
  {
   "cell_type": "code",
   "execution_count": 29,
   "metadata": {},
   "outputs": [
    {
     "name": "stdout",
     "output_type": "stream",
     "text": [
      "the correlation between Latitude and Wind Speed is 0.03\n",
      "R squared: 0.0009680551911460765\n"
     ]
    },
    {
     "data": {
      "image/png": "[encoded data removed]",
      "text/plain": [
       "<Figure size 432x288 with 1 Axes>"
      ]
     },
     "metadata": {
      "needs_background": "light"
     },
     "output_type": "display_data"
    }
   ],
   "source": [
    "# Calculate the correlation coefficient and linear regression model eight=Capomulin_weight_volume.iloc[:,0]\n",
    "lat=Northern_Hemisphere.iloc[:,2]\n",
    "Wind_Speed=Northern_Hemisphere.iloc[:,5]\n",
    "correlation=st.pearsonr(lat,Wind_Speed)\n",
    "slope, intercept, rvalue, pvalue, stderr = st.linregress(lat,Wind_Speed)\n",
    "regress_values=lat*slope+intercept\n",
    "regress_values\n",
    "line_eq=\"y=\"+str(round(slope,2))+\"x+\"+str(round(intercept,2))\n",
    "plt.scatter(lat,Wind_Speed)\n",
    "plt.plot(lat,regress_values,\"--\",color=\"r\")\n",
    "plt.annotate(line_eq,(20,36),fontsize=15,color=\"r\")\n",
    "plt.xlabel(\"Latitude\")\n",
    "plt.ylabel(\"Wind Speed(mph)\")\n",
    "plt.title(\"Northern Hemisphere - Wind Speed vs. Latitude Linear Regression\")\n",
    " \n",
    "print(f\"the correlation between Latitude and Wind Speed is {round(correlation[0],2)}\")\n",
    "print(f\"R squared: {rvalue**2}\") \n",
    "plt.savefig(\"../output_data/Northern_Hemisphere lat vs Wind Speed linear regressoin.png\") \n",
    "plt.show() "
   ]
  },
  {
   "cell_type": "code",
   "execution_count": null,
   "metadata": {},
   "outputs": [],
   "source": []
  },
  {
   "cell_type": "code",
   "execution_count": null,
   "metadata": {},
   "outputs": [],
   "source": []
  },
  {
   "cell_type": "code",
   "execution_count": null,
   "metadata": {},
   "outputs": [],
   "source": []
  },
  {
   "cell_type": "code",
   "execution_count": null,
   "metadata": {},
   "outputs": [],
   "source": []
  },
  {
   "cell_type": "code",
   "execution_count": null,
   "metadata": {},
   "outputs": [],
   "source": []
  },
  {
   "cell_type": "code",
   "execution_count": null,
   "metadata": {},
   "outputs": [],
   "source": []
  },
  {
   "cell_type": "code",
   "execution_count": null,
   "metadata": {},
   "outputs": [],
   "source": []
  },
  {
   "cell_type": "markdown",
   "metadata": {},
   "source": [
    "####  Southern Hemisphere - Wind Speed (mph) vs. Latitude Linear Regression"
   ]
  },
  {
   "cell_type": "code",
   "execution_count": 30,
   "metadata": {},
   "outputs": [
    {
     "name": "stdout",
     "output_type": "stream",
     "text": [
      "the correlation between Latitude and Wind Speed is -0.0\n",
      "R squared: 3.458204752077481e-07\n"
     ]
    },
    {
     "data": {
      "image/png": "[encoded data removed]",
      "text/plain": [
       "<Figure size 432x288 with 1 Axes>"
      ]
     },
     "metadata": {
      "needs_background": "light"
     },
     "output_type": "display_data"
    }
   ],
   "source": [
    "# Calculate the correlation coefficient and linear regression model eight=Capomulin_weight_volume.iloc[:,0]\n",
    "lat=Southern_Hemisphere.iloc[:,2]\n",
    "Wind_Speed=Southern_Hemisphere.iloc[:,5]\n",
    "correlation=st.pearsonr(lat,Wind_Speed)\n",
    "slope, intercept, rvalue, pvalue, stderr = st.linregress(lat,Wind_Speed)\n",
    "regress_values=lat*slope+intercept\n",
    "regress_values\n",
    "line_eq=\"y=\"+str(round(slope,2))+\"x+\"+str(round(intercept,2))\n",
    "plt.scatter(lat,Wind_Speed)\n",
    "plt.plot(lat,regress_values,\"--\",color=\"r\")\n",
    "plt.annotate(line_eq,(20,36),fontsize=15,color=\"r\")\n",
    "plt.xlabel(\"Latitude\")\n",
    "plt.ylabel(\"Wind Speed(mph)\")\n",
    "plt.title(\"Southern Hemisphere - Wind Speed vs. Latitude Linear Regression\")\n",
    "\n",
    "print(f\"the correlation between Latitude and Wind Speed is {round(correlation[0],2)}\")\n",
    "print(f\"R squared: {rvalue**2}\") \n",
    "plt.savefig(\"../output_data/Southern_Hemisphere lat vs Wind Speed linear regressoin.png\") \n",
    "plt.show()  "
   ]
  },
  {
   "cell_type": "code",
   "execution_count": null,
   "metadata": {},
   "outputs": [],
   "source": []
  },
  {
   "cell_type": "code",
   "execution_count": null,
   "metadata": {},
   "outputs": [],
   "source": []
  },
  {
   "cell_type": "code",
   "execution_count": null,
   "metadata": {},
   "outputs": [],
   "source": []
  },
  {
   "cell_type": "code",
   "execution_count": null,
   "metadata": {},
   "outputs": [],
   "source": []
  },
  {
   "cell_type": "code",
   "execution_count": null,
   "metadata": {},
   "outputs": [],
   "source": []
  },
  {
   "cell_type": "code",
   "execution_count": null,
   "metadata": {},
   "outputs": [],
   "source": []
  },
  {
   "cell_type": "code",
   "execution_count": null,
   "metadata": {},
   "outputs": [],
   "source": []
  }
 ],
 "metadata": {
  "anaconda-cloud": {},
  "kernel_info": {
   "name": "python3"
  },
  "kernelspec": {
   "display_name": "Python [conda env:pythondata] *",
   "language": "python",
   "name": "conda-env-pythondata-py"
  },
  "language_info": {
   "codemirror_mode": {
    "name": "ipython",
    "version": 3
   },
   "file_extension": ".py",
   "mimetype": "text/x-python",
   "name": "python",
   "nbconvert_exporter": "python",
   "pygments_lexer": "ipython3",
   "version": "3.6.10"
  },
  "latex_envs": {
   "LaTeX_envs_menu_present": true,
   "autoclose": false,
   "autocomplete": true,
   "bibliofile": "biblio.bib",
   "cite_by": "apalike",
   "current_citInitial": 1,
   "eqLabelWithNumbers": true,
   "eqNumInitial": 1,
   "hotkeys": {
    "equation": "Ctrl-E",
    "itemize": "Ctrl-I"
   },
   "labels_anchors": false,
   "latex_user_defs": false,
   "report_style_numbering": false,
   "user_envs_cfg": false
  },
  "nteract": {
   "version": "0.12.3"
  }
 },
 "nbformat": 4,
 "nbformat_minor": 2
}
