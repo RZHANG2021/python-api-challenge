{
 "cells": [
  {
   "cell_type": "markdown",
   "metadata": {},
   "source": [
    "# WeatherPy\n",
    "----\n",
    "\n",
    "#### Note\n",
    "* Instructions have been included for each segment. You do not have to follow them exactly, but they are included to help you think through the steps."
   ]
  },
  {
   "cell_type": "code",
   "execution_count": 41,
   "metadata": {
    "scrolled": true
   },
   "outputs": [],
   "source": [
    "# Dependencies and Setup\n",
    "import matplotlib.pyplot as plt\n",
    "import pandas as pd\n",
    "import numpy as np\n",
    "import requests\n",
    "import time\n",
    "import scipy.stats as st\n",
    "from scipy.stats import linregress\n",
    "\n",
    "# Import API key\n",
    "from api_keys import weather_api_key\n",
    "\n",
    "# Incorporated citipy to determine city based on latitude and longitude\n",
    "from citipy import citipy\n",
    "\n",
    "# Output File (CSV)\n",
    "output_data_file = \"output_data/cities.csv\"\n",
    "\n",
    "# Range of latitudes and longitudes\n",
    "lat_range = (-90, 90)\n",
    "lng_range = (-180, 180)"
   ]
  },
  {
   "cell_type": "markdown",
   "metadata": {},
   "source": [
    "## Generate Cities List"
   ]
  },
  {
   "cell_type": "code",
   "execution_count": 2,
   "metadata": {},
   "outputs": [
    {
     "data": {
      "text/plain": [
       "610"
      ]
     },
     "execution_count": 2,
     "metadata": {},
     "output_type": "execute_result"
    }
   ],
   "source": [
    "# List for holding lat_lngs and cities\n",
    "lat_lngs = []\n",
    "cities = []\n",
    "\n",
    "# Create a set of random lat and lng combinations\n",
    "lats = np.random.uniform(lat_range[0], lat_range[1], size=1500)\n",
    "lngs = np.random.uniform(lng_range[0], lng_range[1], size=1500)\n",
    "lat_lngs = zip(lats, lngs)\n",
    "\n",
    "# Identify nearest city for each lat, lng combination\n",
    "for lat_lng in lat_lngs:\n",
    "    city = citipy.nearest_city(lat_lng[0], lat_lng[1]).city_name\n",
    "    \n",
    "    # If the city is unique, then add it to a our cities list\n",
    "    if city not in cities:\n",
    "        cities.append(city)\n",
    "\n",
    "# Print the city count to confirm sufficient count\n",
    "len(cities)"
   ]
  },
  {
   "cell_type": "code",
   "execution_count": null,
   "metadata": {},
   "outputs": [],
   "source": []
  },
  {
   "cell_type": "markdown",
   "metadata": {},
   "source": [
    "### Perform API Calls\n",
    "* Perform a weather check on each city using a series of successive API calls.\n",
    "* Include a print log of each city as it'sbeing processed (with the city number and city name).\n"
   ]
  },
  {
   "cell_type": "code",
   "execution_count": 3,
   "metadata": {},
   "outputs": [],
   "source": [
    "# Save config information\n",
    "url = \"http://api.openweathermap.org/data/2.5/weather?\"\n",
    "units = \"metric\"\n",
    "\n",
    "# Build partial query URL\n",
    "query_url = f\"{url}appid={weather_api_key}&units={units}&q=\"\n"
   ]
  },
  {
   "cell_type": "code",
   "execution_count": 4,
   "metadata": {},
   "outputs": [
    {
     "name": "stdout",
     "output_type": "stream",
     "text": [
      "Processing Record 1 of set 1 |tadine\n",
      "Processing Record 2 of set 1 |tomigusuku\n",
      "Processing Record 3 of set 1 |havelock\n",
      "Processing Record 4 of set 1 |tarko-sale\n",
      "Processing Record 5 of set 1 |comodoro rivadavia\n",
      "Processing Record 6 of set 1 |airai\n",
      "Processing Record 7 of set 1 |ushuaia\n",
      "Processing Record 8 of set 1 |severo-kurilsk\n",
      "Processing Record 9 of set 1 |salalah\n",
      "Processing Record 10 of set 1 |hirara\n",
      "Processing Record 11 of set 1 |cape town\n",
      "Processing Record 12 of set 1 |qaanaaq\n",
      "Processing Record 13 of set 1 |teguldet\n",
      "Processing Record 14 of set 1 |torbay\n",
      "Processing Record 15 of set 1 |upernavik\n",
      "Processing Record 16 of set 1 |cherskiy\n",
      "Processing Record 17 of set 1 |tessalit\n",
      "Processing Record 18 of set 1 |mantamados\n",
      "Processing Record 19 of set 1 |klaksvik\n",
      "Processing Record 20 of set 1 |tuktoyaktuk\n",
      "Processing Record 21 of set 1 |bilma\n",
      "Processing Record 22 of set 1 |vaini\n",
      "Processing Record 23 of set 1 |hermanus\n",
      "Processing Record 24 of set 1 |hobart\n",
      "Processing Record 25 of set 1 |robertsport\n",
      "Processing Record 26 of set 1 |bubaque\n",
      "Processing Record 27 of set 1 |thompson\n",
      "Processing Record 28 of set 1 |new norfolk\n",
      "Processing Record 29 of set 1 |huarmey\n",
      "Processing Record 30 of set 1 |blagaj\n",
      "Processing Record 31 of set 1 |katsuura\n",
      "Processing Record 32 of set 1 |kifri\n",
      "Processing Record 33 of set 1 |kuah\n",
      "Processing Record 34 of set 1 |kosikha\n",
      "Processing Record 35 of set 1 |sao joao da barra\n",
      "Processing Record 36 of set 1 |hambantota\n",
      "Processing Record 37 of set 1 |tilichiki\n",
      "City not found. Skipping...\n",
      "Processing Record 39 of set 1 |warrington\n",
      "Processing Record 40 of set 1 |hithadhoo\n",
      "Processing Record 41 of set 1 |rikitea\n",
      "Processing Record 42 of set 1 |simbahan\n",
      "Processing Record 43 of set 1 |albany\n",
      "Processing Record 44 of set 1 |nova londrina\n",
      "Processing Record 45 of set 1 |mataura\n",
      "Processing Record 46 of set 1 |puerto ayora\n",
      "Processing Record 47 of set 1 |sebinkarahisar\n",
      "Processing Record 48 of set 1 |nurota\n",
      "City not found. Skipping...\n",
      "Processing Record 50 of set 1 |san patricio\n",
      "Processing Record 1 of set 2 |jamestown\n",
      "Processing Record 2 of set 2 |castlemaine\n",
      "Processing Record 3 of set 2 |hay river\n",
      "Processing Record 4 of set 2 |mildura\n",
      "Processing Record 5 of set 2 |lusaka\n",
      "Processing Record 6 of set 2 |bluff\n",
      "Processing Record 7 of set 2 |parati\n",
      "Processing Record 8 of set 2 |abha\n",
      "Processing Record 9 of set 2 |yar-sale\n",
      "Processing Record 10 of set 2 |la rioja\n",
      "Processing Record 11 of set 2 |touros\n",
      "Processing Record 12 of set 2 |bethel\n",
      "Processing Record 13 of set 2 |busselton\n",
      "Processing Record 14 of set 2 |faanui\n",
      "Processing Record 15 of set 2 |lavrentiya\n",
      "Processing Record 16 of set 2 |pacific grove\n",
      "Processing Record 17 of set 2 |jiangkou\n",
      "Processing Record 18 of set 2 |high level\n",
      "Processing Record 19 of set 2 |tiksi\n",
      "Processing Record 20 of set 2 |norman wells\n",
      "Processing Record 21 of set 2 |sicamous\n",
      "Processing Record 22 of set 2 |kapaa\n",
      "Processing Record 23 of set 2 |havre-saint-pierre\n",
      "Processing Record 24 of set 2 |port hardy\n",
      "Processing Record 25 of set 2 |san vicente\n",
      "Processing Record 26 of set 2 |baykit\n",
      "Processing Record 27 of set 2 |honiara\n",
      "Processing Record 28 of set 2 |bacungan\n",
      "Processing Record 29 of set 2 |khatanga\n",
      "Processing Record 30 of set 2 |yarada\n",
      "Processing Record 31 of set 2 |avarua\n",
      "Processing Record 32 of set 2 |marquette\n",
      "Processing Record 33 of set 2 |kupang\n",
      "Processing Record 34 of set 2 |roebourne\n",
      "Processing Record 35 of set 2 |fortuna\n",
      "City not found. Skipping...\n",
      "Processing Record 37 of set 2 |kodiak\n",
      "Processing Record 38 of set 2 |mecca\n",
      "City not found. Skipping...\n",
      "Processing Record 40 of set 2 |fort nelson\n",
      "Processing Record 41 of set 2 |yellowknife\n",
      "Processing Record 42 of set 2 |pisco\n",
      "Processing Record 43 of set 2 |leningradskiy\n",
      "Processing Record 44 of set 2 |saskylakh\n",
      "City not found. Skipping...\n",
      "Processing Record 46 of set 2 |rawson\n",
      "Processing Record 47 of set 2 |lake city\n",
      "Processing Record 48 of set 2 |staroutkinsk\n",
      "Processing Record 49 of set 2 |castro\n",
      "Processing Record 50 of set 2 |arraial do cabo\n",
      "Processing Record 1 of set 3 |tupelo\n",
      "Processing Record 2 of set 3 |shaowu\n",
      "City not found. Skipping...\n",
      "Processing Record 4 of set 3 |carnarvon\n",
      "City not found. Skipping...\n",
      "Processing Record 6 of set 3 |bredasdorp\n",
      "Processing Record 7 of set 3 |lompoc\n",
      "Processing Record 8 of set 3 |tuatapere\n",
      "Processing Record 9 of set 3 |sitka\n",
      "Processing Record 10 of set 3 |victoria\n",
      "Processing Record 11 of set 3 |banda aceh\n",
      "Processing Record 12 of set 3 |port alfred\n",
      "Processing Record 13 of set 3 |ponta do sol\n",
      "Processing Record 14 of set 3 |saint-philippe\n",
      "Processing Record 15 of set 3 |christchurch\n",
      "Processing Record 16 of set 3 |punta arenas\n",
      "City not found. Skipping...\n",
      "Processing Record 18 of set 3 |pereyaslovskaya\n",
      "Processing Record 19 of set 3 |saint-pierre\n",
      "Processing Record 20 of set 3 |matara\n",
      "Processing Record 21 of set 3 |zabol\n",
      "Processing Record 22 of set 3 |oktyabrskoye\n",
      "Processing Record 23 of set 3 |nikolskoye\n",
      "Processing Record 24 of set 3 |aykhal\n",
      "Processing Record 25 of set 3 |beringovskiy\n",
      "Processing Record 26 of set 3 |aripuana\n",
      "Processing Record 27 of set 3 |chino valley\n",
      "Processing Record 28 of set 3 |richards bay\n",
      "Processing Record 29 of set 3 |lebu\n",
      "Processing Record 30 of set 3 |modasa\n",
      "Processing Record 31 of set 3 |khorixas\n",
      "Processing Record 32 of set 3 |mafeteng\n",
      "Processing Record 33 of set 3 |krasnovishersk\n",
      "Processing Record 34 of set 3 |kaitangata\n",
      "Processing Record 35 of set 3 |atuona\n",
      "City not found. Skipping...\n",
      "Processing Record 37 of set 3 |te anau\n",
      "Processing Record 38 of set 3 |mar del plata\n",
      "Processing Record 39 of set 3 |kuragino\n",
      "Processing Record 40 of set 3 |gardez\n",
      "Processing Record 41 of set 3 |salta\n",
      "Processing Record 42 of set 3 |palmer\n",
      "Processing Record 43 of set 3 |tabou\n",
      "Processing Record 44 of set 3 |ribeira grande\n",
      "Processing Record 45 of set 3 |strathmore\n",
      "Processing Record 46 of set 3 |georgetown\n",
      "City not found. Skipping...\n",
      "Processing Record 48 of set 3 |souillac\n",
      "Processing Record 49 of set 3 |kahului\n",
      "Processing Record 50 of set 3 |port hedland\n",
      "Processing Record 1 of set 4 |omsukchan\n",
      "Processing Record 2 of set 4 |nome\n",
      "Processing Record 3 of set 4 |atikokan\n",
      "Processing Record 4 of set 4 |butaritari\n",
      "City not found. Skipping...\n",
      "Processing Record 6 of set 4 |tasiilaq\n",
      "Processing Record 7 of set 4 |hamilton\n",
      "Processing Record 8 of set 4 |barrow\n",
      "Processing Record 9 of set 4 |almeria\n",
      "Processing Record 10 of set 4 |ambanja\n",
      "Processing Record 11 of set 4 |lagoa\n",
      "Processing Record 12 of set 4 |pidhaytsi\n",
      "Processing Record 13 of set 4 |constantine\n",
      "Processing Record 14 of set 4 |balkanabat\n",
      "Processing Record 15 of set 4 |yenagoa\n",
      "Processing Record 16 of set 4 |bahia de caraquez\n",
      "Processing Record 17 of set 4 |codajas\n",
      "Processing Record 18 of set 4 |talnakh\n",
      "Processing Record 19 of set 4 |zvishavane\n",
      "Processing Record 20 of set 4 |baoro\n",
      "Processing Record 21 of set 4 |chapais\n",
      "Processing Record 22 of set 4 |chokurdakh\n",
      "Processing Record 23 of set 4 |dali\n",
      "Processing Record 24 of set 4 |geraldton\n",
      "Processing Record 25 of set 4 |gigmoto\n",
      "Processing Record 26 of set 4 |samarinda\n",
      "Processing Record 27 of set 4 |hilo\n",
      "Processing Record 28 of set 4 |boende\n",
      "City not found. Skipping...\n",
      "Processing Record 30 of set 4 |xiongyue\n",
      "City not found. Skipping...\n",
      "Processing Record 32 of set 4 |liberal\n",
      "City not found. Skipping...\n",
      "Processing Record 34 of set 4 |pevek\n",
      "Processing Record 35 of set 4 |auki\n",
      "Processing Record 36 of set 4 |sokoni\n",
      "Processing Record 37 of set 4 |hofn\n",
      "Processing Record 38 of set 4 |la ronge\n",
      "Processing Record 39 of set 4 |aklavik\n",
      "Processing Record 40 of set 4 |miri\n",
      "Processing Record 41 of set 4 |goderich\n",
      "Processing Record 42 of set 4 |luganville\n",
      "City not found. Skipping...\n",
      "Processing Record 44 of set 4 |alofi\n",
      "Processing Record 45 of set 4 |dikson\n",
      "City not found. Skipping...\n",
      "Processing Record 47 of set 4 |hasaki\n",
      "City not found. Skipping...\n",
      "Processing Record 49 of set 4 |pedro carbo\n",
      "Processing Record 50 of set 4 |krasnoselkup\n",
      "Processing Record 1 of set 5 |chuy\n",
      "Processing Record 2 of set 5 |narsaq\n",
      "Processing Record 3 of set 5 |harper\n",
      "Processing Record 4 of set 5 |atbasar\n",
      "Processing Record 5 of set 5 |gisborne\n",
      "Processing Record 6 of set 5 |faya\n",
      "Processing Record 7 of set 5 |ketchikan\n",
      "Processing Record 8 of set 5 |thunder bay\n",
      "Processing Record 9 of set 5 |ahipara\n",
      "Processing Record 10 of set 5 |college\n"
     ]
    },
    {
     "name": "stdout",
     "output_type": "stream",
     "text": [
      "Processing Record 11 of set 5 |margate\n",
      "Processing Record 12 of set 5 |paro\n",
      "Processing Record 13 of set 5 |constitucion\n",
      "Processing Record 14 of set 5 |mattru\n",
      "Processing Record 15 of set 5 |inirida\n",
      "Processing Record 16 of set 5 |lundazi\n",
      "Processing Record 17 of set 5 |nemuro\n",
      "Processing Record 18 of set 5 |oranjemund\n",
      "City not found. Skipping...\n",
      "Processing Record 20 of set 5 |nyurba\n",
      "Processing Record 21 of set 5 |nicoya\n",
      "Processing Record 22 of set 5 |pangai\n",
      "Processing Record 23 of set 5 |longyearbyen\n",
      "Processing Record 24 of set 5 |binzhou\n",
      "Processing Record 25 of set 5 |karaton\n",
      "Processing Record 26 of set 5 |luderitz\n",
      "Processing Record 27 of set 5 |safford\n",
      "Processing Record 28 of set 5 |byron bay\n",
      "Processing Record 29 of set 5 |tahe\n",
      "City not found. Skipping...\n",
      "Processing Record 31 of set 5 |murindo\n",
      "Processing Record 32 of set 5 |codrington\n",
      "City not found. Skipping...\n",
      "Processing Record 34 of set 5 |zhigansk\n",
      "Processing Record 35 of set 5 |inhambane\n",
      "Processing Record 36 of set 5 |arcata\n",
      "Processing Record 37 of set 5 |atyrau\n",
      "Processing Record 38 of set 5 |ilulissat\n",
      "Processing Record 39 of set 5 |tacuati\n",
      "Processing Record 40 of set 5 |marsh harbour\n",
      "Processing Record 41 of set 5 |kirkenes\n",
      "Processing Record 42 of set 5 |madimba\n",
      "Processing Record 43 of set 5 |alice springs\n",
      "Processing Record 44 of set 5 |san javier\n",
      "Processing Record 45 of set 5 |chiredzi\n",
      "Processing Record 46 of set 5 |caconda\n",
      "Processing Record 47 of set 5 |pedernales\n",
      "City not found. Skipping...\n",
      "Processing Record 49 of set 5 |karratha\n",
      "Processing Record 50 of set 5 |champerico\n",
      "Processing Record 1 of set 6 |esperance\n",
      "Processing Record 2 of set 6 |guerrero negro\n",
      "City not found. Skipping...\n",
      "Processing Record 4 of set 6 |rio gallegos\n",
      "Processing Record 5 of set 6 |hagdan\n",
      "Processing Record 6 of set 6 |goure\n",
      "Processing Record 7 of set 6 |bambous virieux\n",
      "Processing Record 8 of set 6 |half moon bay\n",
      "City not found. Skipping...\n",
      "City not found. Skipping...\n",
      "Processing Record 11 of set 6 |san cristobal\n",
      "Processing Record 12 of set 6 |mosterhamn\n",
      "Processing Record 13 of set 6 |kodinsk\n",
      "Processing Record 14 of set 6 |kibala\n",
      "Processing Record 15 of set 6 |eyl\n",
      "Processing Record 16 of set 6 |villa union\n",
      "Processing Record 17 of set 6 |marathon\n",
      "Processing Record 18 of set 6 |sena madureira\n",
      "Processing Record 19 of set 6 |dingle\n",
      "Processing Record 20 of set 6 |hovd\n",
      "Processing Record 21 of set 6 |olafsvik\n",
      "Processing Record 22 of set 6 |dzilam gonzalez\n",
      "Processing Record 23 of set 6 |mehamn\n",
      "City not found. Skipping...\n",
      "Processing Record 25 of set 6 |vaitape\n",
      "City not found. Skipping...\n",
      "Processing Record 27 of set 6 |nhamunda\n",
      "Processing Record 28 of set 6 |chimoio\n",
      "Processing Record 29 of set 6 |sisimiut\n",
      "Processing Record 30 of set 6 |sao felix do xingu\n",
      "Processing Record 31 of set 6 |allahganj\n",
      "Processing Record 32 of set 6 |rabo de peixe\n",
      "Processing Record 33 of set 6 |sinnamary\n",
      "Processing Record 34 of set 6 |afzalpur\n",
      "Processing Record 35 of set 6 |vao\n",
      "Processing Record 36 of set 6 |oussouye\n",
      "City not found. Skipping...\n",
      "City not found. Skipping...\n",
      "Processing Record 39 of set 6 |natal\n",
      "Processing Record 40 of set 6 |cidreira\n",
      "Processing Record 41 of set 6 |areia branca\n",
      "Processing Record 42 of set 6 |terney\n",
      "Processing Record 43 of set 6 |hualmay\n",
      "Processing Record 44 of set 6 |aguimes\n",
      "Processing Record 45 of set 6 |ha giang\n",
      "Processing Record 46 of set 6 |pochutla\n",
      "Processing Record 47 of set 6 |aleksandrov gay\n",
      "Processing Record 48 of set 6 |vestmannaeyjar\n",
      "Processing Record 49 of set 6 |ambon\n",
      "Processing Record 50 of set 6 |aswan\n",
      "Processing Record 1 of set 7 |moussoro\n",
      "Processing Record 2 of set 7 |north platte\n",
      "Processing Record 3 of set 7 |ancud\n",
      "Processing Record 4 of set 7 |bushehr\n",
      "Processing Record 5 of set 7 |hami\n",
      "City not found. Skipping...\n",
      "Processing Record 7 of set 7 |isangel\n",
      "Processing Record 8 of set 7 |labuhan\n",
      "Processing Record 9 of set 7 |polson\n",
      "Processing Record 10 of set 7 |nuuk\n",
      "Processing Record 11 of set 7 |monrovia\n",
      "Processing Record 12 of set 7 |fengrun\n",
      "Processing Record 13 of set 7 |wasilla\n",
      "Processing Record 14 of set 7 |bone\n",
      "Processing Record 15 of set 7 |vila franca do campo\n",
      "Processing Record 16 of set 7 |acapulco\n",
      "Processing Record 17 of set 7 |kieta\n",
      "Processing Record 18 of set 7 |bengkulu\n",
      "Processing Record 19 of set 7 |carira\n",
      "Processing Record 20 of set 7 |vanavara\n",
      "Processing Record 21 of set 7 |deputatskiy\n",
      "Processing Record 22 of set 7 |winslow\n",
      "Processing Record 23 of set 7 |yantzaza\n",
      "Processing Record 24 of set 7 |khandyga\n",
      "Processing Record 25 of set 7 |mahebourg\n",
      "Processing Record 26 of set 7 |zhangzhou\n",
      "Processing Record 27 of set 7 |ixtapa\n",
      "City not found. Skipping...\n",
      "Processing Record 29 of set 7 |cabo san lucas\n",
      "Processing Record 30 of set 7 |sovetskiy\n",
      "Processing Record 31 of set 7 |clyde river\n",
      "Processing Record 32 of set 7 |canguaretama\n",
      "City not found. Skipping...\n",
      "Processing Record 34 of set 7 |plettenberg bay\n",
      "Processing Record 35 of set 7 |bongandanga\n",
      "City not found. Skipping...\n",
      "Processing Record 37 of set 7 |innisfail\n",
      "City not found. Skipping...\n",
      "Processing Record 39 of set 7 |saint george\n",
      "Processing Record 40 of set 7 |malanje\n",
      "Processing Record 41 of set 7 |rio grande\n",
      "Processing Record 42 of set 7 |bunia\n",
      "Processing Record 43 of set 7 |kingsport\n",
      "City not found. Skipping...\n",
      "Processing Record 45 of set 7 |belem de sao francisco\n",
      "Processing Record 46 of set 7 |mount isa\n",
      "Processing Record 47 of set 7 |darnah\n",
      "Processing Record 48 of set 7 |dawson creek\n",
      "Processing Record 49 of set 7 |san felipe\n",
      "Processing Record 50 of set 7 |elliot\n",
      "Processing Record 1 of set 8 |cockburn town\n",
      "Processing Record 2 of set 8 |itigi\n",
      "Processing Record 3 of set 8 |musoma\n",
      "Processing Record 4 of set 8 |paramonga\n",
      "Processing Record 5 of set 8 |kavaratti\n",
      "Processing Record 6 of set 8 |collie\n",
      "Processing Record 7 of set 8 |salekhard\n",
      "Processing Record 8 of set 8 |naze\n",
      "Processing Record 9 of set 8 |necochea\n",
      "Processing Record 10 of set 8 |kalianget\n",
      "Processing Record 11 of set 8 |iqaluit\n",
      "Processing Record 12 of set 8 |nishihara\n",
      "Processing Record 13 of set 8 |vardo\n",
      "Processing Record 14 of set 8 |kayerkan\n",
      "Processing Record 15 of set 8 |east london\n",
      "Processing Record 16 of set 8 |peniche\n",
      "Processing Record 17 of set 8 |novoagansk\n",
      "Processing Record 18 of set 8 |bonavista\n",
      "Processing Record 19 of set 8 |haverfordwest\n",
      "Processing Record 20 of set 8 |nanortalik\n",
      "Processing Record 21 of set 8 |poum\n",
      "Processing Record 22 of set 8 |praya\n",
      "Processing Record 23 of set 8 |anloga\n",
      "Processing Record 24 of set 8 |soto la marina\n",
      "Processing Record 25 of set 8 |hun\n",
      "Processing Record 26 of set 8 |lugo\n",
      "Processing Record 27 of set 8 |kailua\n",
      "Processing Record 28 of set 8 |bulgan\n",
      "Processing Record 29 of set 8 |port elizabeth\n",
      "Processing Record 30 of set 8 |gat\n",
      "Processing Record 31 of set 8 |ratnagiri\n",
      "Processing Record 32 of set 8 |santa maria\n",
      "Processing Record 33 of set 8 |khuzhir\n",
      "Processing Record 34 of set 8 |coquimbo\n",
      "Processing Record 35 of set 8 |belchertown\n",
      "Processing Record 36 of set 8 |nakhodka\n",
      "Processing Record 37 of set 8 |puerto del rosario\n",
      "Processing Record 38 of set 8 |quatre cocos\n",
      "Processing Record 39 of set 8 |luanda\n",
      "Processing Record 40 of set 8 |clarksburg\n",
      "Processing Record 41 of set 8 |black diamond\n",
      "Processing Record 42 of set 8 |ilebo\n",
      "Processing Record 43 of set 8 |ushtobe\n",
      "Processing Record 44 of set 8 |namatanai\n",
      "Processing Record 45 of set 8 |tigil\n",
      "Processing Record 46 of set 8 |nenjiang\n",
      "Processing Record 47 of set 8 |hobyo\n",
      "Processing Record 48 of set 8 |viedma\n",
      "Processing Record 49 of set 8 |pauini\n",
      "Processing Record 50 of set 8 |samalkha\n",
      "City not found. Skipping...\n",
      "Processing Record 2 of set 9 |flinders\n",
      "Processing Record 3 of set 9 |poykovskiy\n",
      "Processing Record 4 of set 9 |qui nhon\n",
      "Processing Record 5 of set 9 |kearney\n",
      "Processing Record 6 of set 9 |alta floresta\n",
      "Processing Record 7 of set 9 |jalu\n",
      "Processing Record 8 of set 9 |arandis\n",
      "Processing Record 9 of set 9 |coihaique\n",
      "Processing Record 10 of set 9 |sabang\n",
      "Processing Record 11 of set 9 |ugoofaaru\n",
      "Processing Record 12 of set 9 |buala\n",
      "Processing Record 13 of set 9 |sao filipe\n",
      "Processing Record 14 of set 9 |zambezi\n",
      "Processing Record 15 of set 9 |gunjur\n",
      "Processing Record 16 of set 9 |filadelfia\n",
      "Processing Record 17 of set 9 |arlit\n",
      "Processing Record 18 of set 9 |westport\n",
      "Processing Record 19 of set 9 |khani\n",
      "City not found. Skipping...\n"
     ]
    },
    {
     "name": "stdout",
     "output_type": "stream",
     "text": [
      "City not found. Skipping...\n",
      "Processing Record 22 of set 9 |yarmouth\n",
      "Processing Record 23 of set 9 |varhaug\n",
      "Processing Record 24 of set 9 |irtyshskiy\n",
      "Processing Record 25 of set 9 |vysokaya gora\n",
      "Processing Record 26 of set 9 |vila velha\n",
      "Processing Record 27 of set 9 |altay\n",
      "Processing Record 28 of set 9 |kudahuvadhoo\n",
      "Processing Record 29 of set 9 |burgeo\n",
      "Processing Record 30 of set 9 |san carlos de bariloche\n",
      "Processing Record 31 of set 9 |eseka\n",
      "Processing Record 32 of set 9 |soubre\n",
      "Processing Record 33 of set 9 |mount gambier\n",
      "Processing Record 34 of set 9 |umred\n",
      "Processing Record 35 of set 9 |vanderhoof\n",
      "Processing Record 36 of set 9 |port-gentil\n",
      "Processing Record 37 of set 9 |dunmore town\n",
      "Processing Record 38 of set 9 |mongoumba\n",
      "Processing Record 39 of set 9 |teya\n",
      "Processing Record 40 of set 9 |kawerau\n",
      "Processing Record 41 of set 9 |nanga eboko\n",
      "Processing Record 42 of set 9 |berlevag\n",
      "Processing Record 43 of set 9 |waingapu\n",
      "Processing Record 44 of set 9 |sokolo\n",
      "Processing Record 45 of set 9 |severomuysk\n",
      "Processing Record 46 of set 9 |calabar\n",
      "Processing Record 47 of set 9 |nizwa\n",
      "Processing Record 48 of set 9 |curup\n",
      "Processing Record 49 of set 9 |batagay\n",
      "City not found. Skipping...\n",
      "Processing Record 1 of set 10 |matagami\n",
      "Processing Record 2 of set 10 |mazara del vallo\n",
      "Processing Record 3 of set 10 |kruisfontein\n",
      "Processing Record 4 of set 10 |cap malheureux\n",
      "Processing Record 5 of set 10 |nacala\n",
      "Processing Record 6 of set 10 |solano\n",
      "Processing Record 7 of set 10 |rafaela\n",
      "Processing Record 8 of set 10 |taltal\n",
      "Processing Record 9 of set 10 |grand forks\n",
      "Processing Record 10 of set 10 |livingstone\n",
      "Processing Record 11 of set 10 |korla\n",
      "Processing Record 12 of set 10 |qasigiannguit\n",
      "Processing Record 13 of set 10 |koumac\n",
      "Processing Record 14 of set 10 |provideniya\n",
      "Processing Record 15 of set 10 |khash\n",
      "Processing Record 16 of set 10 |imbituba\n",
      "Processing Record 17 of set 10 |laguna\n",
      "Processing Record 18 of set 10 |barpeta\n",
      "Processing Record 19 of set 10 |yaan\n",
      "City not found. Skipping...\n",
      "Processing Record 21 of set 10 |skjervoy\n",
      "Processing Record 22 of set 10 |fereydun kenar\n",
      "Processing Record 23 of set 10 |jacqueville\n",
      "Processing Record 24 of set 10 |ericeira\n",
      "Processing Record 25 of set 10 |elliot lake\n",
      "Processing Record 26 of set 10 |bowen\n",
      "Processing Record 27 of set 10 |dodge city\n",
      "Processing Record 28 of set 10 |birao\n",
      "City not found. Skipping...\n",
      "Processing Record 30 of set 10 |zhangye\n",
      "Processing Record 31 of set 10 |yining\n",
      "Processing Record 32 of set 10 |mayo\n",
      "Processing Record 33 of set 10 |freeport\n",
      "Processing Record 34 of set 10 |soyo\n",
      "City not found. Skipping...\n",
      "Processing Record 36 of set 10 |domoni\n",
      "Processing Record 37 of set 10 |lazaro cardenas\n",
      "Processing Record 38 of set 10 |caravelas\n",
      "Processing Record 39 of set 10 |vila do maio\n",
      "City not found. Skipping...\n",
      "Processing Record 41 of set 10 |palekh\n",
      "Processing Record 42 of set 10 |bereda\n",
      "Processing Record 43 of set 10 |port-cartier\n",
      "Processing Record 44 of set 10 |ukiah\n",
      "Processing Record 45 of set 10 |larap\n",
      "Processing Record 46 of set 10 |tura\n",
      "Processing Record 47 of set 10 |ocala\n",
      "Processing Record 48 of set 10 |praia da vitoria\n",
      "Processing Record 49 of set 10 |offa\n",
      "Processing Record 50 of set 10 |saldanha\n",
      "Processing Record 1 of set 11 |gwembe\n",
      "Processing Record 2 of set 11 |saint anthony\n",
      "Processing Record 3 of set 11 |ust-ilimsk\n",
      "Processing Record 4 of set 11 |kavieng\n",
      "Processing Record 5 of set 11 |tierralta\n",
      "Processing Record 6 of set 11 |formosa\n",
      "Processing Record 7 of set 11 |lodwar\n",
      "Processing Record 8 of set 11 |yulara\n",
      "Processing Record 9 of set 11 |manzhouli\n",
      "Processing Record 10 of set 11 |muros\n",
      "Processing Record 11 of set 11 |west odessa\n",
      "Processing Record 12 of set 11 |pacifica\n",
      "Processing Record 13 of set 11 |sidney\n",
      "Processing Record 14 of set 11 |hohhot\n",
      "Processing Record 15 of set 11 |buraydah\n",
      "Processing Record 16 of set 11 |shimoda\n",
      "Processing Record 17 of set 11 |iranshahr\n",
      "Processing Record 18 of set 11 |tiznit\n",
      "Processing Record 19 of set 11 |tieli\n",
      "Processing Record 20 of set 11 |yemelyanovo\n",
      "Processing Record 21 of set 11 |bafia\n",
      "Processing Record 22 of set 11 |maicao\n",
      "Processing Record 23 of set 11 |tecoanapa\n",
      "Processing Record 24 of set 11 |rock sound\n",
      "Processing Record 25 of set 11 |alghero\n",
      "Processing Record 26 of set 11 |ornskoldsvik\n",
      "Processing Record 27 of set 11 |linhares\n",
      "Processing Record 28 of set 11 |salinopolis\n",
      "Processing Record 29 of set 11 |tongchuan\n",
      "Processing Record 30 of set 11 |parintins\n",
      "Processing Record 31 of set 11 |beyneu\n",
      "City not found. Skipping...\n",
      "City not found. Skipping...\n",
      "Processing Record 34 of set 11 |port moresby\n",
      "Processing Record 35 of set 11 |ostrovnoy\n",
      "Processing Record 36 of set 11 |sao bras de alportel\n",
      "Processing Record 37 of set 11 |ucluelet\n",
      "Processing Record 38 of set 11 |mayumba\n",
      "Processing Record 39 of set 11 |labytnangi\n",
      "Processing Record 40 of set 11 |nushki\n",
      "Processing Record 41 of set 11 |villarrubia de los ojos\n",
      "Processing Record 42 of set 11 |jaisalmer\n",
      "Processing Record 43 of set 11 |parasia\n",
      "Processing Record 44 of set 11 |lagos\n",
      "Processing Record 45 of set 11 |jiuquan\n",
      "Processing Record 46 of set 11 |port lincoln\n",
      "Processing Record 47 of set 11 |san-pedro\n",
      "Processing Record 48 of set 11 |yuxia\n",
      "Processing Record 49 of set 11 |saquena\n",
      "Processing Record 50 of set 11 |pangody\n",
      "Processing Record 1 of set 12 |sambava\n",
      "Processing Record 2 of set 12 |longview\n",
      "Processing Record 3 of set 12 |belmonte\n",
      "Processing Record 4 of set 12 |axim\n",
      "Processing Record 5 of set 12 |bengbu\n",
      "Processing Record 6 of set 12 |timucuy\n",
      "Processing Record 7 of set 12 |port augusta\n",
      "Processing Record 8 of set 12 |nikel\n",
      "Processing Record 9 of set 12 |dayong\n",
      "Processing Record 10 of set 12 |lozuvatka\n",
      "City not found. Skipping...\n",
      "Processing Record 12 of set 12 |aiken\n",
      "Processing Record 13 of set 12 |tezu\n",
      "Processing Record 14 of set 12 |oistins\n",
      "Processing Record 15 of set 12 |sorland\n",
      "Processing Record 16 of set 12 |central point\n",
      "Processing Record 17 of set 12 |maple creek\n",
      "Processing Record 18 of set 12 |karasjok\n",
      "Processing Record 19 of set 12 |koulikoro\n",
      "Processing Record 20 of set 12 |rochegda\n",
      "Processing Record 21 of set 12 |itarema\n",
      "Processing Record 22 of set 12 |atambua\n",
      "Processing Record 23 of set 12 |gayny\n",
      "Processing Record 24 of set 12 |dvorichna\n",
      "Processing Record 25 of set 12 |carbonia\n",
      "Processing Record 26 of set 12 |sept-iles\n",
      "Processing Record 27 of set 12 |galbshtadt\n",
      "Processing Record 28 of set 12 |waipawa\n",
      "City not found. Skipping...\n",
      "Processing Record 30 of set 12 |capiibary\n",
      "Processing Record 31 of set 12 |urumqi\n",
      "City not found. Skipping...\n",
      "Processing Record 33 of set 12 |bilibino\n",
      "Processing Record 34 of set 12 |aranos\n",
      "Processing Record 35 of set 12 |vostok\n",
      "City not found. Skipping...\n",
      "Processing Record 37 of set 12 |qeshm\n",
      "Processing Record 38 of set 12 |zhigalovo\n",
      "Processing Record 39 of set 12 |saint-augustin\n",
      "Processing Record 40 of set 12 |kangaatsiaq\n",
      "Processing Record 41 of set 12 |kuandian\n",
      "Processing Record 42 of set 12 |saint-michel-des-saints\n",
      "Processing Record 43 of set 12 |veraval\n",
      "City not found. Skipping...\n",
      "Processing Record 45 of set 12 |dunedin\n",
      "Processing Record 46 of set 12 |ullapool\n",
      "Processing Record 47 of set 12 |ulaangom\n",
      "City not found. Skipping...\n",
      "Processing Record 49 of set 12 |gualeguay\n",
      "Processing Record 50 of set 12 |rocha\n",
      "Processing Record 1 of set 13 |beloha\n",
      "Processing Record 2 of set 13 |russkiy kameshkir\n",
      "Processing Record 3 of set 13 |kalmunai\n",
      "Processing Record 4 of set 13 |semey\n",
      "Processing Record 5 of set 13 |brae\n",
      "Processing Record 6 of set 13 |northam\n",
      "Processing Record 7 of set 13 |chicama\n",
      "Processing Record 8 of set 13 |siguiri\n",
      "Processing Record 9 of set 13 |mongo\n",
      "Processing Record 10 of set 13 |perote\n"
     ]
    }
   ],
   "source": [
    "\n",
    "# set up lists to hold reponse info\n",
    "city_checked=[]\n",
    "lng = []\n",
    "lat = []\n",
    "temp = []\n",
    "humidity = []\n",
    "wind = []\n",
    "cloud = []\n",
    "country = []\n",
    "date=[]\n",
    "record_count=0\n",
    "set_count=0\n",
    "\n",
    "\n",
    "# Loop through the list of cities and perform a request for data on each city\n",
    "\n",
    "    \n",
    "for i, city in enumerate(cities):\n",
    "    set_count = i // 50 + 1\n",
    "    record_count= i % 50 + 1 \n",
    "\n",
    "    try:\n",
    "        response = requests.get(query_url + city).json()  \n",
    "        city_checked.append(response['name'])\n",
    "        lng.append(response['coord']['lon'])\n",
    "        lat.append(response['coord']['lat'])\n",
    "        temp.append(response['main']['temp_max'])\n",
    "        humidity.append(response['main']['humidity'])\n",
    "        wind.append(response['wind']['speed'])\n",
    "        cloud.append(response['clouds']['all'])\n",
    "        date.append(response['dt'])\n",
    "        country.append(response['sys']['country'])\n",
    "\n",
    "            #print a print log of each city as it'sbeing processed (with the city number and city name)\n",
    "        print(f\"Processing Record {record_count} of set {set_count} |{city}\")\n",
    "    except (KeyError, IndexError):\n",
    "        print(\"City not found. Skipping...\")\n",
    "\n",
    "      "
   ]
  },
  {
   "cell_type": "code",
   "execution_count": null,
   "metadata": {},
   "outputs": [],
   "source": []
  },
  {
   "cell_type": "markdown",
   "metadata": {},
   "source": [
    "### Convert Raw Data to DataFrame\n",
    "* Export the city data into a .csv.\n",
    "* Display the DataFrame"
   ]
  },
  {
   "cell_type": "code",
   "execution_count": 6,
   "metadata": {},
   "outputs": [
    {
     "ename": "NameError",
     "evalue": "name 'city_checked' is not defined",
     "output_type": "error",
     "traceback": [
      "\u001b[1;31m---------------------------------------------------------------------------\u001b[0m",
      "\u001b[1;31mNameError\u001b[0m                                 Traceback (most recent call last)",
      "\u001b[1;32m<ipython-input-6-60a0ee2e314e>\u001b[0m in \u001b[0;36m<module>\u001b[1;34m\u001b[0m\n\u001b[0;32m      1\u001b[0m \u001b[1;31m# create a data frame from cities, lat, and temp\u001b[0m\u001b[1;33m\u001b[0m\u001b[1;33m\u001b[0m\u001b[1;33m\u001b[0m\u001b[0m\n\u001b[0;32m      2\u001b[0m weather_dict = {\n\u001b[1;32m----> 3\u001b[1;33m     \u001b[1;34m\"city\"\u001b[0m\u001b[1;33m:\u001b[0m \u001b[0mcity_checked\u001b[0m\u001b[1;33m,\u001b[0m\u001b[1;33m\u001b[0m\u001b[1;33m\u001b[0m\u001b[0m\n\u001b[0m\u001b[0;32m      4\u001b[0m     \u001b[1;34m\"lng\"\u001b[0m\u001b[1;33m:\u001b[0m \u001b[0mlng\u001b[0m\u001b[1;33m,\u001b[0m\u001b[1;33m\u001b[0m\u001b[1;33m\u001b[0m\u001b[0m\n\u001b[0;32m      5\u001b[0m     \u001b[1;34m\"lat\"\u001b[0m\u001b[1;33m:\u001b[0m \u001b[0mlat\u001b[0m\u001b[1;33m,\u001b[0m\u001b[1;33m\u001b[0m\u001b[1;33m\u001b[0m\u001b[0m\n",
      "\u001b[1;31mNameError\u001b[0m: name 'city_checked' is not defined"
     ]
    }
   ],
   "source": [
    "# create a data frame from cities, lat, and temp\n",
    "weather_dict = {\n",
    "    \"city\": city_checked,\n",
    "    \"lng\": lng,\n",
    "    \"lat\": lat,\n",
    "    \"Max Temp\": temp,\n",
    "    \"Humidity\": humidity,\n",
    "    \"Wind Speed\": wind,\n",
    "    \"Cloudiness\": cloud,\n",
    "    \"Country\": country,\n",
    "    \"Date\": date\n",
    "    \n",
    "}\n",
    "weather_data = pd.DataFrame(weather_dict)"
   ]
  },
  {
   "cell_type": "code",
   "execution_count": 3,
   "metadata": {},
   "outputs": [
    {
     "ename": "NameError",
     "evalue": "name 'weather_data' is not defined",
     "output_type": "error",
     "traceback": [
      "\u001b[1;31m---------------------------------------------------------------------------\u001b[0m",
      "\u001b[1;31mNameError\u001b[0m                                 Traceback (most recent call last)",
      "\u001b[1;32m<ipython-input-3-bcac7d5899fd>\u001b[0m in \u001b[0;36m<module>\u001b[1;34m\u001b[0m\n\u001b[0;32m      1\u001b[0m \u001b[1;31m# Save the updated dataframe as a csv\u001b[0m\u001b[1;33m\u001b[0m\u001b[1;33m\u001b[0m\u001b[1;33m\u001b[0m\u001b[0m\n\u001b[1;32m----> 2\u001b[1;33m \u001b[0mweather_data\u001b[0m\u001b[1;33m.\u001b[0m\u001b[0mto_csv\u001b[0m\u001b[1;33m(\u001b[0m\u001b[1;34m\"../output_data/weather_data.csv\"\u001b[0m\u001b[1;33m,\u001b[0m \u001b[0mencoding\u001b[0m\u001b[1;33m=\u001b[0m\u001b[1;34m\"utf-8\"\u001b[0m\u001b[1;33m,\u001b[0m \u001b[0mindex\u001b[0m\u001b[1;33m=\u001b[0m\u001b[1;32mFalse\u001b[0m\u001b[1;33m)\u001b[0m\u001b[1;33m\u001b[0m\u001b[1;33m\u001b[0m\u001b[0m\n\u001b[0m\u001b[0;32m      3\u001b[0m \u001b[0mweather_data\u001b[0m\u001b[1;33m.\u001b[0m\u001b[0mhead\u001b[0m\u001b[1;33m(\u001b[0m\u001b[1;33m)\u001b[0m\u001b[1;33m\u001b[0m\u001b[1;33m\u001b[0m\u001b[0m\n",
      "\u001b[1;31mNameError\u001b[0m: name 'weather_data' is not defined"
     ]
    }
   ],
   "source": [
    "# Save the updated dataframe as a csv\n",
    "weather_data.to_csv(\"../output_data/weather_data.csv\", encoding=\"utf-8\", index=False)\n",
    "weather_data.head()"
   ]
  },
  {
   "cell_type": "code",
   "execution_count": 7,
   "metadata": {},
   "outputs": [
    {
     "name": "stdout",
     "output_type": "stream",
     "text": [
      "<class 'pandas.core.frame.DataFrame'>\n",
      "RangeIndex: 560 entries, 0 to 559\n",
      "Data columns (total 9 columns):\n",
      " #   Column      Non-Null Count  Dtype  \n",
      "---  ------      --------------  -----  \n",
      " 0   city        560 non-null    object \n",
      " 1   lng         560 non-null    float64\n",
      " 2   lat         560 non-null    float64\n",
      " 3   Max Temp    560 non-null    float64\n",
      " 4   Humidity    560 non-null    int64  \n",
      " 5   Wind Speed  560 non-null    float64\n",
      " 6   Cloudiness  560 non-null    int64  \n",
      " 7   Country     560 non-null    object \n",
      " 8   Date        560 non-null    int64  \n",
      "dtypes: float64(4), int64(3), object(2)\n",
      "memory usage: 39.5+ KB\n"
     ]
    }
   ],
   "source": [
    "weather_data.info()"
   ]
  },
  {
   "cell_type": "code",
   "execution_count": null,
   "metadata": {},
   "outputs": [],
   "source": []
  },
  {
   "cell_type": "markdown",
   "metadata": {},
   "source": [
    "## Inspect the data and remove the cities where the humidity > 100%.\n",
    "----\n",
    "Skip this step if there are no cities that have humidity > 100%. "
   ]
  },
  {
   "cell_type": "code",
   "execution_count": 30,
   "metadata": {},
   "outputs": [
    {
     "data": {
      "text/html": [
       "<div>\n",
       "<style scoped>\n",
       "    .dataframe tbody tr th:only-of-type {\n",
       "        vertical-align: middle;\n",
       "    }\n",
       "\n",
       "    .dataframe tbody tr th {\n",
       "        vertical-align: top;\n",
       "    }\n",
       "\n",
       "    .dataframe thead th {\n",
       "        text-align: right;\n",
       "    }\n",
       "</style>\n",
       "<table border=\"1\" class=\"dataframe\">\n",
       "  <thead>\n",
       "    <tr style=\"text-align: right;\">\n",
       "      <th></th>\n",
       "      <th>lng</th>\n",
       "      <th>lat</th>\n",
       "      <th>Max Temp</th>\n",
       "      <th>Humidity</th>\n",
       "      <th>Wind Speed</th>\n",
       "      <th>Cloudiness</th>\n",
       "      <th>Date</th>\n",
       "    </tr>\n",
       "  </thead>\n",
       "  <tbody>\n",
       "    <tr>\n",
       "      <th>count</th>\n",
       "      <td>560.000000</td>\n",
       "      <td>560.000000</td>\n",
       "      <td>560.000000</td>\n",
       "      <td>560.000000</td>\n",
       "      <td>560.000000</td>\n",
       "      <td>560.000000</td>\n",
       "      <td>5.600000e+02</td>\n",
       "    </tr>\n",
       "    <tr>\n",
       "      <th>mean</th>\n",
       "      <td>14.176640</td>\n",
       "      <td>19.103566</td>\n",
       "      <td>20.860821</td>\n",
       "      <td>66.996429</td>\n",
       "      <td>3.598214</td>\n",
       "      <td>57.580357</td>\n",
       "      <td>1.623487e+09</td>\n",
       "    </tr>\n",
       "    <tr>\n",
       "      <th>std</th>\n",
       "      <td>90.002268</td>\n",
       "      <td>33.575105</td>\n",
       "      <td>8.701230</td>\n",
       "      <td>24.296543</td>\n",
       "      <td>2.588084</td>\n",
       "      <td>39.121305</td>\n",
       "      <td>8.593140e+01</td>\n",
       "    </tr>\n",
       "    <tr>\n",
       "      <th>min</th>\n",
       "      <td>-175.200000</td>\n",
       "      <td>-54.800000</td>\n",
       "      <td>-1.990000</td>\n",
       "      <td>3.000000</td>\n",
       "      <td>0.000000</td>\n",
       "      <td>0.000000</td>\n",
       "      <td>1.623487e+09</td>\n",
       "    </tr>\n",
       "    <tr>\n",
       "      <th>25%</th>\n",
       "      <td>-66.893150</td>\n",
       "      <td>-8.961350</td>\n",
       "      <td>14.915000</td>\n",
       "      <td>51.000000</td>\n",
       "      <td>1.602500</td>\n",
       "      <td>14.000000</td>\n",
       "      <td>1.623487e+09</td>\n",
       "    </tr>\n",
       "    <tr>\n",
       "      <th>50%</th>\n",
       "      <td>17.189350</td>\n",
       "      <td>23.066650</td>\n",
       "      <td>22.095000</td>\n",
       "      <td>74.000000</td>\n",
       "      <td>3.060000</td>\n",
       "      <td>73.000000</td>\n",
       "      <td>1.623487e+09</td>\n",
       "    </tr>\n",
       "    <tr>\n",
       "      <th>75%</th>\n",
       "      <td>90.415075</td>\n",
       "      <td>47.385700</td>\n",
       "      <td>26.415000</td>\n",
       "      <td>86.000000</td>\n",
       "      <td>5.020000</td>\n",
       "      <td>97.000000</td>\n",
       "      <td>1.623487e+09</td>\n",
       "    </tr>\n",
       "    <tr>\n",
       "      <th>max</th>\n",
       "      <td>179.316700</td>\n",
       "      <td>78.218600</td>\n",
       "      <td>44.800000</td>\n",
       "      <td>100.000000</td>\n",
       "      <td>14.310000</td>\n",
       "      <td>100.000000</td>\n",
       "      <td>1.623487e+09</td>\n",
       "    </tr>\n",
       "  </tbody>\n",
       "</table>\n",
       "</div>"
      ],
      "text/plain": [
       "              lng         lat    Max Temp    Humidity  Wind Speed  Cloudiness  \\\n",
       "count  560.000000  560.000000  560.000000  560.000000  560.000000  560.000000   \n",
       "mean    14.176640   19.103566   20.860821   66.996429    3.598214   57.580357   \n",
       "std     90.002268   33.575105    8.701230   24.296543    2.588084   39.121305   \n",
       "min   -175.200000  -54.800000   -1.990000    3.000000    0.000000    0.000000   \n",
       "25%    -66.893150   -8.961350   14.915000   51.000000    1.602500   14.000000   \n",
       "50%     17.189350   23.066650   22.095000   74.000000    3.060000   73.000000   \n",
       "75%     90.415075   47.385700   26.415000   86.000000    5.020000   97.000000   \n",
       "max    179.316700   78.218600   44.800000  100.000000   14.310000  100.000000   \n",
       "\n",
       "               Date  \n",
       "count  5.600000e+02  \n",
       "mean   1.623487e+09  \n",
       "std    8.593140e+01  \n",
       "min    1.623487e+09  \n",
       "25%    1.623487e+09  \n",
       "50%    1.623487e+09  \n",
       "75%    1.623487e+09  \n",
       "max    1.623487e+09  "
      ]
     },
     "execution_count": 30,
     "metadata": {},
     "output_type": "execute_result"
    }
   ],
   "source": [
    "weather_data_path=\"../output_data/weather_data.csv\"\n",
    "weather_data_df=pd.read_csv(weather_data_path,encoding=\"utf-8\")\n",
    "weather_data_df.describe()"
   ]
  },
  {
   "cell_type": "code",
   "execution_count": 9,
   "metadata": {},
   "outputs": [
    {
     "name": "stdout",
     "output_type": "stream",
     "text": [
      "            city       lng      lat  Max Temp  Humidity  Wind Speed  \\\n",
      "48     Jamestown  -79.2353  42.0970     17.14       100        3.09   \n",
      "65    High Level -117.1360  58.5169      7.06       100        1.03   \n",
      "85   Fort Nelson -122.7002  58.8053      7.77       100        1.03   \n",
      "86   Yellowknife -114.3525  62.4560      4.29       100        6.17   \n",
      "91     Lake City  -82.6393  30.1897     24.32       100        2.06   \n",
      "156      Talnakh   88.3972  69.4865      1.70       100        2.52   \n",
      "197      Inírida  -67.9239   3.8653     22.18       100        0.51   \n",
      "329     Kayerkan   87.7602  69.3497      1.51       100        1.89   \n",
      "349     Coquimbo  -71.3436 -29.9533      9.85       100        1.54   \n",
      "463      Formosa  -58.1781 -26.1775      9.99       100        1.03   \n",
      "\n",
      "     Cloudiness Country        Date  \n",
      "48           90      US  1623487190  \n",
      "65            1      CA  1623487144  \n",
      "85           75      CA  1623487200  \n",
      "86           90      CA  1623487201  \n",
      "91           40      US  1623487202  \n",
      "156         100      RU  1623486993  \n",
      "197         100      CO  1623487231  \n",
      "329         100      RU  1623487268  \n",
      "349          75      CL  1623487272  \n",
      "463           0      AR  1623487302  \n"
     ]
    }
   ],
   "source": [
    "#  Get the indices of cities that have humidity equal or over 100%.\n",
    "\n",
    "Humidity_100=weather_data_df.loc[weather_data_df[\"Humidity\"]>=100]\n",
    "\n",
    "print (Humidity_100)\n",
    "\n"
   ]
  },
  {
   "cell_type": "code",
   "execution_count": null,
   "metadata": {},
   "outputs": [],
   "source": [
    "# Make a new DataFrame equal to the city data to drop all humidity outliers by index.\n",
    "# Passing \"inplace=False\" will make a copy of the city_data DataFrame, which we call \"clean_city_data\"."
   ]
  },
  {
   "cell_type": "code",
   "execution_count": 11,
   "metadata": {},
   "outputs": [
    {
     "data": {
      "text/plain": [
       "Int64Index([48, 65, 85, 86, 91, 156, 197, 329, 349, 463], dtype='int64')"
      ]
     },
     "execution_count": 11,
     "metadata": {},
     "output_type": "execute_result"
    }
   ],
   "source": [
    "#check the index of cities with humidity equal or over 100\n",
    "Humidity_100.index"
   ]
  },
  {
   "cell_type": "code",
   "execution_count": 12,
   "metadata": {},
   "outputs": [
    {
     "data": {
      "text/html": [
       "<div>\n",
       "<style scoped>\n",
       "    .dataframe tbody tr th:only-of-type {\n",
       "        vertical-align: middle;\n",
       "    }\n",
       "\n",
       "    .dataframe tbody tr th {\n",
       "        vertical-align: top;\n",
       "    }\n",
       "\n",
       "    .dataframe thead th {\n",
       "        text-align: right;\n",
       "    }\n",
       "</style>\n",
       "<table border=\"1\" class=\"dataframe\">\n",
       "  <thead>\n",
       "    <tr style=\"text-align: right;\">\n",
       "      <th></th>\n",
       "      <th>city</th>\n",
       "      <th>lng</th>\n",
       "      <th>lat</th>\n",
       "      <th>Max Temp</th>\n",
       "      <th>Humidity</th>\n",
       "      <th>Wind Speed</th>\n",
       "      <th>Cloudiness</th>\n",
       "      <th>Country</th>\n",
       "      <th>Date</th>\n",
       "    </tr>\n",
       "  </thead>\n",
       "  <tbody>\n",
       "    <tr>\n",
       "      <th>0</th>\n",
       "      <td>Tadine</td>\n",
       "      <td>167.8833</td>\n",
       "      <td>-21.5500</td>\n",
       "      <td>23.03</td>\n",
       "      <td>78</td>\n",
       "      <td>6.61</td>\n",
       "      <td>100</td>\n",
       "      <td>NC</td>\n",
       "      <td>1623487179</td>\n",
       "    </tr>\n",
       "    <tr>\n",
       "      <th>1</th>\n",
       "      <td>Tomigusuku</td>\n",
       "      <td>127.6750</td>\n",
       "      <td>26.1850</td>\n",
       "      <td>30.08</td>\n",
       "      <td>80</td>\n",
       "      <td>3.60</td>\n",
       "      <td>75</td>\n",
       "      <td>JP</td>\n",
       "      <td>1623487179</td>\n",
       "    </tr>\n",
       "    <tr>\n",
       "      <th>2</th>\n",
       "      <td>Havelock</td>\n",
       "      <td>-76.9013</td>\n",
       "      <td>34.8791</td>\n",
       "      <td>25.01</td>\n",
       "      <td>92</td>\n",
       "      <td>2.24</td>\n",
       "      <td>37</td>\n",
       "      <td>US</td>\n",
       "      <td>1623487179</td>\n",
       "    </tr>\n",
       "    <tr>\n",
       "      <th>3</th>\n",
       "      <td>Tarko-Sale</td>\n",
       "      <td>77.7850</td>\n",
       "      <td>64.9225</td>\n",
       "      <td>15.00</td>\n",
       "      <td>89</td>\n",
       "      <td>8.99</td>\n",
       "      <td>100</td>\n",
       "      <td>RU</td>\n",
       "      <td>1623487179</td>\n",
       "    </tr>\n",
       "    <tr>\n",
       "      <th>4</th>\n",
       "      <td>Comodoro Rivadavia</td>\n",
       "      <td>-67.5000</td>\n",
       "      <td>-45.8667</td>\n",
       "      <td>14.92</td>\n",
       "      <td>47</td>\n",
       "      <td>11.32</td>\n",
       "      <td>0</td>\n",
       "      <td>AR</td>\n",
       "      <td>1623486997</td>\n",
       "    </tr>\n",
       "    <tr>\n",
       "      <th>...</th>\n",
       "      <td>...</td>\n",
       "      <td>...</td>\n",
       "      <td>...</td>\n",
       "      <td>...</td>\n",
       "      <td>...</td>\n",
       "      <td>...</td>\n",
       "      <td>...</td>\n",
       "      <td>...</td>\n",
       "      <td>...</td>\n",
       "    </tr>\n",
       "    <tr>\n",
       "      <th>555</th>\n",
       "      <td>Northam</td>\n",
       "      <td>-4.2167</td>\n",
       "      <td>51.0333</td>\n",
       "      <td>18.84</td>\n",
       "      <td>89</td>\n",
       "      <td>2.99</td>\n",
       "      <td>80</td>\n",
       "      <td>GB</td>\n",
       "      <td>1623487326</td>\n",
       "    </tr>\n",
       "    <tr>\n",
       "      <th>556</th>\n",
       "      <td>Chicama</td>\n",
       "      <td>-79.1469</td>\n",
       "      <td>-7.8447</td>\n",
       "      <td>18.48</td>\n",
       "      <td>86</td>\n",
       "      <td>1.77</td>\n",
       "      <td>93</td>\n",
       "      <td>PE</td>\n",
       "      <td>1623487326</td>\n",
       "    </tr>\n",
       "    <tr>\n",
       "      <th>557</th>\n",
       "      <td>Siguiri</td>\n",
       "      <td>-9.5000</td>\n",
       "      <td>11.6667</td>\n",
       "      <td>28.22</td>\n",
       "      <td>64</td>\n",
       "      <td>1.38</td>\n",
       "      <td>14</td>\n",
       "      <td>GN</td>\n",
       "      <td>1623487326</td>\n",
       "    </tr>\n",
       "    <tr>\n",
       "      <th>558</th>\n",
       "      <td>Mongo</td>\n",
       "      <td>18.6930</td>\n",
       "      <td>12.1844</td>\n",
       "      <td>34.70</td>\n",
       "      <td>31</td>\n",
       "      <td>2.72</td>\n",
       "      <td>83</td>\n",
       "      <td>TD</td>\n",
       "      <td>1623487326</td>\n",
       "    </tr>\n",
       "    <tr>\n",
       "      <th>559</th>\n",
       "      <td>Perote</td>\n",
       "      <td>-97.2333</td>\n",
       "      <td>19.5667</td>\n",
       "      <td>11.11</td>\n",
       "      <td>92</td>\n",
       "      <td>0.43</td>\n",
       "      <td>100</td>\n",
       "      <td>MX</td>\n",
       "      <td>1623487326</td>\n",
       "    </tr>\n",
       "  </tbody>\n",
       "</table>\n",
       "<p>550 rows × 9 columns</p>\n",
       "</div>"
      ],
      "text/plain": [
       "                   city       lng      lat  Max Temp  Humidity  Wind Speed  \\\n",
       "0                Tadine  167.8833 -21.5500     23.03        78        6.61   \n",
       "1            Tomigusuku  127.6750  26.1850     30.08        80        3.60   \n",
       "2              Havelock  -76.9013  34.8791     25.01        92        2.24   \n",
       "3            Tarko-Sale   77.7850  64.9225     15.00        89        8.99   \n",
       "4    Comodoro Rivadavia  -67.5000 -45.8667     14.92        47       11.32   \n",
       "..                  ...       ...      ...       ...       ...         ...   \n",
       "555             Northam   -4.2167  51.0333     18.84        89        2.99   \n",
       "556             Chicama  -79.1469  -7.8447     18.48        86        1.77   \n",
       "557             Siguiri   -9.5000  11.6667     28.22        64        1.38   \n",
       "558               Mongo   18.6930  12.1844     34.70        31        2.72   \n",
       "559              Perote  -97.2333  19.5667     11.11        92        0.43   \n",
       "\n",
       "     Cloudiness Country        Date  \n",
       "0           100      NC  1623487179  \n",
       "1            75      JP  1623487179  \n",
       "2            37      US  1623487179  \n",
       "3           100      RU  1623487179  \n",
       "4             0      AR  1623486997  \n",
       "..          ...     ...         ...  \n",
       "555          80      GB  1623487326  \n",
       "556          93      PE  1623487326  \n",
       "557          14      GN  1623487326  \n",
       "558          83      TD  1623487326  \n",
       "559         100      MX  1623487326  \n",
       "\n",
       "[550 rows x 9 columns]"
      ]
     },
     "execution_count": 12,
     "metadata": {},
     "output_type": "execute_result"
    }
   ],
   "source": [
    "# dropping the city with humidity equal or over 100 by reference the humidity_100 index\n",
    "# Passing \"inplace=False\" and make a new data fram \"clean_data\".\n",
    "clean_data=weather_data_df.drop(Humidity_100.index, inplace = False)\n",
    "clean_data"
   ]
  },
  {
   "cell_type": "code",
   "execution_count": 13,
   "metadata": {},
   "outputs": [
    {
     "data": {
      "text/html": [
       "<div>\n",
       "<style scoped>\n",
       "    .dataframe tbody tr th:only-of-type {\n",
       "        vertical-align: middle;\n",
       "    }\n",
       "\n",
       "    .dataframe tbody tr th {\n",
       "        vertical-align: top;\n",
       "    }\n",
       "\n",
       "    .dataframe thead th {\n",
       "        text-align: right;\n",
       "    }\n",
       "</style>\n",
       "<table border=\"1\" class=\"dataframe\">\n",
       "  <thead>\n",
       "    <tr style=\"text-align: right;\">\n",
       "      <th></th>\n",
       "      <th>lng</th>\n",
       "      <th>lat</th>\n",
       "      <th>Max Temp</th>\n",
       "      <th>Humidity</th>\n",
       "      <th>Wind Speed</th>\n",
       "      <th>Cloudiness</th>\n",
       "      <th>Date</th>\n",
       "    </tr>\n",
       "  </thead>\n",
       "  <tbody>\n",
       "    <tr>\n",
       "      <th>count</th>\n",
       "      <td>550.000000</td>\n",
       "      <td>550.000000</td>\n",
       "      <td>550.000000</td>\n",
       "      <td>550.000000</td>\n",
       "      <td>550.000000</td>\n",
       "      <td>550.000000</td>\n",
       "      <td>5.500000e+02</td>\n",
       "    </tr>\n",
       "    <tr>\n",
       "      <th>mean</th>\n",
       "      <td>15.411400</td>\n",
       "      <td>18.835203</td>\n",
       "      <td>21.047727</td>\n",
       "      <td>66.396364</td>\n",
       "      <td>3.625691</td>\n",
       "      <td>57.407273</td>\n",
       "      <td>1.623487e+09</td>\n",
       "    </tr>\n",
       "    <tr>\n",
       "      <th>std</th>\n",
       "      <td>89.793123</td>\n",
       "      <td>33.461537</td>\n",
       "      <td>8.605763</td>\n",
       "      <td>24.101319</td>\n",
       "      <td>2.595002</td>\n",
       "      <td>39.129573</td>\n",
       "      <td>8.594952e+01</td>\n",
       "    </tr>\n",
       "    <tr>\n",
       "      <th>min</th>\n",
       "      <td>-175.200000</td>\n",
       "      <td>-54.800000</td>\n",
       "      <td>-1.990000</td>\n",
       "      <td>3.000000</td>\n",
       "      <td>0.000000</td>\n",
       "      <td>0.000000</td>\n",
       "      <td>1.623487e+09</td>\n",
       "    </tr>\n",
       "    <tr>\n",
       "      <th>25%</th>\n",
       "      <td>-63.448125</td>\n",
       "      <td>-9.030850</td>\n",
       "      <td>15.150000</td>\n",
       "      <td>51.000000</td>\n",
       "      <td>1.635000</td>\n",
       "      <td>14.000000</td>\n",
       "      <td>1.623487e+09</td>\n",
       "    </tr>\n",
       "    <tr>\n",
       "      <th>50%</th>\n",
       "      <td>18.384750</td>\n",
       "      <td>22.862100</td>\n",
       "      <td>22.160000</td>\n",
       "      <td>74.000000</td>\n",
       "      <td>3.090000</td>\n",
       "      <td>71.500000</td>\n",
       "      <td>1.623487e+09</td>\n",
       "    </tr>\n",
       "    <tr>\n",
       "      <th>75%</th>\n",
       "      <td>91.960500</td>\n",
       "      <td>46.883350</td>\n",
       "      <td>26.447500</td>\n",
       "      <td>85.000000</td>\n",
       "      <td>5.072500</td>\n",
       "      <td>97.000000</td>\n",
       "      <td>1.623487e+09</td>\n",
       "    </tr>\n",
       "    <tr>\n",
       "      <th>max</th>\n",
       "      <td>179.316700</td>\n",
       "      <td>78.218600</td>\n",
       "      <td>44.800000</td>\n",
       "      <td>99.000000</td>\n",
       "      <td>14.310000</td>\n",
       "      <td>100.000000</td>\n",
       "      <td>1.623487e+09</td>\n",
       "    </tr>\n",
       "  </tbody>\n",
       "</table>\n",
       "</div>"
      ],
      "text/plain": [
       "              lng         lat    Max Temp    Humidity  Wind Speed  Cloudiness  \\\n",
       "count  550.000000  550.000000  550.000000  550.000000  550.000000  550.000000   \n",
       "mean    15.411400   18.835203   21.047727   66.396364    3.625691   57.407273   \n",
       "std     89.793123   33.461537    8.605763   24.101319    2.595002   39.129573   \n",
       "min   -175.200000  -54.800000   -1.990000    3.000000    0.000000    0.000000   \n",
       "25%    -63.448125   -9.030850   15.150000   51.000000    1.635000   14.000000   \n",
       "50%     18.384750   22.862100   22.160000   74.000000    3.090000   71.500000   \n",
       "75%     91.960500   46.883350   26.447500   85.000000    5.072500   97.000000   \n",
       "max    179.316700   78.218600   44.800000   99.000000   14.310000  100.000000   \n",
       "\n",
       "               Date  \n",
       "count  5.500000e+02  \n",
       "mean   1.623487e+09  \n",
       "std    8.594952e+01  \n",
       "min    1.623487e+09  \n",
       "25%    1.623487e+09  \n",
       "50%    1.623487e+09  \n",
       "75%    1.623487e+09  \n",
       "max    1.623487e+09  "
      ]
     },
     "execution_count": 13,
     "metadata": {},
     "output_type": "execute_result"
    }
   ],
   "source": [
    "clean_data.describe()"
   ]
  },
  {
   "cell_type": "markdown",
   "metadata": {},
   "source": [
    "## Plotting the Data\n",
    "* Use proper labeling of the plots using plot titles (including date of analysis) and axes labels.\n",
    "* Save the plotted figures as .pngs."
   ]
  },
  {
   "cell_type": "markdown",
   "metadata": {},
   "source": [
    "## Latitude vs. Temperature Plot"
   ]
  },
  {
   "cell_type": "code",
   "execution_count": 24,
   "metadata": {
    "scrolled": true
   },
   "outputs": [
    {
     "data": {
      "image/png": "[encoded data removed]",
      "text/plain": [
       "<Figure size 432x432 with 1 Axes>"
      ]
     },
     "metadata": {
      "needs_background": "light"
     },
     "output_type": "display_data"
    }
   ],
   "source": [
    "#Latitude vs. Temperature Plot\n",
    "clean_data.plot(kind=\"scatter\", x=\"lat\", y=\"Max Temp\", grid=True, figsize=(6,6),\n",
    "              title=\"Latitude vs.Temperature\");\n",
    "plt.savefig(\"../output_data/lat vs Temp.png\") "
   ]
  },
  {
   "cell_type": "code",
   "execution_count": null,
   "metadata": {},
   "outputs": [],
   "source": []
  },
  {
   "cell_type": "code",
   "execution_count": null,
   "metadata": {},
   "outputs": [],
   "source": []
  },
  {
   "cell_type": "markdown",
   "metadata": {},
   "source": [
    "## Latitude vs. Humidity Plot"
   ]
  },
  {
   "cell_type": "code",
   "execution_count": 25,
   "metadata": {},
   "outputs": [
    {
     "data": {
      "image/png": "[encoded data removed]",
      "text/plain": [
       "<Figure size 432x432 with 1 Axes>"
      ]
     },
     "metadata": {
      "needs_background": "light"
     },
     "output_type": "display_data"
    }
   ],
   "source": [
    "#Latitude vs. Humidity Plot\n",
    "clean_data.plot(kind=\"scatter\", x=\"lat\", y=\"Humidity\", grid=True, figsize=(6,6),\n",
    "              title=\"Latitude vs.Humidity\");\n",
    "plt.savefig(\"../output_data/lat vs Humidity.png\") "
   ]
  },
  {
   "cell_type": "code",
   "execution_count": null,
   "metadata": {},
   "outputs": [],
   "source": []
  },
  {
   "cell_type": "code",
   "execution_count": null,
   "metadata": {},
   "outputs": [],
   "source": []
  },
  {
   "cell_type": "code",
   "execution_count": null,
   "metadata": {},
   "outputs": [],
   "source": []
  },
  {
   "cell_type": "markdown",
   "metadata": {},
   "source": [
    "## Latitude vs. Cloudiness Plot"
   ]
  },
  {
   "cell_type": "code",
   "execution_count": 26,
   "metadata": {},
   "outputs": [
    {
     "data": {
      "image/png": "[encoded data removed]",
      "text/plain": [
       "<Figure size 432x432 with 1 Axes>"
      ]
     },
     "metadata": {
      "needs_background": "light"
     },
     "output_type": "display_data"
    }
   ],
   "source": [
    "#Latitude vs. Cloudiness Plot\n",
    "clean_data.plot(kind=\"scatter\", x=\"lat\", y=\"Cloudiness\", grid=True, figsize=(6,6),\n",
    "              title=\"Latitude vs.Cloudiness\");\n",
    "plt.savefig(\"../output_data/lat vs Cloudiness.png\") "
   ]
  },
  {
   "cell_type": "markdown",
   "metadata": {},
   "source": [
    "## Latitude vs. Wind Speed Plot"
   ]
  },
  {
   "cell_type": "code",
   "execution_count": 27,
   "metadata": {},
   "outputs": [
    {
     "data": {
      "image/png": "[encoded data removed]",
      "text/plain": [
       "<Figure size 432x432 with 1 Axes>"
      ]
     },
     "metadata": {
      "needs_background": "light"
     },
     "output_type": "display_data"
    }
   ],
   "source": [
    "#Latitude vs. Wind Speed Plot\n",
    "clean_data.plot(kind=\"scatter\", x=\"lat\", y=\"Wind Speed\", grid=True, figsize=(6,6),\n",
    "              title=\"Latitude vs.Wind Speed\");\n",
    "plt.savefig(\"../output_data/lat vs Wind Speed.png\") "
   ]
  },
  {
   "cell_type": "markdown",
   "metadata": {},
   "source": [
    "## Linear Regression"
   ]
  },
  {
   "cell_type": "code",
   "execution_count": null,
   "metadata": {},
   "outputs": [],
   "source": [
    "#separate the plots into\n",
    "#Northern Hemisphere (greater than or equal to 0 degrees latitude) and \n",
    "#Southern Hemisphere (less than 0 degrees latitude)"
   ]
  },
  {
   "cell_type": "code",
   "execution_count": 45,
   "metadata": {},
   "outputs": [
    {
     "data": {
      "text/html": [
       "<div>\n",
       "<style scoped>\n",
       "    .dataframe tbody tr th:only-of-type {\n",
       "        vertical-align: middle;\n",
       "    }\n",
       "\n",
       "    .dataframe tbody tr th {\n",
       "        vertical-align: top;\n",
       "    }\n",
       "\n",
       "    .dataframe thead th {\n",
       "        text-align: right;\n",
       "    }\n",
       "</style>\n",
       "<table border=\"1\" class=\"dataframe\">\n",
       "  <thead>\n",
       "    <tr style=\"text-align: right;\">\n",
       "      <th></th>\n",
       "      <th>city</th>\n",
       "      <th>lng</th>\n",
       "      <th>lat</th>\n",
       "      <th>Max Temp</th>\n",
       "      <th>Humidity</th>\n",
       "      <th>Wind Speed</th>\n",
       "      <th>Cloudiness</th>\n",
       "      <th>Country</th>\n",
       "      <th>Date</th>\n",
       "    </tr>\n",
       "  </thead>\n",
       "  <tbody>\n",
       "    <tr>\n",
       "      <th>1</th>\n",
       "      <td>Tomigusuku</td>\n",
       "      <td>127.6750</td>\n",
       "      <td>26.1850</td>\n",
       "      <td>30.08</td>\n",
       "      <td>80</td>\n",
       "      <td>3.60</td>\n",
       "      <td>75</td>\n",
       "      <td>JP</td>\n",
       "      <td>1623487179</td>\n",
       "    </tr>\n",
       "    <tr>\n",
       "      <th>2</th>\n",
       "      <td>Havelock</td>\n",
       "      <td>-76.9013</td>\n",
       "      <td>34.8791</td>\n",
       "      <td>25.01</td>\n",
       "      <td>92</td>\n",
       "      <td>2.24</td>\n",
       "      <td>37</td>\n",
       "      <td>US</td>\n",
       "      <td>1623487179</td>\n",
       "    </tr>\n",
       "    <tr>\n",
       "      <th>3</th>\n",
       "      <td>Tarko-Sale</td>\n",
       "      <td>77.7850</td>\n",
       "      <td>64.9225</td>\n",
       "      <td>15.00</td>\n",
       "      <td>89</td>\n",
       "      <td>8.99</td>\n",
       "      <td>100</td>\n",
       "      <td>RU</td>\n",
       "      <td>1623487179</td>\n",
       "    </tr>\n",
       "    <tr>\n",
       "      <th>7</th>\n",
       "      <td>Severo-Kuril'sk</td>\n",
       "      <td>156.1250</td>\n",
       "      <td>50.6789</td>\n",
       "      <td>10.13</td>\n",
       "      <td>81</td>\n",
       "      <td>3.53</td>\n",
       "      <td>96</td>\n",
       "      <td>RU</td>\n",
       "      <td>1623487180</td>\n",
       "    </tr>\n",
       "    <tr>\n",
       "      <th>8</th>\n",
       "      <td>Salalah</td>\n",
       "      <td>54.0924</td>\n",
       "      <td>17.0151</td>\n",
       "      <td>31.05</td>\n",
       "      <td>79</td>\n",
       "      <td>6.69</td>\n",
       "      <td>75</td>\n",
       "      <td>OM</td>\n",
       "      <td>1623487092</td>\n",
       "    </tr>\n",
       "  </tbody>\n",
       "</table>\n",
       "</div>"
      ],
      "text/plain": [
       "              city       lng      lat  Max Temp  Humidity  Wind Speed  \\\n",
       "1       Tomigusuku  127.6750  26.1850     30.08        80        3.60   \n",
       "2         Havelock  -76.9013  34.8791     25.01        92        2.24   \n",
       "3       Tarko-Sale   77.7850  64.9225     15.00        89        8.99   \n",
       "7  Severo-Kuril'sk  156.1250  50.6789     10.13        81        3.53   \n",
       "8          Salalah   54.0924  17.0151     31.05        79        6.69   \n",
       "\n",
       "   Cloudiness Country        Date  \n",
       "1          75      JP  1623487179  \n",
       "2          37      US  1623487179  \n",
       "3         100      RU  1623487179  \n",
       "7          96      RU  1623487180  \n",
       "8          75      OM  1623487092  "
      ]
     },
     "execution_count": 45,
     "metadata": {},
     "output_type": "execute_result"
    }
   ],
   "source": [
    "#setup a Northern Hemishpere dataframe\n",
    "Northern_Hemisphere=weather_data_df.loc[weather_data_df[\"lat\"]>=0.00]\n",
    "Northern_Hemisphere.head()                                                     "
   ]
  },
  {
   "cell_type": "code",
   "execution_count": 44,
   "metadata": {},
   "outputs": [
    {
     "data": {
      "text/html": [
       "<div>\n",
       "<style scoped>\n",
       "    .dataframe tbody tr th:only-of-type {\n",
       "        vertical-align: middle;\n",
       "    }\n",
       "\n",
       "    .dataframe tbody tr th {\n",
       "        vertical-align: top;\n",
       "    }\n",
       "\n",
       "    .dataframe thead th {\n",
       "        text-align: right;\n",
       "    }\n",
       "</style>\n",
       "<table border=\"1\" class=\"dataframe\">\n",
       "  <thead>\n",
       "    <tr style=\"text-align: right;\">\n",
       "      <th></th>\n",
       "      <th>lng</th>\n",
       "      <th>lat</th>\n",
       "      <th>Max Temp</th>\n",
       "      <th>Humidity</th>\n",
       "      <th>Wind Speed</th>\n",
       "      <th>Cloudiness</th>\n",
       "      <th>Date</th>\n",
       "    </tr>\n",
       "  </thead>\n",
       "  <tbody>\n",
       "    <tr>\n",
       "      <th>count</th>\n",
       "      <td>181.000000</td>\n",
       "      <td>181.000000</td>\n",
       "      <td>181.000000</td>\n",
       "      <td>181.000000</td>\n",
       "      <td>181.000000</td>\n",
       "      <td>181.000000</td>\n",
       "      <td>1.810000e+02</td>\n",
       "    </tr>\n",
       "    <tr>\n",
       "      <th>mean</th>\n",
       "      <td>28.240240</td>\n",
       "      <td>-21.562957</td>\n",
       "      <td>19.594365</td>\n",
       "      <td>71.657459</td>\n",
       "      <td>3.616519</td>\n",
       "      <td>54.602210</td>\n",
       "      <td>1.623487e+09</td>\n",
       "    </tr>\n",
       "    <tr>\n",
       "      <th>std</th>\n",
       "      <td>94.174734</td>\n",
       "      <td>13.506889</td>\n",
       "      <td>6.776165</td>\n",
       "      <td>21.366480</td>\n",
       "      <td>2.454595</td>\n",
       "      <td>39.588113</td>\n",
       "      <td>8.117793e+01</td>\n",
       "    </tr>\n",
       "    <tr>\n",
       "      <th>min</th>\n",
       "      <td>-175.200000</td>\n",
       "      <td>-54.800000</td>\n",
       "      <td>3.030000</td>\n",
       "      <td>13.000000</td>\n",
       "      <td>0.000000</td>\n",
       "      <td>0.000000</td>\n",
       "      <td>1.623487e+09</td>\n",
       "    </tr>\n",
       "    <tr>\n",
       "      <th>25%</th>\n",
       "      <td>-56.033300</td>\n",
       "      <td>-33.141600</td>\n",
       "      <td>13.840000</td>\n",
       "      <td>64.000000</td>\n",
       "      <td>1.770000</td>\n",
       "      <td>10.000000</td>\n",
       "      <td>1.623487e+09</td>\n",
       "    </tr>\n",
       "    <tr>\n",
       "      <th>50%</th>\n",
       "      <td>24.731400</td>\n",
       "      <td>-20.733300</td>\n",
       "      <td>21.320000</td>\n",
       "      <td>77.000000</td>\n",
       "      <td>3.090000</td>\n",
       "      <td>56.000000</td>\n",
       "      <td>1.623487e+09</td>\n",
       "    </tr>\n",
       "    <tr>\n",
       "      <th>75%</th>\n",
       "      <td>120.264100</td>\n",
       "      <td>-9.443100</td>\n",
       "      <td>25.090000</td>\n",
       "      <td>88.000000</td>\n",
       "      <td>5.140000</td>\n",
       "      <td>99.000000</td>\n",
       "      <td>1.623487e+09</td>\n",
       "    </tr>\n",
       "    <tr>\n",
       "      <th>max</th>\n",
       "      <td>178.004200</td>\n",
       "      <td>-0.216700</td>\n",
       "      <td>33.140000</td>\n",
       "      <td>100.000000</td>\n",
       "      <td>11.830000</td>\n",
       "      <td>100.000000</td>\n",
       "      <td>1.623487e+09</td>\n",
       "    </tr>\n",
       "  </tbody>\n",
       "</table>\n",
       "</div>"
      ],
      "text/plain": [
       "              lng         lat    Max Temp    Humidity  Wind Speed  Cloudiness  \\\n",
       "count  181.000000  181.000000  181.000000  181.000000  181.000000  181.000000   \n",
       "mean    28.240240  -21.562957   19.594365   71.657459    3.616519   54.602210   \n",
       "std     94.174734   13.506889    6.776165   21.366480    2.454595   39.588113   \n",
       "min   -175.200000  -54.800000    3.030000   13.000000    0.000000    0.000000   \n",
       "25%    -56.033300  -33.141600   13.840000   64.000000    1.770000   10.000000   \n",
       "50%     24.731400  -20.733300   21.320000   77.000000    3.090000   56.000000   \n",
       "75%    120.264100   -9.443100   25.090000   88.000000    5.140000   99.000000   \n",
       "max    178.004200   -0.216700   33.140000  100.000000   11.830000  100.000000   \n",
       "\n",
       "               Date  \n",
       "count  1.810000e+02  \n",
       "mean   1.623487e+09  \n",
       "std    8.117793e+01  \n",
       "min    1.623487e+09  \n",
       "25%    1.623487e+09  \n",
       "50%    1.623487e+09  \n",
       "75%    1.623487e+09  \n",
       "max    1.623487e+09  "
      ]
     },
     "execution_count": 44,
     "metadata": {},
     "output_type": "execute_result"
    }
   ],
   "source": [
    "#setup a Southern Hemishpere dataframe\n",
    "Southern_Hemisphere=weather_data_df.loc[weather_data_df[\"lat\"]<0.00]\n",
    "Southern_Hemisphere.describe()   "
   ]
  },
  {
   "cell_type": "code",
   "execution_count": 39,
   "metadata": {},
   "outputs": [
    {
     "data": {
      "text/plain": [
       "1      30.08\n",
       "2      25.01\n",
       "3      15.00\n",
       "7      10.13\n",
       "8      31.05\n",
       "       ...  \n",
       "554     9.95\n",
       "555    18.84\n",
       "557    28.22\n",
       "558    34.70\n",
       "559    11.11\n",
       "Name: Max Temp, Length: 379, dtype: float64"
      ]
     },
     "execution_count": 39,
     "metadata": {},
     "output_type": "execute_result"
    }
   ],
   "source": [
    "max_temp=Northern_Hemisphere.iloc[:,3]\n",
    "max_temp"
   ]
  },
  {
   "cell_type": "code",
   "execution_count": null,
   "metadata": {},
   "outputs": [],
   "source": []
  },
  {
   "cell_type": "markdown",
   "metadata": {},
   "source": [
    "####  Northern Hemisphere - Max Temp vs. Latitude Linear Regression"
   ]
  },
  {
   "cell_type": "code",
   "execution_count": 57,
   "metadata": {},
   "outputs": [
    {
     "data": {
      "image/png": "[encoded data removed]",
      "text/plain": [
       "<Figure size 432x288 with 1 Axes>"
      ]
     },
     "metadata": {
      "needs_background": "light"
     },
     "output_type": "display_data"
    },
    {
     "name": "stdout",
     "output_type": "stream",
     "text": [
      "the correlation between weight and tumor volume is -0.7\n",
      "R squared: 0.49294017414658053\n"
     ]
    },
    {
     "data": {
      "text/plain": [
       "<Figure size 432x288 with 0 Axes>"
      ]
     },
     "metadata": {},
     "output_type": "display_data"
    }
   ],
   "source": [
    "# Calculate the correlation coefficient and linear regression model eight=Capomulin_weight_volume.iloc[:,0]\n",
    "lat=Northern_Hemisphere.iloc[:,2]\n",
    "max_temp=Northern_Hemisphere.iloc[:,3]\n",
    "correlation=st.pearsonr(lat,max_temp)\n",
    "\n",
    "slope, intercept, rvalue, pvalue, stderr = st.linregress(lat,max_temp)\n",
    "regress_values=lat*slope+intercept\n",
    "regress_values\n",
    "line_eq=\"y=\"+str(round(slope,2))+\"x+\"+str(round(intercept,2))\n",
    "plt.scatter(lat,max_temp)\n",
    "plt.plot(lat,regress_values,\"--\",color=\"r\")\n",
    "plt.annotate(line_eq,(20,36),fontsize=15,color=\"r\")\n",
    "plt.xlabel(\"Latitude\")\n",
    "plt.ylabel(\"Max Temp\")\n",
    "plt.title(\"Northern Hemisphere - Max Temp vs. Latitude Linear Regression\")\n",
    "plt.show()  \n",
    "print(f\"the correlation between weight and tumor volume is {round(correlation[0],2)}\")\n",
    "print(f\"R squared: {rvalue**2}\")  \n",
    "plt.savefig(\"../output_data/Northern Hemisphere lat vs Max temp linear regressoin.png\") "
   ]
  },
  {
   "cell_type": "code",
   "execution_count": null,
   "metadata": {},
   "outputs": [],
   "source": []
  },
  {
   "cell_type": "code",
   "execution_count": null,
   "metadata": {},
   "outputs": [],
   "source": []
  },
  {
   "cell_type": "code",
   "execution_count": null,
   "metadata": {},
   "outputs": [],
   "source": []
  },
  {
   "cell_type": "code",
   "execution_count": null,
   "metadata": {},
   "outputs": [],
   "source": []
  },
  {
   "cell_type": "markdown",
   "metadata": {},
   "source": [
    "####  Southern Hemisphere - Max Temp vs. Latitude Linear Regression"
   ]
  },
  {
   "cell_type": "code",
   "execution_count": 56,
   "metadata": {},
   "outputs": [
    {
     "data": {
      "image/png": "[encoded data removed]",
      "text/plain": [
       "<Figure size 432x288 with 1 Axes>"
      ]
     },
     "metadata": {
      "needs_background": "light"
     },
     "output_type": "display_data"
    },
    {
     "name": "stdout",
     "output_type": "stream",
     "text": [
      "the correlation between weight and tumor volume is 0.75\n",
      "R squared: 0.5698222009519583\n"
     ]
    },
    {
     "data": {
      "text/plain": [
       "<Figure size 432x288 with 0 Axes>"
      ]
     },
     "metadata": {},
     "output_type": "display_data"
    }
   ],
   "source": [
    "# Calculate the correlation coefficient and linear regression model eight=Capomulin_weight_volume.iloc[:,0]\n",
    "lat=Southern_Hemisphere.iloc[:,2]\n",
    "max_temp=Southern_Hemisphere.iloc[:,3]\n",
    "correlation=st.pearsonr(lat,max_temp)\n",
    "\n",
    "slope, intercept, rvalue, pvalue, stderr = st.linregress(lat,max_temp)\n",
    "regress_values=lat*slope+intercept\n",
    "regress_values\n",
    "line_eq=\"y=\"+str(round(slope,2))+\"x+\"+str(round(intercept,2))\n",
    "plt.scatter(lat,max_temp)\n",
    "plt.plot(lat,regress_values,\"--\",color=\"r\")\n",
    "plt.annotate(line_eq,(20,36),fontsize=15,color=\"r\")\n",
    "plt.xlabel(\"Latitude\")\n",
    "plt.ylabel(\"Max Temp\")\n",
    "plt.title(\"Southern Hemisphere - Max Temp vs. Latitude Linear Regression\")\n",
    "plt.show()  \n",
    "print(f\"the correlation between weight and tumor volume is {round(correlation[0],2)}\")\n",
    "print(f\"R squared: {rvalue**2}\")\n",
    "\n",
    "plt.savefig(\"../output_data/Southern Hemisphere lat vs Max temp linear regressoin.png\") "
   ]
  },
  {
   "cell_type": "code",
   "execution_count": null,
   "metadata": {},
   "outputs": [],
   "source": []
  },
  {
   "cell_type": "code",
   "execution_count": null,
   "metadata": {},
   "outputs": [],
   "source": []
  },
  {
   "cell_type": "code",
   "execution_count": null,
   "metadata": {},
   "outputs": [],
   "source": []
  },
  {
   "cell_type": "code",
   "execution_count": null,
   "metadata": {},
   "outputs": [],
   "source": []
  },
  {
   "cell_type": "markdown",
   "metadata": {},
   "source": [
    "####  Northern Hemisphere - Humidity (%) vs. Latitude Linear Regression"
   ]
  },
  {
   "cell_type": "code",
   "execution_count": 58,
   "metadata": {},
   "outputs": [
    {
     "data": {
      "image/png": "[encoded data removed]",
      "text/plain": [
       "<Figure size 432x288 with 1 Axes>"
      ]
     },
     "metadata": {
      "needs_background": "light"
     },
     "output_type": "display_data"
    },
    {
     "name": "stdout",
     "output_type": "stream",
     "text": [
      "the correlation between Latitude and humidity is -0.03\n",
      "R squared: 0.0007860296866962081\n"
     ]
    },
    {
     "data": {
      "text/plain": [
       "<Figure size 432x288 with 0 Axes>"
      ]
     },
     "metadata": {},
     "output_type": "display_data"
    }
   ],
   "source": [
    "# Calculate the correlation coefficient and linear regression model eight=Capomulin_weight_volume.iloc[:,0]\n",
    "lat=Northern_Hemisphere.iloc[:,2]\n",
    "humidity=Northern_Hemisphere.iloc[:,4]\n",
    "correlation=st.pearsonr(lat,humidity)\n",
    "\n",
    "slope, intercept, rvalue, pvalue, stderr = st.linregress(lat,humidity)\n",
    "regress_values=lat*slope+intercept\n",
    "regress_values\n",
    "line_eq=\"y=\"+str(round(slope,2))+\"x+\"+str(round(intercept,2))\n",
    "plt.scatter(lat,humidity)\n",
    "plt.plot(lat,regress_values,\"--\",color=\"r\")\n",
    "plt.annotate(line_eq,(20,36),fontsize=15,color=\"r\")\n",
    "plt.xlabel(\"Latitude\")\n",
    "plt.ylabel(\"humidity\")\n",
    "plt.title(\"Northern Hemisphere - humidity (%) vs. Latitude Linear Regression\")\n",
    "plt.show()  \n",
    "print(f\"the correlation between Latitude and humidity is {round(correlation[0],2)}\")\n",
    "print(f\"R squared: {rvalue**2}\") \n",
    "plt.savefig(\"../output_data/Northern_Hemisphere lat vs Humidity linear regressoin.png\") "
   ]
  },
  {
   "cell_type": "code",
   "execution_count": null,
   "metadata": {},
   "outputs": [],
   "source": []
  },
  {
   "cell_type": "code",
   "execution_count": null,
   "metadata": {},
   "outputs": [],
   "source": []
  },
  {
   "cell_type": "code",
   "execution_count": null,
   "metadata": {},
   "outputs": [],
   "source": []
  },
  {
   "cell_type": "code",
   "execution_count": null,
   "metadata": {},
   "outputs": [],
   "source": []
  },
  {
   "cell_type": "code",
   "execution_count": null,
   "metadata": {},
   "outputs": [],
   "source": []
  },
  {
   "cell_type": "markdown",
   "metadata": {},
   "source": [
    "####  Southern Hemisphere - Humidity (%) vs. Latitude Linear Regression"
   ]
  },
  {
   "cell_type": "code",
   "execution_count": 59,
   "metadata": {},
   "outputs": [
    {
     "data": {
      "image/png": "[encoded data removed]",
      "text/plain": [
       "<Figure size 432x288 with 1 Axes>"
      ]
     },
     "metadata": {
      "needs_background": "light"
     },
     "output_type": "display_data"
    },
    {
     "name": "stdout",
     "output_type": "stream",
     "text": [
      "the correlation between Latitude and humidity is -0.01\n",
      "R squared: 0.00011158585730602383\n"
     ]
    },
    {
     "data": {
      "text/plain": [
       "<Figure size 432x288 with 0 Axes>"
      ]
     },
     "metadata": {},
     "output_type": "display_data"
    }
   ],
   "source": [
    "# Calculate the correlation coefficient and linear regression model eight=Capomulin_weight_volume.iloc[:,0]\n",
    "lat=Southern_Hemisphere.iloc[:,2]\n",
    "humidity=Southern_Hemisphere.iloc[:,4]\n",
    "correlation=st.pearsonr(lat,humidity)\n",
    "\n",
    "slope, intercept, rvalue, pvalue, stderr = st.linregress(lat,humidity)\n",
    "regress_values=lat*slope+intercept\n",
    "regress_values\n",
    "line_eq=\"y=\"+str(round(slope,2))+\"x+\"+str(round(intercept,2))\n",
    "plt.scatter(lat,humidity)\n",
    "plt.plot(lat,regress_values,\"--\",color=\"r\")\n",
    "plt.annotate(line_eq,(20,36),fontsize=15,color=\"r\")\n",
    "plt.xlabel(\"Latitude\")\n",
    "plt.ylabel(\"humidity\")\n",
    "plt.title(\"Southern Hemisphere - humidity (%) vs. Latitude Linear Regression\")\n",
    "plt.show()  \n",
    "print(f\"the correlation between Latitude and humidity is {round(correlation[0],2)}\")\n",
    "print(f\"R squared: {rvalue**2}\") \n",
    "plt.savefig(\"../output_data/Southernn_Hemisphere lat vs Humidity linear regressoin.png\") "
   ]
  },
  {
   "cell_type": "code",
   "execution_count": null,
   "metadata": {},
   "outputs": [],
   "source": []
  },
  {
   "cell_type": "code",
   "execution_count": null,
   "metadata": {},
   "outputs": [],
   "source": []
  },
  {
   "cell_type": "code",
   "execution_count": null,
   "metadata": {},
   "outputs": [],
   "source": []
  },
  {
   "cell_type": "code",
   "execution_count": null,
   "metadata": {},
   "outputs": [],
   "source": []
  },
  {
   "cell_type": "code",
   "execution_count": null,
   "metadata": {},
   "outputs": [],
   "source": []
  },
  {
   "cell_type": "code",
   "execution_count": null,
   "metadata": {},
   "outputs": [],
   "source": []
  },
  {
   "cell_type": "code",
   "execution_count": null,
   "metadata": {},
   "outputs": [],
   "source": []
  },
  {
   "cell_type": "markdown",
   "metadata": {},
   "source": [
    "####  Northern Hemisphere - Cloudiness (%) vs. Latitude Linear Regression"
   ]
  },
  {
   "cell_type": "code",
   "execution_count": 61,
   "metadata": {},
   "outputs": [
    {
     "data": {
      "image/png": "[encoded data removed]",
      "text/plain": [
       "<Figure size 432x288 with 1 Axes>"
      ]
     },
     "metadata": {
      "needs_background": "light"
     },
     "output_type": "display_data"
    },
    {
     "name": "stdout",
     "output_type": "stream",
     "text": [
      "the correlation between Latitude and Cloudiness is -0.05\n",
      "R squared: 0.0022481800363764307\n"
     ]
    },
    {
     "data": {
      "text/plain": [
       "<Figure size 432x288 with 0 Axes>"
      ]
     },
     "metadata": {},
     "output_type": "display_data"
    }
   ],
   "source": [
    "# Calculate the correlation coefficient and linear regression model eight=Capomulin_weight_volume.iloc[:,0]\n",
    "lat=Northern_Hemisphere.iloc[:,2]\n",
    "Cloudiness=Northern_Hemisphere.iloc[:,6]\n",
    "correlation=st.pearsonr(lat,Cloudiness)\n",
    "\n",
    "slope, intercept, rvalue, pvalue, stderr = st.linregress(lat,Cloudiness)\n",
    "regress_values=lat*slope+intercept\n",
    "regress_values\n",
    "line_eq=\"y=\"+str(round(slope,2))+\"x+\"+str(round(intercept,2))\n",
    "plt.scatter(lat,Cloudiness)\n",
    "plt.plot(lat,regress_values,\"--\",color=\"r\")\n",
    "plt.annotate(line_eq,(20,36),fontsize=15,color=\"r\")\n",
    "plt.xlabel(\"Latitude\")\n",
    "plt.ylabel(\"Cloudiness\")\n",
    "plt.title(\"Northern Hemisphere - Cloudiness vs. Latitude Linear Regression\")\n",
    "plt.show()  \n",
    "print(f\"the correlation between Latitude and Cloudiness is {round(correlation[0],2)}\")\n",
    "print(f\"R squared: {rvalue**2}\") \n",
    "plt.savefig(\"../output_data/Northern_Hemisphere lat vs Cloudiness linear regressoin.png\") "
   ]
  },
  {
   "cell_type": "code",
   "execution_count": null,
   "metadata": {},
   "outputs": [],
   "source": []
  },
  {
   "cell_type": "code",
   "execution_count": null,
   "metadata": {},
   "outputs": [],
   "source": []
  },
  {
   "cell_type": "code",
   "execution_count": null,
   "metadata": {},
   "outputs": [],
   "source": []
  },
  {
   "cell_type": "code",
   "execution_count": null,
   "metadata": {},
   "outputs": [],
   "source": []
  },
  {
   "cell_type": "code",
   "execution_count": null,
   "metadata": {},
   "outputs": [],
   "source": []
  },
  {
   "cell_type": "markdown",
   "metadata": {},
   "source": [
    "####  Southern Hemisphere - Cloudiness (%) vs. Latitude Linear Regression"
   ]
  },
  {
   "cell_type": "code",
   "execution_count": 60,
   "metadata": {},
   "outputs": [
    {
     "data": {
      "image/png": "[encoded data removed]",
      "text/plain": [
       "<Figure size 432x288 with 1 Axes>"
      ]
     },
     "metadata": {
      "needs_background": "light"
     },
     "output_type": "display_data"
    },
    {
     "name": "stdout",
     "output_type": "stream",
     "text": [
      "the correlation between Latitude and Cloudiness is -0.07\n",
      "R squared: 0.005266284987847928\n"
     ]
    },
    {
     "data": {
      "text/plain": [
       "<Figure size 432x288 with 0 Axes>"
      ]
     },
     "metadata": {},
     "output_type": "display_data"
    }
   ],
   "source": [
    "# Calculate the correlation coefficient and linear regression model eight=Capomulin_weight_volume.iloc[:,0]\n",
    "lat=Southern_Hemisphere.iloc[:,2]\n",
    "Cloudiness=Southern_Hemisphere.iloc[:,6]\n",
    "correlation=st.pearsonr(lat,Cloudiness)\n",
    "\n",
    "slope, intercept, rvalue, pvalue, stderr = st.linregress(lat,Cloudiness)\n",
    "regress_values=lat*slope+intercept\n",
    "regress_values\n",
    "line_eq=\"y=\"+str(round(slope,2))+\"x+\"+str(round(intercept,2))\n",
    "plt.scatter(lat,Cloudiness)\n",
    "plt.plot(lat,regress_values,\"--\",color=\"r\")\n",
    "plt.annotate(line_eq,(20,36),fontsize=15,color=\"r\")\n",
    "plt.xlabel(\"Latitude\")\n",
    "plt.ylabel(\"Cloudiness\")\n",
    "plt.title(\"Southern Hemisphere - Cloudiness vs. Latitude Linear Regression\")\n",
    "plt.show()  \n",
    "print(f\"the correlation between Latitude and Cloudiness is {round(correlation[0],2)}\")\n",
    "print(f\"R squared: {rvalue**2}\") \n",
    "plt.savefig(\"../output_data/Southernn_Hemisphere lat vs Cloudiness linear regressoin.png\") "
   ]
  },
  {
   "cell_type": "code",
   "execution_count": null,
   "metadata": {},
   "outputs": [],
   "source": []
  },
  {
   "cell_type": "code",
   "execution_count": null,
   "metadata": {},
   "outputs": [],
   "source": []
  },
  {
   "cell_type": "code",
   "execution_count": null,
   "metadata": {},
   "outputs": [],
   "source": []
  },
  {
   "cell_type": "code",
   "execution_count": null,
   "metadata": {},
   "outputs": [],
   "source": []
  },
  {
   "cell_type": "code",
   "execution_count": null,
   "metadata": {},
   "outputs": [],
   "source": []
  },
  {
   "cell_type": "code",
   "execution_count": null,
   "metadata": {},
   "outputs": [],
   "source": []
  },
  {
   "cell_type": "markdown",
   "metadata": {},
   "source": [
    "####  Northern Hemisphere - Wind Speed (mph) vs. Latitude Linear Regression"
   ]
  },
  {
   "cell_type": "code",
   "execution_count": 62,
   "metadata": {},
   "outputs": [
    {
     "data": {
      "image/png": "[encoded data removed]",
      "text/plain": [
       "<Figure size 432x288 with 1 Axes>"
      ]
     },
     "metadata": {
      "needs_background": "light"
     },
     "output_type": "display_data"
    },
    {
     "name": "stdout",
     "output_type": "stream",
     "text": [
      "the correlation between Latitude and Wind Speed is 0.09\n",
      "R squared: 0.008371013433588887\n"
     ]
    },
    {
     "data": {
      "text/plain": [
       "<Figure size 432x288 with 0 Axes>"
      ]
     },
     "metadata": {},
     "output_type": "display_data"
    }
   ],
   "source": [
    "# Calculate the correlation coefficient and linear regression model eight=Capomulin_weight_volume.iloc[:,0]\n",
    "lat=Northern_Hemisphere.iloc[:,2]\n",
    "Wind_Speed=Northern_Hemisphere.iloc[:,5]\n",
    "correlation=st.pearsonr(lat,Wind_Speed)\n",
    "slope, intercept, rvalue, pvalue, stderr = st.linregress(lat,Wind_Speed)\n",
    "regress_values=lat*slope+intercept\n",
    "regress_values\n",
    "line_eq=\"y=\"+str(round(slope,2))+\"x+\"+str(round(intercept,2))\n",
    "plt.scatter(lat,Wind_Speed)\n",
    "plt.plot(lat,regress_values,\"--\",color=\"r\")\n",
    "plt.annotate(line_eq,(20,36),fontsize=15,color=\"r\")\n",
    "plt.xlabel(\"Latitude\")\n",
    "plt.ylabel(\"Wind Speed(mph)\")\n",
    "plt.title(\"Northern Hemisphere - Wind Speed vs. Latitude Linear Regression\")\n",
    "plt.show()  \n",
    "print(f\"the correlation between Latitude and Wind Speed is {round(correlation[0],2)}\")\n",
    "print(f\"R squared: {rvalue**2}\") \n",
    "plt.savefig(\"../output_data/Northern_Hemisphere lat vs Wind Speed linear regressoin.png\") \n"
   ]
  },
  {
   "cell_type": "code",
   "execution_count": null,
   "metadata": {},
   "outputs": [],
   "source": []
  },
  {
   "cell_type": "code",
   "execution_count": null,
   "metadata": {},
   "outputs": [],
   "source": []
  },
  {
   "cell_type": "code",
   "execution_count": null,
   "metadata": {},
   "outputs": [],
   "source": []
  },
  {
   "cell_type": "code",
   "execution_count": null,
   "metadata": {},
   "outputs": [],
   "source": []
  },
  {
   "cell_type": "code",
   "execution_count": null,
   "metadata": {},
   "outputs": [],
   "source": []
  },
  {
   "cell_type": "code",
   "execution_count": null,
   "metadata": {},
   "outputs": [],
   "source": []
  },
  {
   "cell_type": "code",
   "execution_count": null,
   "metadata": {},
   "outputs": [],
   "source": []
  },
  {
   "cell_type": "markdown",
   "metadata": {},
   "source": [
    "####  Southern Hemisphere - Wind Speed (mph) vs. Latitude Linear Regression"
   ]
  },
  {
   "cell_type": "code",
   "execution_count": 63,
   "metadata": {},
   "outputs": [
    {
     "data": {
      "image/png": "[encoded data removed]",
      "text/plain": [
       "<Figure size 432x288 with 1 Axes>"
      ]
     },
     "metadata": {
      "needs_background": "light"
     },
     "output_type": "display_data"
    },
    {
     "name": "stdout",
     "output_type": "stream",
     "text": [
      "the correlation between Latitude and Wind Speed is -0.05\n",
      "R squared: 0.002115881033564937\n"
     ]
    },
    {
     "data": {
      "text/plain": [
       "<Figure size 432x288 with 0 Axes>"
      ]
     },
     "metadata": {},
     "output_type": "display_data"
    }
   ],
   "source": [
    "# Calculate the correlation coefficient and linear regression model eight=Capomulin_weight_volume.iloc[:,0]\n",
    "lat=Southern_Hemisphere.iloc[:,2]\n",
    "Wind_Speed=Southern_Hemisphere.iloc[:,5]\n",
    "correlation=st.pearsonr(lat,Wind_Speed)\n",
    "slope, intercept, rvalue, pvalue, stderr = st.linregress(lat,Wind_Speed)\n",
    "regress_values=lat*slope+intercept\n",
    "regress_values\n",
    "line_eq=\"y=\"+str(round(slope,2))+\"x+\"+str(round(intercept,2))\n",
    "plt.scatter(lat,Wind_Speed)\n",
    "plt.plot(lat,regress_values,\"--\",color=\"r\")\n",
    "plt.annotate(line_eq,(20,36),fontsize=15,color=\"r\")\n",
    "plt.xlabel(\"Latitude\")\n",
    "plt.ylabel(\"Wind Speed(mph)\")\n",
    "plt.title(\"Southern Hemisphere - Wind Speed vs. Latitude Linear Regression\")\n",
    "plt.show()  \n",
    "print(f\"the correlation between Latitude and Wind Speed is {round(correlation[0],2)}\")\n",
    "print(f\"R squared: {rvalue**2}\") \n",
    "plt.savefig(\"../output_data/Southern_Hemisphere lat vs Wind Speed linear regressoin.png\") "
   ]
  },
  {
   "cell_type": "code",
   "execution_count": null,
   "metadata": {},
   "outputs": [],
   "source": []
  },
  {
   "cell_type": "code",
   "execution_count": null,
   "metadata": {},
   "outputs": [],
   "source": []
  },
  {
   "cell_type": "code",
   "execution_count": null,
   "metadata": {},
   "outputs": [],
   "source": []
  },
  {
   "cell_type": "code",
   "execution_count": null,
   "metadata": {},
   "outputs": [],
   "source": []
  },
  {
   "cell_type": "code",
   "execution_count": null,
   "metadata": {},
   "outputs": [],
   "source": []
  },
  {
   "cell_type": "code",
   "execution_count": null,
   "metadata": {},
   "outputs": [],
   "source": []
  },
  {
   "cell_type": "code",
   "execution_count": null,
   "metadata": {},
   "outputs": [],
   "source": []
  }
 ],
 "metadata": {
  "anaconda-cloud": {},
  "kernel_info": {
   "name": "python3"
  },
  "kernelspec": {
   "display_name": "Python [conda env:pythondata] *",
   "language": "python",
   "name": "conda-env-pythondata-py"
  },
  "language_info": {
   "codemirror_mode": {
    "name": "ipython",
    "version": 3
   },
   "file_extension": ".py",
   "mimetype": "text/x-python",
   "name": "python",
   "nbconvert_exporter": "python",
   "pygments_lexer": "ipython3",
   "version": "3.6.10"
  },
  "latex_envs": {
   "LaTeX_envs_menu_present": true,
   "autoclose": false,
   "autocomplete": true,
   "bibliofile": "biblio.bib",
   "cite_by": "apalike",
   "current_citInitial": 1,
   "eqLabelWithNumbers": true,
   "eqNumInitial": 1,
   "hotkeys": {
    "equation": "Ctrl-E",
    "itemize": "Ctrl-I"
   },
   "labels_anchors": false,
   "latex_user_defs": false,
   "report_style_numbering": false,
   "user_envs_cfg": false
  },
  "nteract": {
   "version": "0.12.3"
  }
 },
 "nbformat": 4,
 "nbformat_minor": 2
}
