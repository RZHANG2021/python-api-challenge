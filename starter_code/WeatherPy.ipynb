{
 "cells": [
  {
   "cell_type": "markdown",
   "metadata": {},
   "source": [
    "# WeatherPy\n",
    "----\n",
    "\n",
    "#### Observasion\n",
    "\n",
    "Regarding the relationship between latitude and temperature, besides a few outliers, the scatter plot appears to be a bell shaped pattern, indicates that there is a non-linear relationship between latitude and temperature. \n",
    "\n",
    "Potentially we can check the data, to find the missing variable can help to build a more accurate non-linear relationship among the latitude, temperature and the variable that we found.\n",
    "\n",
    "Furthermore, based on the linear regression analysis, it appears that there is a strong correlation between temperature and latitude. In northern hemisphere, these two factors appear to have a relatively strong negative correlation, however in northern hemisphere, it also indicates a strong correlation but in positive direction.\n",
    "\n",
    "Lastly the analysis also compared the relationship among humidity, cloudiness, and wind speed to latitude. All indicates that here is no relationship among these factors \n"
   ]
  },
  {
   "cell_type": "code",
   "execution_count": 1,
   "metadata": {
    "scrolled": true
   },
   "outputs": [],
   "source": [
    "# Dependencies and Setup\n",
    "import matplotlib.pyplot as plt\n",
    "import pandas as pd\n",
    "import numpy as np\n",
    "import requests\n",
    "import time\n",
    "from datetime import datetime\n",
    "import scipy.stats as st\n",
    "from scipy.stats import linregress\n",
    "\n",
    "# Import API key\n",
    "from api_keys import weather_api_key\n",
    "\n",
    "# Incorporated citipy to determine city based on latitude and longitude\n",
    "from citipy import citipy\n",
    "\n",
    "# Output File (CSV)\n",
    "output_data_file = \"output_data/cities.csv\"\n",
    "\n",
    "# Range of latitudes and longitudes\n",
    "lat_range = (-90, 90)\n",
    "lng_range = (-180, 180)"
   ]
  },
  {
   "cell_type": "markdown",
   "metadata": {},
   "source": [
    "## Generate Cities List"
   ]
  },
  {
   "cell_type": "code",
   "execution_count": 2,
   "metadata": {},
   "outputs": [
    {
     "data": {
      "text/plain": [
       "591"
      ]
     },
     "execution_count": 2,
     "metadata": {},
     "output_type": "execute_result"
    }
   ],
   "source": [
    "# List for holding lat_lngs and cities\n",
    "lat_lngs = []\n",
    "cities = []\n",
    "\n",
    "# Create a set of random lat and lng combinations\n",
    "lats = np.random.uniform(lat_range[0], lat_range[1], size=1500)\n",
    "lngs = np.random.uniform(lng_range[0], lng_range[1], size=1500)\n",
    "lat_lngs = zip(lats, lngs)\n",
    "\n",
    "# Identify nearest city for each lat, lng combination\n",
    "for lat_lng in lat_lngs:\n",
    "    city = citipy.nearest_city(lat_lng[0], lat_lng[1]).city_name\n",
    "    \n",
    "    # If the city is unique, then add it to a our cities list\n",
    "    if city not in cities:\n",
    "        cities.append(city)\n",
    "\n",
    "# Print the city count to confirm sufficient count\n",
    "len(cities)"
   ]
  },
  {
   "cell_type": "code",
   "execution_count": null,
   "metadata": {},
   "outputs": [],
   "source": []
  },
  {
   "cell_type": "markdown",
   "metadata": {},
   "source": [
    "### Perform API Calls\n",
    "* Perform a weather check on each city using a series of successive API calls.\n",
    "* Include a print log of each city as it'sbeing processed (with the city number and city name).\n"
   ]
  },
  {
   "cell_type": "code",
   "execution_count": 3,
   "metadata": {},
   "outputs": [],
   "source": [
    "# Save config information\n",
    "url = \"http://api.openweathermap.org/data/2.5/weather?\"\n",
    "units = \"metric\"\n",
    "\n",
    "# Build partial query URL\n",
    "query_url = f\"{url}appid={weather_api_key}&units={units}&q=\"\n"
   ]
  },
  {
   "cell_type": "code",
   "execution_count": 4,
   "metadata": {},
   "outputs": [
    {
     "name": "stdout",
     "output_type": "stream",
     "text": [
      "Processing Record 1 of set 1 |kisanga\n",
      "Processing Record 2 of set 1 |hobart\n",
      "Processing Record 3 of set 1 |rikitea\n",
      "Processing Record 4 of set 1 |hermanus\n",
      "Processing Record 5 of set 1 |mataura\n",
      "Processing Record 6 of set 1 |sharya\n",
      "Processing Record 7 of set 1 |mancio lima\n",
      "Processing Record 8 of set 1 |hilo\n",
      "Processing Record 9 of set 1 |namatanai\n",
      "Processing Record 10 of set 1 |bluff\n",
      "Processing Record 11 of set 1 |savelugu\n",
      "City not found. Skipping...\n",
      "Processing Record 13 of set 1 |aykhal\n",
      "Processing Record 14 of set 1 |san cristobal\n",
      "Processing Record 15 of set 1 |acapulco\n",
      "Processing Record 16 of set 1 |vaini\n",
      "Processing Record 17 of set 1 |albany\n",
      "Processing Record 18 of set 1 |castro\n",
      "Processing Record 19 of set 1 |ilulissat\n",
      "Processing Record 20 of set 1 |korla\n",
      "Processing Record 21 of set 1 |vao\n",
      "Processing Record 22 of set 1 |gumia\n",
      "Processing Record 23 of set 1 |esperance\n",
      "Processing Record 24 of set 1 |ponta do sol\n",
      "Processing Record 25 of set 1 |georgetown\n",
      "Processing Record 26 of set 1 |ushuaia\n",
      "Processing Record 27 of set 1 |athabasca\n",
      "Processing Record 28 of set 1 |ostrovnoy\n",
      "Processing Record 29 of set 1 |moralillo\n",
      "Processing Record 30 of set 1 |luderitz\n",
      "Processing Record 31 of set 1 |yeppoon\n",
      "Processing Record 32 of set 1 |dina\n",
      "Processing Record 33 of set 1 |aklavik\n",
      "Processing Record 34 of set 1 |phaltan\n",
      "Processing Record 35 of set 1 |oranjestad\n",
      "Processing Record 36 of set 1 |cururupu\n",
      "Processing Record 37 of set 1 |bengkulu\n",
      "Processing Record 38 of set 1 |nikolskoye\n",
      "Processing Record 39 of set 1 |mogadishu\n",
      "Processing Record 40 of set 1 |jamestown\n",
      "Processing Record 41 of set 1 |namibe\n",
      "Processing Record 42 of set 1 |kungurtug\n",
      "Processing Record 43 of set 1 |fortuna\n",
      "Processing Record 44 of set 1 |carlsbad\n",
      "Processing Record 45 of set 1 |evanston\n",
      "Processing Record 46 of set 1 |marawi\n",
      "Processing Record 47 of set 1 |busselton\n",
      "Processing Record 48 of set 1 |bredasdorp\n",
      "Processing Record 49 of set 1 |pangoa\n",
      "Processing Record 50 of set 1 |paamiut\n",
      "City not found. Skipping...\n",
      "Processing Record 2 of set 2 |tura\n",
      "Processing Record 3 of set 2 |usakos\n",
      "Processing Record 4 of set 2 |butaritari\n",
      "Processing Record 5 of set 2 |asfi\n",
      "City not found. Skipping...\n",
      "Processing Record 7 of set 2 |araouane\n",
      "Processing Record 8 of set 2 |tasiilaq\n",
      "Processing Record 9 of set 2 |rio grande\n",
      "Processing Record 10 of set 2 |kiama\n",
      "Processing Record 11 of set 2 |parbatipur\n",
      "Processing Record 12 of set 2 |high rock\n",
      "Processing Record 13 of set 2 |lagoa\n",
      "Processing Record 14 of set 2 |ca mau\n",
      "Processing Record 15 of set 2 |mahebourg\n",
      "Processing Record 16 of set 2 |yellowknife\n",
      "Processing Record 17 of set 2 |pacific grove\n",
      "City not found. Skipping...\n",
      "City not found. Skipping...\n",
      "Processing Record 20 of set 2 |barrow\n",
      "City not found. Skipping...\n",
      "Processing Record 22 of set 2 |kaitangata\n",
      "Processing Record 23 of set 2 |punta arenas\n",
      "Processing Record 24 of set 2 |beringovskiy\n",
      "Processing Record 25 of set 2 |kahului\n",
      "Processing Record 26 of set 2 |high level\n",
      "Processing Record 27 of set 2 |kondinskoye\n",
      "Processing Record 28 of set 2 |jalu\n",
      "Processing Record 29 of set 2 |tuktoyaktuk\n",
      "Processing Record 30 of set 2 |saint george\n",
      "Processing Record 31 of set 2 |la ronge\n",
      "Processing Record 32 of set 2 |perumpavur\n",
      "Processing Record 33 of set 2 |kapaa\n",
      "Processing Record 34 of set 2 |halifax\n",
      "City not found. Skipping...\n",
      "Processing Record 36 of set 2 |the pas\n",
      "Processing Record 37 of set 2 |muros\n",
      "City not found. Skipping...\n",
      "Processing Record 39 of set 2 |maryville\n",
      "Processing Record 40 of set 2 |saskylakh\n",
      "Processing Record 41 of set 2 |muroto\n",
      "Processing Record 42 of set 2 |laguna\n",
      "Processing Record 43 of set 2 |hithadhoo\n",
      "Processing Record 44 of set 2 |santiago del estero\n",
      "Processing Record 45 of set 2 |puerto ayora\n",
      "Processing Record 46 of set 2 |perene\n",
      "Processing Record 47 of set 2 |quesnel\n",
      "City not found. Skipping...\n",
      "Processing Record 49 of set 2 |leningradskiy\n",
      "Processing Record 50 of set 2 |sao jose da coroa grande\n",
      "Processing Record 1 of set 3 |paulo afonso\n",
      "Processing Record 2 of set 3 |valley city\n",
      "Processing Record 3 of set 3 |nantucket\n",
      "City not found. Skipping...\n",
      "Processing Record 5 of set 3 |wattegama\n",
      "Processing Record 6 of set 3 |san pedro de uraba\n",
      "Processing Record 7 of set 3 |haines junction\n",
      "Processing Record 8 of set 3 |matay\n",
      "Processing Record 9 of set 3 |itaquaquecetuba\n",
      "Processing Record 10 of set 3 |east london\n",
      "Processing Record 11 of set 3 |tessalit\n",
      "Processing Record 12 of set 3 |antofagasta\n",
      "Processing Record 13 of set 3 |sterling\n",
      "Processing Record 14 of set 3 |caravelas\n",
      "Processing Record 15 of set 3 |cape town\n",
      "Processing Record 16 of set 3 |ossora\n",
      "Processing Record 17 of set 3 |northam\n",
      "Processing Record 18 of set 3 |tagusao\n",
      "Processing Record 19 of set 3 |kodiak\n",
      "Processing Record 20 of set 3 |riyadh\n",
      "Processing Record 21 of set 3 |kysyl-syr\n",
      "Processing Record 22 of set 3 |khatanga\n",
      "Processing Record 23 of set 3 |tiksi\n",
      "Processing Record 24 of set 3 |lebu\n",
      "Processing Record 25 of set 3 |broken hill\n",
      "Processing Record 26 of set 3 |ust-omchug\n",
      "Processing Record 27 of set 3 |kuito\n",
      "Processing Record 28 of set 3 |qaanaaq\n",
      "Processing Record 29 of set 3 |dikson\n",
      "Processing Record 30 of set 3 |dunedin\n",
      "Processing Record 31 of set 3 |surgut\n",
      "Processing Record 32 of set 3 |padang\n",
      "Processing Record 33 of set 3 |bjornevatn\n",
      "City not found. Skipping...\n",
      "Processing Record 35 of set 3 |shizunai\n",
      "Processing Record 36 of set 3 |hvide sande\n",
      "Processing Record 37 of set 3 |ribeira grande\n",
      "Processing Record 38 of set 3 |ust-kut\n",
      "Processing Record 39 of set 3 |bageshwar\n",
      "Processing Record 40 of set 3 |airai\n",
      "Processing Record 41 of set 3 |chokurdakh\n",
      "Processing Record 42 of set 3 |teeli\n",
      "Processing Record 43 of set 3 |srednekolymsk\n",
      "Processing Record 44 of set 3 |isangel\n",
      "Processing Record 45 of set 3 |aljezur\n",
      "Processing Record 46 of set 3 |jutai\n",
      "Processing Record 47 of set 3 |acarau\n",
      "Processing Record 48 of set 3 |atuona\n",
      "Processing Record 49 of set 3 |brae\n",
      "Processing Record 50 of set 3 |dingle\n",
      "Processing Record 1 of set 4 |deputatskiy\n",
      "Processing Record 2 of set 4 |jiuquan\n",
      "Processing Record 3 of set 4 |sola\n",
      "City not found. Skipping...\n",
      "Processing Record 5 of set 4 |clyde river\n",
      "Processing Record 6 of set 4 |masallatah\n",
      "Processing Record 7 of set 4 |lazaro cardenas\n",
      "Processing Record 8 of set 4 |longyearbyen\n",
      "Processing Record 9 of set 4 |kakogawa\n",
      "Processing Record 10 of set 4 |quatre cocos\n",
      "Processing Record 11 of set 4 |zhuhai\n",
      "Processing Record 12 of set 4 |praia\n",
      "Processing Record 13 of set 4 |tombouctou\n",
      "Processing Record 14 of set 4 |rawson\n",
      "Processing Record 15 of set 4 |todos santos\n",
      "Processing Record 16 of set 4 |tautira\n",
      "Processing Record 17 of set 4 |soverato\n",
      "Processing Record 18 of set 4 |olafsvik\n",
      "Processing Record 19 of set 4 |soyo\n",
      "Processing Record 20 of set 4 |mar del plata\n",
      "Processing Record 21 of set 4 |lorengau\n",
      "Processing Record 22 of set 4 |bani walid\n",
      "Processing Record 23 of set 4 |menongue\n",
      "Processing Record 24 of set 4 |osa\n",
      "Processing Record 25 of set 4 |nishihara\n",
      "Processing Record 26 of set 4 |santa maria\n",
      "Processing Record 27 of set 4 |palmerston\n",
      "Processing Record 28 of set 4 |tazovskiy\n",
      "Processing Record 29 of set 4 |mungaa\n",
      "Processing Record 30 of set 4 |neuquen\n",
      "City not found. Skipping...\n",
      "Processing Record 32 of set 4 |guerrero negro\n",
      "Processing Record 33 of set 4 |kavieng\n",
      "Processing Record 34 of set 4 |reyes\n",
      "Processing Record 35 of set 4 |roura\n",
      "Processing Record 36 of set 4 |plettenberg bay\n",
      "Processing Record 37 of set 4 |narsaq\n",
      "Processing Record 38 of set 4 |codrington\n",
      "Processing Record 39 of set 4 |usak\n",
      "City not found. Skipping...\n",
      "Processing Record 41 of set 4 |calvinia\n",
      "Processing Record 42 of set 4 |bonthe\n",
      "Processing Record 43 of set 4 |vestmannaeyjar\n",
      "Processing Record 44 of set 4 |port elizabeth\n",
      "Processing Record 45 of set 4 |birao\n",
      "Processing Record 46 of set 4 |burnie\n",
      "Processing Record 47 of set 4 |hervey bay\n",
      "Processing Record 48 of set 4 |walvis bay\n",
      "Processing Record 49 of set 4 |beni suef\n",
      "Processing Record 50 of set 4 |itarema\n",
      "Processing Record 1 of set 5 |kamen-rybolov\n",
      "Processing Record 2 of set 5 |kruisfontein\n",
      "Processing Record 3 of set 5 |torbay\n",
      "Processing Record 4 of set 5 |buarcos\n",
      "Processing Record 5 of set 5 |gigmoto\n",
      "Processing Record 6 of set 5 |singarayakonda\n",
      "Processing Record 7 of set 5 |snezhnogorsk\n",
      "Processing Record 8 of set 5 |kalmunai\n",
      "Processing Record 9 of set 5 |egvekinot\n"
     ]
    },
    {
     "name": "stdout",
     "output_type": "stream",
     "text": [
      "Processing Record 10 of set 5 |carnarvon\n",
      "Processing Record 11 of set 5 |vondrozo\n",
      "Processing Record 12 of set 5 |saint-philippe\n",
      "Processing Record 13 of set 5 |botevgrad\n",
      "Processing Record 14 of set 5 |avarua\n",
      "Processing Record 15 of set 5 |luis correia\n",
      "Processing Record 16 of set 5 |mala\n",
      "Processing Record 17 of set 5 |poya\n",
      "Processing Record 18 of set 5 |grindavik\n",
      "Processing Record 19 of set 5 |port alfred\n",
      "Processing Record 20 of set 5 |rock sound\n",
      "Processing Record 21 of set 5 |ponta delgada\n",
      "Processing Record 22 of set 5 |cairns\n",
      "Processing Record 23 of set 5 |hasaki\n",
      "Processing Record 24 of set 5 |pevek\n",
      "City not found. Skipping...\n",
      "Processing Record 26 of set 5 |rincon\n",
      "Processing Record 27 of set 5 |nemuro\n",
      "Processing Record 28 of set 5 |smirnykh\n",
      "Processing Record 29 of set 5 |hay river\n",
      "Processing Record 30 of set 5 |ancud\n",
      "Processing Record 31 of set 5 |dolgoye\n",
      "Processing Record 32 of set 5 |kieta\n",
      "Processing Record 33 of set 5 |necochea\n",
      "Processing Record 34 of set 5 |labuhan\n",
      "Processing Record 35 of set 5 |oranjemund\n",
      "Processing Record 36 of set 5 |male\n",
      "Processing Record 37 of set 5 |kuching\n",
      "Processing Record 38 of set 5 |tual\n",
      "Processing Record 39 of set 5 |cabo san lucas\n",
      "Processing Record 40 of set 5 |thompson\n",
      "Processing Record 41 of set 5 |tulun\n",
      "Processing Record 42 of set 5 |bud\n",
      "Processing Record 43 of set 5 |new norfolk\n",
      "Processing Record 44 of set 5 |scottsbluff\n",
      "Processing Record 45 of set 5 |port lincoln\n",
      "Processing Record 46 of set 5 |zhangjiakou\n",
      "Processing Record 47 of set 5 |bandarbeyla\n",
      "Processing Record 48 of set 5 |manoel urbano\n",
      "Processing Record 49 of set 5 |viedma\n",
      "Processing Record 50 of set 5 |parfino\n",
      "Processing Record 1 of set 6 |bethel\n",
      "Processing Record 2 of set 6 |bridlington\n",
      "Processing Record 3 of set 6 |belgrade\n",
      "Processing Record 4 of set 6 |berdavan\n",
      "Processing Record 5 of set 6 |iqaluit\n",
      "Processing Record 6 of set 6 |ulaangom\n",
      "Processing Record 7 of set 6 |wajir\n",
      "Processing Record 8 of set 6 |saint-francois\n",
      "Processing Record 9 of set 6 |arraial do cabo\n",
      "Processing Record 10 of set 6 |bonoua\n",
      "Processing Record 11 of set 6 |maceio\n",
      "Processing Record 12 of set 6 |ahipara\n",
      "Processing Record 13 of set 6 |touros\n",
      "Processing Record 14 of set 6 |mount darwin\n",
      "Processing Record 15 of set 6 |bolshaya dzhalga\n",
      "Processing Record 16 of set 6 |dalvik\n",
      "Processing Record 17 of set 6 |linjiang\n",
      "Processing Record 18 of set 6 |nanortalik\n",
      "Processing Record 19 of set 6 |erzin\n",
      "Processing Record 20 of set 6 |arys\n",
      "Processing Record 21 of set 6 |wajid\n",
      "Processing Record 22 of set 6 |kholodnyy\n",
      "City not found. Skipping...\n",
      "Processing Record 24 of set 6 |vardo\n",
      "Processing Record 25 of set 6 |tateyama\n",
      "Processing Record 26 of set 6 |qandala\n",
      "Processing Record 27 of set 6 |pembroke\n",
      "Processing Record 28 of set 6 |ginda\n",
      "Processing Record 29 of set 6 |orlovka\n",
      "City not found. Skipping...\n",
      "Processing Record 31 of set 6 |armenia\n",
      "Processing Record 32 of set 6 |sao filipe\n",
      "City not found. Skipping...\n",
      "Processing Record 34 of set 6 |urucara\n",
      "Processing Record 35 of set 6 |ulladulla\n",
      "Processing Record 36 of set 6 |riberalta\n",
      "Processing Record 37 of set 6 |hami\n",
      "Processing Record 38 of set 6 |klaksvik\n",
      "Processing Record 39 of set 6 |riverton\n",
      "Processing Record 40 of set 6 |brufut\n",
      "Processing Record 41 of set 6 |grand gaube\n",
      "Processing Record 42 of set 6 |talnakh\n",
      "Processing Record 43 of set 6 |banjar\n",
      "Processing Record 44 of set 6 |buchanan\n",
      "Processing Record 45 of set 6 |peniche\n",
      "City not found. Skipping...\n",
      "Processing Record 47 of set 6 |benguela\n",
      "Processing Record 48 of set 6 |reconquista\n",
      "Processing Record 49 of set 6 |ayan\n",
      "Processing Record 50 of set 6 |kargil\n",
      "City not found. Skipping...\n",
      "Processing Record 2 of set 7 |sisimiut\n",
      "Processing Record 3 of set 7 |geraldton\n",
      "Processing Record 4 of set 7 |moramanga\n",
      "Processing Record 5 of set 7 |pitimbu\n",
      "Processing Record 6 of set 7 |popondetta\n",
      "Processing Record 7 of set 7 |ketchikan\n",
      "City not found. Skipping...\n",
      "Processing Record 9 of set 7 |shingu\n",
      "Processing Record 10 of set 7 |korop\n",
      "Processing Record 11 of set 7 |villa carlos paz\n",
      "Processing Record 12 of set 7 |yamada\n",
      "Processing Record 13 of set 7 |komsomolskiy\n",
      "Processing Record 14 of set 7 |yatou\n",
      "Processing Record 15 of set 7 |lixourion\n",
      "Processing Record 16 of set 7 |sitka\n",
      "Processing Record 17 of set 7 |seymchan\n",
      "Processing Record 18 of set 7 |harrisburg\n",
      "Processing Record 19 of set 7 |ingham\n",
      "Processing Record 20 of set 7 |pontal do parana\n",
      "Processing Record 21 of set 7 |dudinka\n",
      "Processing Record 22 of set 7 |upernavik\n",
      "Processing Record 23 of set 7 |wanning\n",
      "Processing Record 24 of set 7 |ballina\n",
      "Processing Record 25 of set 7 |amahai\n",
      "Processing Record 26 of set 7 |matara\n",
      "Processing Record 27 of set 7 |le moule\n",
      "City not found. Skipping...\n",
      "Processing Record 29 of set 7 |guangzhou\n",
      "Processing Record 30 of set 7 |hoquiam\n",
      "Processing Record 31 of set 7 |toucheng\n",
      "Processing Record 32 of set 7 |tuatapere\n",
      "Processing Record 33 of set 7 |norman wells\n",
      "Processing Record 34 of set 7 |kavaratti\n",
      "Processing Record 35 of set 7 |yaan\n",
      "Processing Record 36 of set 7 |fuling\n",
      "Processing Record 37 of set 7 |vila velha\n",
      "City not found. Skipping...\n",
      "Processing Record 39 of set 7 |la orilla\n",
      "Processing Record 40 of set 7 |puerto carreno\n",
      "City not found. Skipping...\n",
      "Processing Record 42 of set 7 |koszalin\n",
      "Processing Record 43 of set 7 |shigony\n",
      "Processing Record 44 of set 7 |ambilobe\n",
      "Processing Record 45 of set 7 |svetlogorsk\n",
      "Processing Record 46 of set 7 |teya\n",
      "Processing Record 47 of set 7 |san patricio\n",
      "Processing Record 48 of set 7 |comodoro rivadavia\n",
      "Processing Record 49 of set 7 |souillac\n",
      "Processing Record 50 of set 7 |coquimbo\n",
      "Processing Record 1 of set 8 |launceston\n",
      "Processing Record 2 of set 8 |santa lucia\n",
      "Processing Record 3 of set 8 |pocone\n",
      "Processing Record 4 of set 8 |clarence town\n",
      "Processing Record 5 of set 8 |barbosa ferraz\n",
      "Processing Record 6 of set 8 |sinop\n",
      "Processing Record 7 of set 8 |harlingen\n",
      "Processing Record 8 of set 8 |salalah\n",
      "Processing Record 9 of set 8 |saint-augustin\n",
      "Processing Record 10 of set 8 |longyan\n",
      "Processing Record 11 of set 8 |voila\n",
      "Processing Record 12 of set 8 |kiruna\n",
      "Processing Record 13 of set 8 |hirara\n",
      "Processing Record 14 of set 8 |ban nahin\n",
      "Processing Record 15 of set 8 |papetoai\n",
      "Processing Record 16 of set 8 |belyy yar\n",
      "Processing Record 17 of set 8 |taksimo\n",
      "Processing Record 18 of set 8 |galle\n",
      "Processing Record 19 of set 8 |chowchilla\n",
      "Processing Record 20 of set 8 |cidreira\n",
      "Processing Record 21 of set 8 |felipe carrillo puerto\n",
      "Processing Record 22 of set 8 |huarmey\n",
      "Processing Record 23 of set 8 |ilo\n",
      "Processing Record 24 of set 8 |berdigestyakh\n",
      "Processing Record 25 of set 8 |guasdualito\n",
      "Processing Record 26 of set 8 |sept-iles\n",
      "Processing Record 27 of set 8 |flin flon\n",
      "Processing Record 28 of set 8 |chaparral\n",
      "Processing Record 29 of set 8 |provideniya\n",
      "Processing Record 30 of set 8 |kholtoson\n",
      "Processing Record 31 of set 8 |sinnamary\n",
      "Processing Record 32 of set 8 |burns lake\n",
      "Processing Record 33 of set 8 |saint anthony\n",
      "Processing Record 34 of set 8 |barentu\n",
      "Processing Record 35 of set 8 |mecca\n",
      "Processing Record 36 of set 8 |alice springs\n",
      "Processing Record 37 of set 8 |aswan\n",
      "Processing Record 38 of set 8 |kabarnet\n",
      "Processing Record 39 of set 8 |jizan\n",
      "Processing Record 40 of set 8 |cap malheureux\n",
      "Processing Record 41 of set 8 |paraguacu paulista\n",
      "Processing Record 42 of set 8 |sarkand\n",
      "Processing Record 43 of set 8 |lampang\n",
      "Processing Record 44 of set 8 |kamaishi\n",
      "Processing Record 45 of set 8 |bambous virieux\n",
      "Processing Record 46 of set 8 |straumen\n",
      "Processing Record 47 of set 8 |belmonte\n",
      "Processing Record 48 of set 8 |zhaoyang\n",
      "Processing Record 49 of set 8 |alofi\n",
      "Processing Record 50 of set 8 |kannangad\n",
      "Processing Record 1 of set 9 |chuy\n",
      "Processing Record 2 of set 9 |portland\n",
      "Processing Record 3 of set 9 |pringsewu\n",
      "Processing Record 4 of set 9 |camacha\n",
      "Processing Record 5 of set 9 |victoria\n",
      "Processing Record 6 of set 9 |machilipatnam\n",
      "Processing Record 7 of set 9 |tashtagol\n",
      "Processing Record 8 of set 9 |tres arroyos\n",
      "Processing Record 9 of set 9 |carutapera\n",
      "Processing Record 10 of set 9 |grand baie\n",
      "Processing Record 11 of set 9 |qaqortoq\n",
      "City not found. Skipping...\n",
      "Processing Record 13 of set 9 |tshikapa\n",
      "Processing Record 14 of set 9 |cherskiy\n",
      "Processing Record 15 of set 9 |mehamn\n",
      "Processing Record 16 of set 9 |sao joao da barra\n"
     ]
    },
    {
     "name": "stdout",
     "output_type": "stream",
     "text": [
      "Processing Record 17 of set 9 |pemba\n",
      "Processing Record 18 of set 9 |pimentel\n",
      "Processing Record 19 of set 9 |wenling\n",
      "Processing Record 20 of set 9 |rongcheng\n",
      "Processing Record 21 of set 9 |kloulklubed\n",
      "Processing Record 22 of set 9 |biak\n",
      "Processing Record 23 of set 9 |forrest city\n",
      "Processing Record 24 of set 9 |kjollefjord\n",
      "Processing Record 25 of set 9 |kota bahru\n",
      "Processing Record 26 of set 9 |yulara\n",
      "Processing Record 27 of set 9 |akdepe\n",
      "Processing Record 28 of set 9 |port hardy\n",
      "Processing Record 29 of set 9 |naze\n",
      "Processing Record 30 of set 9 |zambrano\n",
      "Processing Record 31 of set 9 |dahra\n",
      "Processing Record 32 of set 9 |goderich\n",
      "Processing Record 33 of set 9 |shache\n",
      "City not found. Skipping...\n",
      "Processing Record 35 of set 9 |meulaboh\n",
      "City not found. Skipping...\n",
      "Processing Record 37 of set 9 |bulawayo\n",
      "Processing Record 38 of set 9 |severo-kurilsk\n",
      "Processing Record 39 of set 9 |faya\n",
      "Processing Record 40 of set 9 |zhigansk\n",
      "Processing Record 41 of set 9 |vagur\n",
      "Processing Record 42 of set 9 |surt\n",
      "Processing Record 43 of set 9 |miram shah\n",
      "Processing Record 44 of set 9 |cayenne\n",
      "Processing Record 45 of set 9 |avera\n",
      "Processing Record 46 of set 9 |livingstone\n",
      "Processing Record 47 of set 9 |bogande\n",
      "Processing Record 48 of set 9 |inongo\n",
      "Processing Record 49 of set 9 |faanui\n",
      "Processing Record 50 of set 9 |anadyr\n",
      "Processing Record 1 of set 10 |tezu\n",
      "Processing Record 2 of set 10 |lubuagan\n",
      "Processing Record 3 of set 10 |wegorzewo\n",
      "Processing Record 4 of set 10 |navalmoral de la mata\n",
      "Processing Record 5 of set 10 |tomatlan\n",
      "Processing Record 6 of set 10 |qianan\n",
      "Processing Record 7 of set 10 |lompoc\n",
      "Processing Record 8 of set 10 |sioux lookout\n",
      "Processing Record 9 of set 10 |korem\n",
      "Processing Record 10 of set 10 |tarimbaro\n",
      "Processing Record 11 of set 10 |raga\n",
      "City not found. Skipping...\n",
      "City not found. Skipping...\n",
      "City not found. Skipping...\n",
      "Processing Record 15 of set 10 |pergamino\n",
      "Processing Record 16 of set 10 |sibolga\n",
      "Processing Record 17 of set 10 |shchors\n",
      "Processing Record 18 of set 10 |petropavlovsk-kamchatskiy\n",
      "Processing Record 19 of set 10 |verkhniy avzyan\n",
      "Processing Record 20 of set 10 |evensk\n",
      "Processing Record 21 of set 10 |bismil\n",
      "Processing Record 22 of set 10 |garbolovo\n",
      "Processing Record 23 of set 10 |lilongwe\n",
      "Processing Record 24 of set 10 |requena\n",
      "Processing Record 25 of set 10 |torrington\n",
      "Processing Record 26 of set 10 |port blair\n",
      "Processing Record 27 of set 10 |williamsburg\n",
      "Processing Record 28 of set 10 |harboore\n",
      "Processing Record 29 of set 10 |gondang\n",
      "Processing Record 30 of set 10 |parkes\n",
      "Processing Record 31 of set 10 |constitucion\n",
      "Processing Record 32 of set 10 |maneadero\n",
      "Processing Record 33 of set 10 |vestmanna\n",
      "Processing Record 34 of set 10 |rafsanjan\n",
      "Processing Record 35 of set 10 |santo nino\n",
      "Processing Record 36 of set 10 |kaniama\n",
      "Processing Record 37 of set 10 |santa rosalia\n",
      "Processing Record 38 of set 10 |shakawe\n",
      "Processing Record 39 of set 10 |marfino\n",
      "Processing Record 40 of set 10 |mendi\n",
      "Processing Record 41 of set 10 |lewiston\n",
      "Processing Record 42 of set 10 |lerwick\n",
      "Processing Record 43 of set 10 |hovd\n",
      "Processing Record 44 of set 10 |tilichiki\n",
      "Processing Record 45 of set 10 |nefteyugansk\n",
      "Processing Record 46 of set 10 |port augusta\n",
      "Processing Record 47 of set 10 |farafangana\n",
      "Processing Record 48 of set 10 |staszow\n",
      "Processing Record 49 of set 10 |atoyac\n",
      "Processing Record 50 of set 10 |ust-nera\n",
      "Processing Record 1 of set 11 |yeovil\n",
      "Processing Record 2 of set 11 |coruripe\n",
      "City not found. Skipping...\n",
      "Processing Record 4 of set 11 |lata\n",
      "Processing Record 5 of set 11 |poum\n",
      "Processing Record 6 of set 11 |esso\n",
      "Processing Record 7 of set 11 |sambava\n",
      "Processing Record 8 of set 11 |rosarito\n",
      "Processing Record 9 of set 11 |mangochi\n",
      "Processing Record 10 of set 11 |taoudenni\n",
      "Processing Record 11 of set 11 |mandan\n",
      "Processing Record 12 of set 11 |cap-aux-meules\n",
      "Processing Record 13 of set 11 |roblin\n",
      "Processing Record 14 of set 11 |port macquarie\n",
      "Processing Record 15 of set 11 |esmeraldas\n",
      "Processing Record 16 of set 11 |montepuez\n",
      "City not found. Skipping...\n",
      "Processing Record 18 of set 11 |sungaipenuh\n",
      "City not found. Skipping...\n",
      "City not found. Skipping...\n",
      "Processing Record 21 of set 11 |elayirampannai\n",
      "Processing Record 22 of set 11 |ucluelet\n",
      "Processing Record 23 of set 11 |urla\n",
      "City not found. Skipping...\n",
      "Processing Record 25 of set 11 |rafai\n",
      "Processing Record 26 of set 11 |bac lieu\n",
      "Processing Record 27 of set 11 |berlevag\n",
      "Processing Record 28 of set 11 |adrar\n",
      "Processing Record 29 of set 11 |ojinaga\n",
      "Processing Record 30 of set 11 |yantal\n",
      "Processing Record 31 of set 11 |oistins\n",
      "Processing Record 32 of set 11 |taizhou\n",
      "Processing Record 33 of set 11 |port shepstone\n",
      "Processing Record 34 of set 11 |mercedes\n",
      "Processing Record 35 of set 11 |findlay\n",
      "Processing Record 36 of set 11 |sosnogorsk\n",
      "Processing Record 37 of set 11 |lodeynoye pole\n",
      "Processing Record 38 of set 11 |rognan\n",
      "Processing Record 39 of set 11 |yumen\n",
      "Processing Record 40 of set 11 |jumla\n",
      "Processing Record 41 of set 11 |whitehorse\n",
      "City not found. Skipping...\n",
      "Processing Record 43 of set 11 |kribi\n",
      "Processing Record 44 of set 11 |octeville\n",
      "Processing Record 45 of set 11 |yenagoa\n",
      "Processing Record 46 of set 11 |mabaruma\n",
      "Processing Record 47 of set 11 |palamos\n",
      "Processing Record 48 of set 11 |port-cartier\n",
      "Processing Record 49 of set 11 |odienne\n",
      "Processing Record 50 of set 11 |berbera\n",
      "City not found. Skipping...\n",
      "Processing Record 2 of set 12 |caborca\n",
      "Processing Record 3 of set 12 |aksha\n",
      "Processing Record 4 of set 12 |den helder\n",
      "Processing Record 5 of set 12 |krasnyy yar\n",
      "Processing Record 6 of set 12 |turkmenabat\n",
      "Processing Record 7 of set 12 |krasnokamensk\n",
      "Processing Record 8 of set 12 |opotiki\n",
      "Processing Record 9 of set 12 |ambositra\n",
      "Processing Record 10 of set 12 |roma\n",
      "Processing Record 11 of set 12 |eyl\n",
      "Processing Record 12 of set 12 |saldanha\n",
      "Processing Record 13 of set 12 |villarrica\n",
      "Processing Record 14 of set 12 |clermont\n",
      "Processing Record 15 of set 12 |america dourada\n",
      "Processing Record 16 of set 12 |candelaria\n",
      "Processing Record 17 of set 12 |boulder city\n",
      "Processing Record 18 of set 12 |fare\n",
      "Processing Record 19 of set 12 |ponnani\n",
      "Processing Record 20 of set 12 |pinkafeld\n",
      "City not found. Skipping...\n",
      "Processing Record 22 of set 12 |risor\n",
      "Processing Record 23 of set 12 |batagay-alyta\n",
      "City not found. Skipping...\n",
      "Processing Record 25 of set 12 |lethem\n",
      "Processing Record 26 of set 12 |boda\n",
      "Processing Record 27 of set 12 |caohai\n",
      "Processing Record 28 of set 12 |skibbereen\n",
      "Processing Record 29 of set 12 |kilindoni\n",
      "City not found. Skipping...\n",
      "Processing Record 31 of set 12 |bubaque\n",
      "Processing Record 32 of set 12 |linxia\n",
      "Processing Record 33 of set 12 |nuuk\n",
      "Processing Record 34 of set 12 |tromso\n",
      "Processing Record 35 of set 12 |tarakan\n",
      "Processing Record 36 of set 12 |kitui\n",
      "Processing Record 37 of set 12 |bitkine\n",
      "Processing Record 38 of set 12 |mayo\n",
      "City not found. Skipping...\n",
      "Processing Record 40 of set 12 |hammerfest\n",
      "Processing Record 41 of set 12 |domanivka\n"
     ]
    }
   ],
   "source": [
    "\n",
    "# set up lists to hold reponse info\n",
    "city_checked=[]\n",
    "lng = []\n",
    "lat = []\n",
    "temp = []\n",
    "humidity = []\n",
    "wind = []\n",
    "cloud = []\n",
    "country = []\n",
    "date=[]\n",
    "record_count=0\n",
    "set_count=0\n",
    "\n",
    "\n",
    "# Loop through the list of cities and perform a request for data on each city\n",
    "\n",
    "    \n",
    "for i, city in enumerate(cities):\n",
    "    set_count = i // 50 + 1\n",
    "    record_count= i % 50 + 1 \n",
    "\n",
    "    try:\n",
    "        response = requests.get(query_url + city).json()  \n",
    "        city_checked.append(response['name'])\n",
    "        lng.append(response['coord']['lon'])\n",
    "        lat.append(response['coord']['lat'])\n",
    "        temp.append(response['main']['temp_max'])\n",
    "        humidity.append(response['main']['humidity'])\n",
    "        wind.append(response['wind']['speed'])\n",
    "        cloud.append(response['clouds']['all'])\n",
    "        date.append(response['dt'])\n",
    "        country.append(response['sys']['country'])\n",
    "\n",
    "            #print a print log of each city as it'sbeing processed (with the city number and city name)\n",
    "        print(f\"Processing Record {record_count} of set {set_count} |{city}\")\n",
    "    except (KeyError, IndexError):\n",
    "        print(\"City not found. Skipping...\")\n",
    "\n",
    "      "
   ]
  },
  {
   "cell_type": "code",
   "execution_count": null,
   "metadata": {},
   "outputs": [],
   "source": []
  },
  {
   "cell_type": "markdown",
   "metadata": {},
   "source": [
    "### Convert Raw Data to DataFrame\n",
    "* Export the city data into a .csv.\n",
    "* Display the DataFrame"
   ]
  },
  {
   "cell_type": "code",
   "execution_count": 5,
   "metadata": {},
   "outputs": [],
   "source": [
    "# create a data frame from cities, lat, and temp\n",
    "weather_dict = {\n",
    "    \"city\": city_checked,\n",
    "    \"lng\": lng,\n",
    "    \"lat\": lat,\n",
    "    \"Max Temp\": temp,\n",
    "    \"Humidity\": humidity,\n",
    "    \"Wind Speed\": wind,\n",
    "    \"Cloudiness\": cloud,\n",
    "    \"Country\": country,\n",
    "    \"Date\": date\n",
    "    \n",
    "}\n",
    "weather_data = pd.DataFrame(weather_dict)"
   ]
  },
  {
   "cell_type": "code",
   "execution_count": 6,
   "metadata": {},
   "outputs": [
    {
     "data": {
      "text/html": [
       "<div>\n",
       "<style scoped>\n",
       "    .dataframe tbody tr th:only-of-type {\n",
       "        vertical-align: middle;\n",
       "    }\n",
       "\n",
       "    .dataframe tbody tr th {\n",
       "        vertical-align: top;\n",
       "    }\n",
       "\n",
       "    .dataframe thead th {\n",
       "        text-align: right;\n",
       "    }\n",
       "</style>\n",
       "<table border=\"1\" class=\"dataframe\">\n",
       "  <thead>\n",
       "    <tr style=\"text-align: right;\">\n",
       "      <th></th>\n",
       "      <th>city</th>\n",
       "      <th>lng</th>\n",
       "      <th>lat</th>\n",
       "      <th>Max Temp</th>\n",
       "      <th>Humidity</th>\n",
       "      <th>Wind Speed</th>\n",
       "      <th>Cloudiness</th>\n",
       "      <th>Country</th>\n",
       "      <th>Date</th>\n",
       "    </tr>\n",
       "  </thead>\n",
       "  <tbody>\n",
       "    <tr>\n",
       "      <th>0</th>\n",
       "      <td>Kisanga</td>\n",
       "      <td>37.7034</td>\n",
       "      <td>-7.4362</td>\n",
       "      <td>30.24</td>\n",
       "      <td>43</td>\n",
       "      <td>2.75</td>\n",
       "      <td>87</td>\n",
       "      <td>TZ</td>\n",
       "      <td>1624017914</td>\n",
       "    </tr>\n",
       "    <tr>\n",
       "      <th>1</th>\n",
       "      <td>Hobart</td>\n",
       "      <td>147.3294</td>\n",
       "      <td>-42.8794</td>\n",
       "      <td>11.07</td>\n",
       "      <td>90</td>\n",
       "      <td>0.89</td>\n",
       "      <td>75</td>\n",
       "      <td>AU</td>\n",
       "      <td>1624017727</td>\n",
       "    </tr>\n",
       "    <tr>\n",
       "      <th>2</th>\n",
       "      <td>Rikitea</td>\n",
       "      <td>-134.9692</td>\n",
       "      <td>-23.1203</td>\n",
       "      <td>23.64</td>\n",
       "      <td>66</td>\n",
       "      <td>9.76</td>\n",
       "      <td>64</td>\n",
       "      <td>PF</td>\n",
       "      <td>1624017915</td>\n",
       "    </tr>\n",
       "    <tr>\n",
       "      <th>3</th>\n",
       "      <td>Hermanus</td>\n",
       "      <td>19.2345</td>\n",
       "      <td>-34.4187</td>\n",
       "      <td>22.17</td>\n",
       "      <td>60</td>\n",
       "      <td>4.16</td>\n",
       "      <td>9</td>\n",
       "      <td>ZA</td>\n",
       "      <td>1624017915</td>\n",
       "    </tr>\n",
       "    <tr>\n",
       "      <th>4</th>\n",
       "      <td>Mataura</td>\n",
       "      <td>168.8643</td>\n",
       "      <td>-46.1927</td>\n",
       "      <td>2.49</td>\n",
       "      <td>87</td>\n",
       "      <td>2.32</td>\n",
       "      <td>1</td>\n",
       "      <td>NZ</td>\n",
       "      <td>1624017915</td>\n",
       "    </tr>\n",
       "  </tbody>\n",
       "</table>\n",
       "</div>"
      ],
      "text/plain": [
       "       city       lng      lat  Max Temp  Humidity  Wind Speed  Cloudiness  \\\n",
       "0   Kisanga   37.7034  -7.4362     30.24        43        2.75          87   \n",
       "1    Hobart  147.3294 -42.8794     11.07        90        0.89          75   \n",
       "2   Rikitea -134.9692 -23.1203     23.64        66        9.76          64   \n",
       "3  Hermanus   19.2345 -34.4187     22.17        60        4.16           9   \n",
       "4   Mataura  168.8643 -46.1927      2.49        87        2.32           1   \n",
       "\n",
       "  Country        Date  \n",
       "0      TZ  1624017914  \n",
       "1      AU  1624017727  \n",
       "2      PF  1624017915  \n",
       "3      ZA  1624017915  \n",
       "4      NZ  1624017915  "
      ]
     },
     "execution_count": 6,
     "metadata": {},
     "output_type": "execute_result"
    }
   ],
   "source": [
    "# Save the updated dataframe as a csv\n",
    "weather_data.to_csv(\"../output_data/weather_data.csv\", encoding=\"utf-8\", index=False)\n",
    "weather_data.head()"
   ]
  },
  {
   "cell_type": "code",
   "execution_count": 7,
   "metadata": {},
   "outputs": [
    {
     "name": "stdout",
     "output_type": "stream",
     "text": [
      "<class 'pandas.core.frame.DataFrame'>\n",
      "RangeIndex: 550 entries, 0 to 549\n",
      "Data columns (total 9 columns):\n",
      " #   Column      Non-Null Count  Dtype  \n",
      "---  ------      --------------  -----  \n",
      " 0   city        550 non-null    object \n",
      " 1   lng         550 non-null    float64\n",
      " 2   lat         550 non-null    float64\n",
      " 3   Max Temp    550 non-null    float64\n",
      " 4   Humidity    550 non-null    int64  \n",
      " 5   Wind Speed  550 non-null    float64\n",
      " 6   Cloudiness  550 non-null    int64  \n",
      " 7   Country     550 non-null    object \n",
      " 8   Date        550 non-null    int64  \n",
      "dtypes: float64(4), int64(3), object(2)\n",
      "memory usage: 38.8+ KB\n"
     ]
    }
   ],
   "source": [
    "weather_data.info()"
   ]
  },
  {
   "cell_type": "code",
   "execution_count": null,
   "metadata": {},
   "outputs": [],
   "source": []
  },
  {
   "cell_type": "markdown",
   "metadata": {},
   "source": [
    "## Inspect the data and remove the cities where the humidity > 100%.\n",
    "----\n",
    "Skip this step if there are no cities that have humidity > 100%. "
   ]
  },
  {
   "cell_type": "code",
   "execution_count": 8,
   "metadata": {},
   "outputs": [
    {
     "data": {
      "text/html": [
       "<div>\n",
       "<style scoped>\n",
       "    .dataframe tbody tr th:only-of-type {\n",
       "        vertical-align: middle;\n",
       "    }\n",
       "\n",
       "    .dataframe tbody tr th {\n",
       "        vertical-align: top;\n",
       "    }\n",
       "\n",
       "    .dataframe thead th {\n",
       "        text-align: right;\n",
       "    }\n",
       "</style>\n",
       "<table border=\"1\" class=\"dataframe\">\n",
       "  <thead>\n",
       "    <tr style=\"text-align: right;\">\n",
       "      <th></th>\n",
       "      <th>lng</th>\n",
       "      <th>lat</th>\n",
       "      <th>Max Temp</th>\n",
       "      <th>Humidity</th>\n",
       "      <th>Wind Speed</th>\n",
       "      <th>Cloudiness</th>\n",
       "      <th>Date</th>\n",
       "    </tr>\n",
       "  </thead>\n",
       "  <tbody>\n",
       "    <tr>\n",
       "      <th>count</th>\n",
       "      <td>550.000000</td>\n",
       "      <td>550.000000</td>\n",
       "      <td>550.000000</td>\n",
       "      <td>550.000000</td>\n",
       "      <td>550.000000</td>\n",
       "      <td>550.000000</td>\n",
       "      <td>5.500000e+02</td>\n",
       "    </tr>\n",
       "    <tr>\n",
       "      <th>mean</th>\n",
       "      <td>18.248122</td>\n",
       "      <td>19.950351</td>\n",
       "      <td>20.493236</td>\n",
       "      <td>67.241818</td>\n",
       "      <td>3.475727</td>\n",
       "      <td>55.716364</td>\n",
       "      <td>1.624018e+09</td>\n",
       "    </tr>\n",
       "    <tr>\n",
       "      <th>std</th>\n",
       "      <td>89.639053</td>\n",
       "      <td>33.471544</td>\n",
       "      <td>8.948535</td>\n",
       "      <td>22.694408</td>\n",
       "      <td>2.281611</td>\n",
       "      <td>38.146438</td>\n",
       "      <td>6.968792e+01</td>\n",
       "    </tr>\n",
       "    <tr>\n",
       "      <th>min</th>\n",
       "      <td>-179.166700</td>\n",
       "      <td>-54.800000</td>\n",
       "      <td>-0.150000</td>\n",
       "      <td>3.000000</td>\n",
       "      <td>0.000000</td>\n",
       "      <td>0.000000</td>\n",
       "      <td>1.624018e+09</td>\n",
       "    </tr>\n",
       "    <tr>\n",
       "      <th>25%</th>\n",
       "      <td>-59.749975</td>\n",
       "      <td>-8.120975</td>\n",
       "      <td>13.792500</td>\n",
       "      <td>53.000000</td>\n",
       "      <td>1.710000</td>\n",
       "      <td>18.000000</td>\n",
       "      <td>1.624018e+09</td>\n",
       "    </tr>\n",
       "    <tr>\n",
       "      <th>50%</th>\n",
       "      <td>21.793600</td>\n",
       "      <td>23.938350</td>\n",
       "      <td>22.055000</td>\n",
       "      <td>72.000000</td>\n",
       "      <td>2.935000</td>\n",
       "      <td>66.000000</td>\n",
       "      <td>1.624018e+09</td>\n",
       "    </tr>\n",
       "    <tr>\n",
       "      <th>75%</th>\n",
       "      <td>97.442100</td>\n",
       "      <td>48.701075</td>\n",
       "      <td>26.642500</td>\n",
       "      <td>84.000000</td>\n",
       "      <td>4.900000</td>\n",
       "      <td>92.750000</td>\n",
       "      <td>1.624018e+09</td>\n",
       "    </tr>\n",
       "    <tr>\n",
       "      <th>max</th>\n",
       "      <td>179.316700</td>\n",
       "      <td>78.218600</td>\n",
       "      <td>45.200000</td>\n",
       "      <td>100.000000</td>\n",
       "      <td>12.810000</td>\n",
       "      <td>100.000000</td>\n",
       "      <td>1.624018e+09</td>\n",
       "    </tr>\n",
       "  </tbody>\n",
       "</table>\n",
       "</div>"
      ],
      "text/plain": [
       "              lng         lat    Max Temp    Humidity  Wind Speed  Cloudiness  \\\n",
       "count  550.000000  550.000000  550.000000  550.000000  550.000000  550.000000   \n",
       "mean    18.248122   19.950351   20.493236   67.241818    3.475727   55.716364   \n",
       "std     89.639053   33.471544    8.948535   22.694408    2.281611   38.146438   \n",
       "min   -179.166700  -54.800000   -0.150000    3.000000    0.000000    0.000000   \n",
       "25%    -59.749975   -8.120975   13.792500   53.000000    1.710000   18.000000   \n",
       "50%     21.793600   23.938350   22.055000   72.000000    2.935000   66.000000   \n",
       "75%     97.442100   48.701075   26.642500   84.000000    4.900000   92.750000   \n",
       "max    179.316700   78.218600   45.200000  100.000000   12.810000  100.000000   \n",
       "\n",
       "               Date  \n",
       "count  5.500000e+02  \n",
       "mean   1.624018e+09  \n",
       "std    6.968792e+01  \n",
       "min    1.624018e+09  \n",
       "25%    1.624018e+09  \n",
       "50%    1.624018e+09  \n",
       "75%    1.624018e+09  \n",
       "max    1.624018e+09  "
      ]
     },
     "execution_count": 8,
     "metadata": {},
     "output_type": "execute_result"
    }
   ],
   "source": [
    "weather_data_path=\"../output_data/weather_data.csv\"\n",
    "weather_data_df=pd.read_csv(weather_data_path,encoding=\"utf-8\")\n",
    "weather_data_df.describe()"
   ]
  },
  {
   "cell_type": "code",
   "execution_count": 9,
   "metadata": {},
   "outputs": [
    {
     "name": "stdout",
     "output_type": "stream",
     "text": [
      "            city       lng      lat  Max Temp  Humidity  Wind Speed  \\\n",
      "14         Vaini -175.2000 -21.2000     20.09       100        2.06   \n",
      "69    High Level -117.1360  58.5169      7.06       100        0.00   \n",
      "142  Clyde River  -68.5914  70.4692      0.13       100        2.57   \n",
      "167      Neuquén  -68.0591 -38.9516      0.94       100        3.09   \n",
      "239      Iqaluit  -68.5145  63.7506     -0.15       100        3.58   \n",
      "325     Coquimbo  -71.3436 -29.9533      9.85       100        2.06   \n",
      "351    Sept-Îles  -66.3821  50.2001     10.29       100        1.54   \n",
      "\n",
      "     Cloudiness Country        Date  \n",
      "14           20      TO  1624017918  \n",
      "69           20      CA  1624017932  \n",
      "142          90      CA  1624017952  \n",
      "167          90      AR  1624017958  \n",
      "239          90      CA  1624017976  \n",
      "325          90      CL  1624017999  \n",
      "351          90      CA  1624018006  \n"
     ]
    }
   ],
   "source": [
    "#  Get the indices of cities that have humidity equal or over 100%.\n",
    "\n",
    "Humidity_100=weather_data_df.loc[weather_data_df[\"Humidity\"]>=100]\n",
    "\n",
    "print (Humidity_100)\n",
    "\n"
   ]
  },
  {
   "cell_type": "code",
   "execution_count": 10,
   "metadata": {},
   "outputs": [
    {
     "data": {
      "text/plain": [
       "Int64Index([14, 69, 142, 167, 239, 325, 351], dtype='int64')"
      ]
     },
     "execution_count": 10,
     "metadata": {},
     "output_type": "execute_result"
    }
   ],
   "source": [
    "#check the index of cities with humidity equal or over 100\n",
    "# Make a new DataFrame equal to the city data to drop all humidity outliers by index.\n",
    "Humidity_100.index"
   ]
  },
  {
   "cell_type": "code",
   "execution_count": 11,
   "metadata": {},
   "outputs": [
    {
     "data": {
      "text/html": [
       "<div>\n",
       "<style scoped>\n",
       "    .dataframe tbody tr th:only-of-type {\n",
       "        vertical-align: middle;\n",
       "    }\n",
       "\n",
       "    .dataframe tbody tr th {\n",
       "        vertical-align: top;\n",
       "    }\n",
       "\n",
       "    .dataframe thead th {\n",
       "        text-align: right;\n",
       "    }\n",
       "</style>\n",
       "<table border=\"1\" class=\"dataframe\">\n",
       "  <thead>\n",
       "    <tr style=\"text-align: right;\">\n",
       "      <th></th>\n",
       "      <th>city</th>\n",
       "      <th>lng</th>\n",
       "      <th>lat</th>\n",
       "      <th>Max Temp</th>\n",
       "      <th>Humidity</th>\n",
       "      <th>Wind Speed</th>\n",
       "      <th>Cloudiness</th>\n",
       "      <th>Country</th>\n",
       "      <th>Date</th>\n",
       "    </tr>\n",
       "  </thead>\n",
       "  <tbody>\n",
       "    <tr>\n",
       "      <th>0</th>\n",
       "      <td>Kisanga</td>\n",
       "      <td>37.7034</td>\n",
       "      <td>-7.4362</td>\n",
       "      <td>30.24</td>\n",
       "      <td>43</td>\n",
       "      <td>2.75</td>\n",
       "      <td>87</td>\n",
       "      <td>TZ</td>\n",
       "      <td>1624017914</td>\n",
       "    </tr>\n",
       "    <tr>\n",
       "      <th>1</th>\n",
       "      <td>Hobart</td>\n",
       "      <td>147.3294</td>\n",
       "      <td>-42.8794</td>\n",
       "      <td>11.07</td>\n",
       "      <td>90</td>\n",
       "      <td>0.89</td>\n",
       "      <td>75</td>\n",
       "      <td>AU</td>\n",
       "      <td>1624017727</td>\n",
       "    </tr>\n",
       "    <tr>\n",
       "      <th>2</th>\n",
       "      <td>Rikitea</td>\n",
       "      <td>-134.9692</td>\n",
       "      <td>-23.1203</td>\n",
       "      <td>23.64</td>\n",
       "      <td>66</td>\n",
       "      <td>9.76</td>\n",
       "      <td>64</td>\n",
       "      <td>PF</td>\n",
       "      <td>1624017915</td>\n",
       "    </tr>\n",
       "    <tr>\n",
       "      <th>3</th>\n",
       "      <td>Hermanus</td>\n",
       "      <td>19.2345</td>\n",
       "      <td>-34.4187</td>\n",
       "      <td>22.17</td>\n",
       "      <td>60</td>\n",
       "      <td>4.16</td>\n",
       "      <td>9</td>\n",
       "      <td>ZA</td>\n",
       "      <td>1624017915</td>\n",
       "    </tr>\n",
       "    <tr>\n",
       "      <th>4</th>\n",
       "      <td>Mataura</td>\n",
       "      <td>168.8643</td>\n",
       "      <td>-46.1927</td>\n",
       "      <td>2.49</td>\n",
       "      <td>87</td>\n",
       "      <td>2.32</td>\n",
       "      <td>1</td>\n",
       "      <td>NZ</td>\n",
       "      <td>1624017915</td>\n",
       "    </tr>\n",
       "    <tr>\n",
       "      <th>...</th>\n",
       "      <td>...</td>\n",
       "      <td>...</td>\n",
       "      <td>...</td>\n",
       "      <td>...</td>\n",
       "      <td>...</td>\n",
       "      <td>...</td>\n",
       "      <td>...</td>\n",
       "      <td>...</td>\n",
       "      <td>...</td>\n",
       "    </tr>\n",
       "    <tr>\n",
       "      <th>545</th>\n",
       "      <td>Kitui</td>\n",
       "      <td>38.0106</td>\n",
       "      <td>-1.3670</td>\n",
       "      <td>22.35</td>\n",
       "      <td>56</td>\n",
       "      <td>4.88</td>\n",
       "      <td>100</td>\n",
       "      <td>KE</td>\n",
       "      <td>1624018062</td>\n",
       "    </tr>\n",
       "    <tr>\n",
       "      <th>546</th>\n",
       "      <td>Bitkine</td>\n",
       "      <td>18.2138</td>\n",
       "      <td>11.9801</td>\n",
       "      <td>35.87</td>\n",
       "      <td>31</td>\n",
       "      <td>1.63</td>\n",
       "      <td>76</td>\n",
       "      <td>TD</td>\n",
       "      <td>1624018063</td>\n",
       "    </tr>\n",
       "    <tr>\n",
       "      <th>547</th>\n",
       "      <td>Mayo</td>\n",
       "      <td>-76.5119</td>\n",
       "      <td>38.8876</td>\n",
       "      <td>21.11</td>\n",
       "      <td>62</td>\n",
       "      <td>1.79</td>\n",
       "      <td>1</td>\n",
       "      <td>US</td>\n",
       "      <td>1624018063</td>\n",
       "    </tr>\n",
       "    <tr>\n",
       "      <th>548</th>\n",
       "      <td>Hammerfest</td>\n",
       "      <td>23.6821</td>\n",
       "      <td>70.6634</td>\n",
       "      <td>10.25</td>\n",
       "      <td>71</td>\n",
       "      <td>5.66</td>\n",
       "      <td>40</td>\n",
       "      <td>NO</td>\n",
       "      <td>1624018063</td>\n",
       "    </tr>\n",
       "    <tr>\n",
       "      <th>549</th>\n",
       "      <td>Domanivka</td>\n",
       "      <td>30.9885</td>\n",
       "      <td>47.6319</td>\n",
       "      <td>25.01</td>\n",
       "      <td>50</td>\n",
       "      <td>8.40</td>\n",
       "      <td>68</td>\n",
       "      <td>UA</td>\n",
       "      <td>1624018064</td>\n",
       "    </tr>\n",
       "  </tbody>\n",
       "</table>\n",
       "<p>543 rows × 9 columns</p>\n",
       "</div>"
      ],
      "text/plain": [
       "           city       lng      lat  Max Temp  Humidity  Wind Speed  \\\n",
       "0       Kisanga   37.7034  -7.4362     30.24        43        2.75   \n",
       "1        Hobart  147.3294 -42.8794     11.07        90        0.89   \n",
       "2       Rikitea -134.9692 -23.1203     23.64        66        9.76   \n",
       "3      Hermanus   19.2345 -34.4187     22.17        60        4.16   \n",
       "4       Mataura  168.8643 -46.1927      2.49        87        2.32   \n",
       "..          ...       ...      ...       ...       ...         ...   \n",
       "545       Kitui   38.0106  -1.3670     22.35        56        4.88   \n",
       "546     Bitkine   18.2138  11.9801     35.87        31        1.63   \n",
       "547        Mayo  -76.5119  38.8876     21.11        62        1.79   \n",
       "548  Hammerfest   23.6821  70.6634     10.25        71        5.66   \n",
       "549   Domanivka   30.9885  47.6319     25.01        50        8.40   \n",
       "\n",
       "     Cloudiness Country        Date  \n",
       "0            87      TZ  1624017914  \n",
       "1            75      AU  1624017727  \n",
       "2            64      PF  1624017915  \n",
       "3             9      ZA  1624017915  \n",
       "4             1      NZ  1624017915  \n",
       "..          ...     ...         ...  \n",
       "545         100      KE  1624018062  \n",
       "546          76      TD  1624018063  \n",
       "547           1      US  1624018063  \n",
       "548          40      NO  1624018063  \n",
       "549          68      UA  1624018064  \n",
       "\n",
       "[543 rows x 9 columns]"
      ]
     },
     "execution_count": 11,
     "metadata": {},
     "output_type": "execute_result"
    }
   ],
   "source": [
    "# dropping the city with humidity equal or over 100 by reference the humidity_100 index\n",
    "# Passing \"inplace=False\" and make a new data fram \"clean_data\".\n",
    "clean_data=weather_data_df.drop(Humidity_100.index, inplace = False)\n",
    "clean_data"
   ]
  },
  {
   "cell_type": "code",
   "execution_count": 12,
   "metadata": {},
   "outputs": [
    {
     "data": {
      "text/html": [
       "<div>\n",
       "<style scoped>\n",
       "    .dataframe tbody tr th:only-of-type {\n",
       "        vertical-align: middle;\n",
       "    }\n",
       "\n",
       "    .dataframe tbody tr th {\n",
       "        vertical-align: top;\n",
       "    }\n",
       "\n",
       "    .dataframe thead th {\n",
       "        text-align: right;\n",
       "    }\n",
       "</style>\n",
       "<table border=\"1\" class=\"dataframe\">\n",
       "  <thead>\n",
       "    <tr style=\"text-align: right;\">\n",
       "      <th></th>\n",
       "      <th>lng</th>\n",
       "      <th>lat</th>\n",
       "      <th>Max Temp</th>\n",
       "      <th>Humidity</th>\n",
       "      <th>Wind Speed</th>\n",
       "      <th>Cloudiness</th>\n",
       "      <th>Date</th>\n",
       "    </tr>\n",
       "  </thead>\n",
       "  <tbody>\n",
       "    <tr>\n",
       "      <th>count</th>\n",
       "      <td>543.000000</td>\n",
       "      <td>543.000000</td>\n",
       "      <td>543.000000</td>\n",
       "      <td>543.000000</td>\n",
       "      <td>543.000000</td>\n",
       "      <td>543.000000</td>\n",
       "      <td>5.430000e+02</td>\n",
       "    </tr>\n",
       "    <tr>\n",
       "      <th>mean</th>\n",
       "      <td>19.653211</td>\n",
       "      <td>19.926080</td>\n",
       "      <td>20.668637</td>\n",
       "      <td>66.819521</td>\n",
       "      <td>3.493094</td>\n",
       "      <td>55.532228</td>\n",
       "      <td>1.624018e+09</td>\n",
       "    </tr>\n",
       "    <tr>\n",
       "      <th>std</th>\n",
       "      <td>89.244192</td>\n",
       "      <td>33.286814</td>\n",
       "      <td>8.836778</td>\n",
       "      <td>22.531090</td>\n",
       "      <td>2.287853</td>\n",
       "      <td>38.188482</td>\n",
       "      <td>7.004360e+01</td>\n",
       "    </tr>\n",
       "    <tr>\n",
       "      <th>min</th>\n",
       "      <td>-179.166700</td>\n",
       "      <td>-54.800000</td>\n",
       "      <td>0.740000</td>\n",
       "      <td>3.000000</td>\n",
       "      <td>0.000000</td>\n",
       "      <td>0.000000</td>\n",
       "      <td>1.624018e+09</td>\n",
       "    </tr>\n",
       "    <tr>\n",
       "      <th>25%</th>\n",
       "      <td>-58.205100</td>\n",
       "      <td>-7.764050</td>\n",
       "      <td>14.035000</td>\n",
       "      <td>53.000000</td>\n",
       "      <td>1.710000</td>\n",
       "      <td>15.500000</td>\n",
       "      <td>1.624018e+09</td>\n",
       "    </tr>\n",
       "    <tr>\n",
       "      <th>50%</th>\n",
       "      <td>23.682100</td>\n",
       "      <td>23.783300</td>\n",
       "      <td>22.170000</td>\n",
       "      <td>72.000000</td>\n",
       "      <td>2.950000</td>\n",
       "      <td>65.000000</td>\n",
       "      <td>1.624018e+09</td>\n",
       "    </tr>\n",
       "    <tr>\n",
       "      <th>75%</th>\n",
       "      <td>98.648300</td>\n",
       "      <td>47.649250</td>\n",
       "      <td>26.700000</td>\n",
       "      <td>84.000000</td>\n",
       "      <td>4.960000</td>\n",
       "      <td>93.000000</td>\n",
       "      <td>1.624018e+09</td>\n",
       "    </tr>\n",
       "    <tr>\n",
       "      <th>max</th>\n",
       "      <td>179.316700</td>\n",
       "      <td>78.218600</td>\n",
       "      <td>45.200000</td>\n",
       "      <td>98.000000</td>\n",
       "      <td>12.810000</td>\n",
       "      <td>100.000000</td>\n",
       "      <td>1.624018e+09</td>\n",
       "    </tr>\n",
       "  </tbody>\n",
       "</table>\n",
       "</div>"
      ],
      "text/plain": [
       "              lng         lat    Max Temp    Humidity  Wind Speed  Cloudiness  \\\n",
       "count  543.000000  543.000000  543.000000  543.000000  543.000000  543.000000   \n",
       "mean    19.653211   19.926080   20.668637   66.819521    3.493094   55.532228   \n",
       "std     89.244192   33.286814    8.836778   22.531090    2.287853   38.188482   \n",
       "min   -179.166700  -54.800000    0.740000    3.000000    0.000000    0.000000   \n",
       "25%    -58.205100   -7.764050   14.035000   53.000000    1.710000   15.500000   \n",
       "50%     23.682100   23.783300   22.170000   72.000000    2.950000   65.000000   \n",
       "75%     98.648300   47.649250   26.700000   84.000000    4.960000   93.000000   \n",
       "max    179.316700   78.218600   45.200000   98.000000   12.810000  100.000000   \n",
       "\n",
       "               Date  \n",
       "count  5.430000e+02  \n",
       "mean   1.624018e+09  \n",
       "std    7.004360e+01  \n",
       "min    1.624018e+09  \n",
       "25%    1.624018e+09  \n",
       "50%    1.624018e+09  \n",
       "75%    1.624018e+09  \n",
       "max    1.624018e+09  "
      ]
     },
     "execution_count": 12,
     "metadata": {},
     "output_type": "execute_result"
    }
   ],
   "source": [
    "clean_data.describe()"
   ]
  },
  {
   "cell_type": "markdown",
   "metadata": {},
   "source": [
    "## Plotting the Data\n",
    "* Use proper labeling of the plots using plot titles (including date of analysis) and axes labels.\n",
    "* Save the plotted figures as .pngs."
   ]
  },
  {
   "cell_type": "markdown",
   "metadata": {},
   "source": [
    "## Latitude vs. Temperature Plot"
   ]
  },
  {
   "cell_type": "code",
   "execution_count": 13,
   "metadata": {},
   "outputs": [
    {
     "name": "stdout",
     "output_type": "stream",
     "text": [
      "2021-06-18 22:09:12.877591\n"
     ]
    }
   ],
   "source": [
    "#to add the analysis datetime into the plot\n",
    "x=datetime.now()\n",
    "print (x)"
   ]
  },
  {
   "cell_type": "code",
   "execution_count": 14,
   "metadata": {
    "scrolled": true
   },
   "outputs": [
    {
     "data": {
      "image/png": "[encoded data removed]",
      "text/plain": [
       "<Figure size 432x432 with 1 Axes>"
      ]
     },
     "metadata": {
      "needs_background": "light"
     },
     "output_type": "display_data"
    }
   ],
   "source": [
    "#Latitude vs. Temperature Plot\n",
    "\n",
    "clean_data.plot(kind=\"scatter\", x=\"lat\", y=\"Max Temp\", grid=True, figsize=(6,6),\n",
    "              title=(f\"Latitude vs Temperature (Created on: {x})\"))\n",
    "plt.savefig(\"../output_data/lat vs Temp.png\") "
   ]
  },
  {
   "cell_type": "markdown",
   "metadata": {},
   "source": [
    "There are a few outliers, however, the scotter plot appears to be a bell shapped pattern, indicates that there is a non-linear relationship between latitude and temperature. \n",
    "Potentially we can check the data, to find the missing virable can help to buld a more accurate non-linear relationthip among the latitude, temperature and the varible that we found."
   ]
  },
  {
   "cell_type": "code",
   "execution_count": null,
   "metadata": {},
   "outputs": [],
   "source": []
  },
  {
   "cell_type": "markdown",
   "metadata": {},
   "source": [
    "## Latitude vs. Humidity Plot"
   ]
  },
  {
   "cell_type": "code",
   "execution_count": 15,
   "metadata": {},
   "outputs": [
    {
     "data": {
      "image/png": "[encoded data removed]",
      "text/plain": [
       "<Figure size 432x432 with 1 Axes>"
      ]
     },
     "metadata": {
      "needs_background": "light"
     },
     "output_type": "display_data"
    }
   ],
   "source": [
    "#Latitude vs. Humidity Plot\n",
    "clean_data.plot(kind=\"scatter\", x=\"lat\", y=\"Humidity\", grid=True, figsize=(6,6),\n",
    "              title=(f\"Latitude vs Humidity (Created on: {x})\"))\n",
    "plt.savefig(\"../output_data/lat vs Humidity.png\") "
   ]
  },
  {
   "cell_type": "markdown",
   "metadata": {},
   "source": [
    "This is no clear pattern based on the Lat and Humidity plot, indicates that there is no relationship between Latitude and humidity."
   ]
  },
  {
   "cell_type": "code",
   "execution_count": null,
   "metadata": {},
   "outputs": [],
   "source": []
  },
  {
   "cell_type": "code",
   "execution_count": null,
   "metadata": {},
   "outputs": [],
   "source": []
  },
  {
   "cell_type": "markdown",
   "metadata": {},
   "source": [
    "## Latitude vs. Cloudiness Plot"
   ]
  },
  {
   "cell_type": "code",
   "execution_count": 16,
   "metadata": {
    "scrolled": true
   },
   "outputs": [
    {
     "data": {
      "image/png": "[encoded data removed]",
      "text/plain": [
       "<Figure size 432x432 with 1 Axes>"
      ]
     },
     "metadata": {
      "needs_background": "light"
     },
     "output_type": "display_data"
    }
   ],
   "source": [
    "#Latitude vs. Cloudiness Plot\n",
    "clean_data.plot(kind=\"scatter\", x=\"lat\", y=\"Cloudiness\", grid=True, figsize=(6,6),\n",
    "              title=(f\"Latitude vs Humidity (Created on: {x})\"))\n",
    "plt.savefig(\"../output_data/lat vs Cloudiness.png\") "
   ]
  },
  {
   "cell_type": "markdown",
   "metadata": {},
   "source": [
    "This is no clear pattern based on the Latitude and cloudiness plot, indicates that there is no relationship between Latitude and humidity."
   ]
  },
  {
   "cell_type": "markdown",
   "metadata": {},
   "source": [
    "## Latitude vs. Wind Speed Plot"
   ]
  },
  {
   "cell_type": "code",
   "execution_count": 18,
   "metadata": {},
   "outputs": [
    {
     "data": {
      "image/png": "[encoded data removed]",
      "text/plain": [
       "<Figure size 432x432 with 1 Axes>"
      ]
     },
     "metadata": {
      "needs_background": "light"
     },
     "output_type": "display_data"
    }
   ],
   "source": [
    "#Latitude vs. Wind Speed Plot\n",
    "clean_data.plot(kind=\"scatter\", x=\"lat\", y=\"Wind Speed\", grid=True, figsize=(6,6),\n",
    "               title=(f\"Latitude vs Wind Speed (Created on: {x})\"))\n",
    "plt.savefig(\"../output_data/lat vs Wind Speed.png\") "
   ]
  },
  {
   "cell_type": "markdown",
   "metadata": {},
   "source": [
    "This is no clear pattern based on the Latitude and cloudiness plot, indicates that there is no relationship between Latitude and humidity."
   ]
  },
  {
   "cell_type": "markdown",
   "metadata": {},
   "source": [
    "## Linear Regression"
   ]
  },
  {
   "cell_type": "markdown",
   "metadata": {},
   "source": [
    "\n",
    "#Northern Hemisphere (greater than or equal to 0 degrees latitude) and \n",
    "#Southern Hemisphere (less than 0 degrees latitude)"
   ]
  },
  {
   "cell_type": "code",
   "execution_count": 19,
   "metadata": {},
   "outputs": [
    {
     "data": {
      "text/html": [
       "<div>\n",
       "<style scoped>\n",
       "    .dataframe tbody tr th:only-of-type {\n",
       "        vertical-align: middle;\n",
       "    }\n",
       "\n",
       "    .dataframe tbody tr th {\n",
       "        vertical-align: top;\n",
       "    }\n",
       "\n",
       "    .dataframe thead th {\n",
       "        text-align: right;\n",
       "    }\n",
       "</style>\n",
       "<table border=\"1\" class=\"dataframe\">\n",
       "  <thead>\n",
       "    <tr style=\"text-align: right;\">\n",
       "      <th></th>\n",
       "      <th>city</th>\n",
       "      <th>lng</th>\n",
       "      <th>lat</th>\n",
       "      <th>Max Temp</th>\n",
       "      <th>Humidity</th>\n",
       "      <th>Wind Speed</th>\n",
       "      <th>Cloudiness</th>\n",
       "      <th>Country</th>\n",
       "      <th>Date</th>\n",
       "    </tr>\n",
       "  </thead>\n",
       "  <tbody>\n",
       "    <tr>\n",
       "      <th>5</th>\n",
       "      <td>Shar'ya</td>\n",
       "      <td>45.5144</td>\n",
       "      <td>58.3686</td>\n",
       "      <td>23.19</td>\n",
       "      <td>35</td>\n",
       "      <td>3.72</td>\n",
       "      <td>42</td>\n",
       "      <td>RU</td>\n",
       "      <td>1624017915</td>\n",
       "    </tr>\n",
       "    <tr>\n",
       "      <th>7</th>\n",
       "      <td>Hilo</td>\n",
       "      <td>-155.0900</td>\n",
       "      <td>19.7297</td>\n",
       "      <td>22.11</td>\n",
       "      <td>89</td>\n",
       "      <td>2.06</td>\n",
       "      <td>75</td>\n",
       "      <td>US</td>\n",
       "      <td>1624017916</td>\n",
       "    </tr>\n",
       "    <tr>\n",
       "      <th>10</th>\n",
       "      <td>Savelugu</td>\n",
       "      <td>-0.8253</td>\n",
       "      <td>9.6244</td>\n",
       "      <td>34.22</td>\n",
       "      <td>43</td>\n",
       "      <td>3.71</td>\n",
       "      <td>40</td>\n",
       "      <td>GH</td>\n",
       "      <td>1624017917</td>\n",
       "    </tr>\n",
       "    <tr>\n",
       "      <th>11</th>\n",
       "      <td>Aykhal</td>\n",
       "      <td>111.5000</td>\n",
       "      <td>66.0000</td>\n",
       "      <td>22.19</td>\n",
       "      <td>38</td>\n",
       "      <td>2.28</td>\n",
       "      <td>95</td>\n",
       "      <td>RU</td>\n",
       "      <td>1624017917</td>\n",
       "    </tr>\n",
       "    <tr>\n",
       "      <th>12</th>\n",
       "      <td>San Cristobal</td>\n",
       "      <td>-72.2250</td>\n",
       "      <td>7.7669</td>\n",
       "      <td>19.08</td>\n",
       "      <td>94</td>\n",
       "      <td>2.44</td>\n",
       "      <td>92</td>\n",
       "      <td>VE</td>\n",
       "      <td>1624017917</td>\n",
       "    </tr>\n",
       "  </tbody>\n",
       "</table>\n",
       "</div>"
      ],
      "text/plain": [
       "             city       lng      lat  Max Temp  Humidity  Wind Speed  \\\n",
       "5         Shar'ya   45.5144  58.3686     23.19        35        3.72   \n",
       "7            Hilo -155.0900  19.7297     22.11        89        2.06   \n",
       "10       Savelugu   -0.8253   9.6244     34.22        43        3.71   \n",
       "11         Aykhal  111.5000  66.0000     22.19        38        2.28   \n",
       "12  San Cristobal  -72.2250   7.7669     19.08        94        2.44   \n",
       "\n",
       "    Cloudiness Country        Date  \n",
       "5           42      RU  1624017915  \n",
       "7           75      US  1624017916  \n",
       "10          40      GH  1624017917  \n",
       "11          95      RU  1624017917  \n",
       "12          92      VE  1624017917  "
      ]
     },
     "execution_count": 19,
     "metadata": {},
     "output_type": "execute_result"
    }
   ],
   "source": [
    "#setup a Northern Hemishpere dataframe\n",
    "Northern_Hemisphere=weather_data_df.loc[weather_data_df[\"lat\"]>=0.00]\n",
    "Northern_Hemisphere.head()                                                     "
   ]
  },
  {
   "cell_type": "code",
   "execution_count": 20,
   "metadata": {},
   "outputs": [
    {
     "data": {
      "text/html": [
       "<div>\n",
       "<style scoped>\n",
       "    .dataframe tbody tr th:only-of-type {\n",
       "        vertical-align: middle;\n",
       "    }\n",
       "\n",
       "    .dataframe tbody tr th {\n",
       "        vertical-align: top;\n",
       "    }\n",
       "\n",
       "    .dataframe thead th {\n",
       "        text-align: right;\n",
       "    }\n",
       "</style>\n",
       "<table border=\"1\" class=\"dataframe\">\n",
       "  <thead>\n",
       "    <tr style=\"text-align: right;\">\n",
       "      <th></th>\n",
       "      <th>lng</th>\n",
       "      <th>lat</th>\n",
       "      <th>Max Temp</th>\n",
       "      <th>Humidity</th>\n",
       "      <th>Wind Speed</th>\n",
       "      <th>Cloudiness</th>\n",
       "      <th>Date</th>\n",
       "    </tr>\n",
       "  </thead>\n",
       "  <tbody>\n",
       "    <tr>\n",
       "      <th>count</th>\n",
       "      <td>173.000000</td>\n",
       "      <td>173.000000</td>\n",
       "      <td>173.000000</td>\n",
       "      <td>173.000000</td>\n",
       "      <td>173.000000</td>\n",
       "      <td>173.000000</td>\n",
       "      <td>1.730000e+02</td>\n",
       "    </tr>\n",
       "    <tr>\n",
       "      <th>mean</th>\n",
       "      <td>25.235634</td>\n",
       "      <td>-21.293761</td>\n",
       "      <td>18.863526</td>\n",
       "      <td>70.682081</td>\n",
       "      <td>3.439595</td>\n",
       "      <td>49.861272</td>\n",
       "      <td>1.624018e+09</td>\n",
       "    </tr>\n",
       "    <tr>\n",
       "      <th>std</th>\n",
       "      <td>92.789729</td>\n",
       "      <td>12.992592</td>\n",
       "      <td>7.857162</td>\n",
       "      <td>19.223217</td>\n",
       "      <td>2.142860</td>\n",
       "      <td>37.565963</td>\n",
       "      <td>6.604456e+01</td>\n",
       "    </tr>\n",
       "    <tr>\n",
       "      <th>min</th>\n",
       "      <td>-175.200000</td>\n",
       "      <td>-54.800000</td>\n",
       "      <td>0.940000</td>\n",
       "      <td>14.000000</td>\n",
       "      <td>0.030000</td>\n",
       "      <td>0.000000</td>\n",
       "      <td>1.624018e+09</td>\n",
       "    </tr>\n",
       "    <tr>\n",
       "      <th>25%</th>\n",
       "      <td>-53.806900</td>\n",
       "      <td>-32.500000</td>\n",
       "      <td>12.520000</td>\n",
       "      <td>63.000000</td>\n",
       "      <td>1.790000</td>\n",
       "      <td>11.000000</td>\n",
       "      <td>1.624018e+09</td>\n",
       "    </tr>\n",
       "    <tr>\n",
       "      <th>50%</th>\n",
       "      <td>21.850000</td>\n",
       "      <td>-20.342800</td>\n",
       "      <td>21.960000</td>\n",
       "      <td>75.000000</td>\n",
       "      <td>2.880000</td>\n",
       "      <td>44.000000</td>\n",
       "      <td>1.624018e+09</td>\n",
       "    </tr>\n",
       "    <tr>\n",
       "      <th>75%</th>\n",
       "      <td>115.333300</td>\n",
       "      <td>-10.068100</td>\n",
       "      <td>25.510000</td>\n",
       "      <td>84.000000</td>\n",
       "      <td>4.570000</td>\n",
       "      <td>89.000000</td>\n",
       "      <td>1.624018e+09</td>\n",
       "    </tr>\n",
       "    <tr>\n",
       "      <th>max</th>\n",
       "      <td>177.283300</td>\n",
       "      <td>-0.600000</td>\n",
       "      <td>35.150000</td>\n",
       "      <td>100.000000</td>\n",
       "      <td>9.760000</td>\n",
       "      <td>100.000000</td>\n",
       "      <td>1.624018e+09</td>\n",
       "    </tr>\n",
       "  </tbody>\n",
       "</table>\n",
       "</div>"
      ],
      "text/plain": [
       "              lng         lat    Max Temp    Humidity  Wind Speed  Cloudiness  \\\n",
       "count  173.000000  173.000000  173.000000  173.000000  173.000000  173.000000   \n",
       "mean    25.235634  -21.293761   18.863526   70.682081    3.439595   49.861272   \n",
       "std     92.789729   12.992592    7.857162   19.223217    2.142860   37.565963   \n",
       "min   -175.200000  -54.800000    0.940000   14.000000    0.030000    0.000000   \n",
       "25%    -53.806900  -32.500000   12.520000   63.000000    1.790000   11.000000   \n",
       "50%     21.850000  -20.342800   21.960000   75.000000    2.880000   44.000000   \n",
       "75%    115.333300  -10.068100   25.510000   84.000000    4.570000   89.000000   \n",
       "max    177.283300   -0.600000   35.150000  100.000000    9.760000  100.000000   \n",
       "\n",
       "               Date  \n",
       "count  1.730000e+02  \n",
       "mean   1.624018e+09  \n",
       "std    6.604456e+01  \n",
       "min    1.624018e+09  \n",
       "25%    1.624018e+09  \n",
       "50%    1.624018e+09  \n",
       "75%    1.624018e+09  \n",
       "max    1.624018e+09  "
      ]
     },
     "execution_count": 20,
     "metadata": {},
     "output_type": "execute_result"
    }
   ],
   "source": [
    "#setup a Southern Hemishpere dataframe\n",
    "Southern_Hemisphere=weather_data_df.loc[weather_data_df[\"lat\"]<0.00]\n",
    "Southern_Hemisphere.describe()   "
   ]
  },
  {
   "cell_type": "code",
   "execution_count": 21,
   "metadata": {},
   "outputs": [
    {
     "data": {
      "text/plain": [
       "5      23.19\n",
       "7      22.11\n",
       "10     34.22\n",
       "11     22.19\n",
       "12     19.08\n",
       "       ...  \n",
       "544    27.72\n",
       "546    35.87\n",
       "547    21.11\n",
       "548    10.25\n",
       "549    25.01\n",
       "Name: Max Temp, Length: 377, dtype: float64"
      ]
     },
     "execution_count": 21,
     "metadata": {},
     "output_type": "execute_result"
    }
   ],
   "source": [
    "max_temp=Northern_Hemisphere.iloc[:,3]\n",
    "max_temp"
   ]
  },
  {
   "cell_type": "code",
   "execution_count": null,
   "metadata": {},
   "outputs": [],
   "source": []
  },
  {
   "cell_type": "markdown",
   "metadata": {},
   "source": [
    "####  Northern Hemisphere - Max Temp vs. Latitude Linear Regression"
   ]
  },
  {
   "cell_type": "code",
   "execution_count": 23,
   "metadata": {},
   "outputs": [
    {
     "name": "stdout",
     "output_type": "stream",
     "text": [
      "the correlation between weight and tumor volume is -0.7\n",
      "R squared: 0.49039509738996845\n"
     ]
    },
    {
     "data": {
      "image/png": "[encoded data removed]",
      "text/plain": [
       "<Figure size 432x288 with 1 Axes>"
      ]
     },
     "metadata": {
      "needs_background": "light"
     },
     "output_type": "display_data"
    }
   ],
   "source": [
    "# Calculate the correlation coefficient and linear regression model eight=Capomulin_weight_volume.iloc[:,0]\n",
    "lat=Northern_Hemisphere.iloc[:,2]\n",
    "max_temp=Northern_Hemisphere.iloc[:,3]\n",
    "correlation=st.pearsonr(lat,max_temp)\n",
    "\n",
    "slope, intercept, rvalue, pvalue, stderr = st.linregress(lat,max_temp)\n",
    "regress_values=lat*slope+intercept\n",
    "regress_values\n",
    "line_eq=\"y=\"+str(round(slope,2))+\"x+\"+str(round(intercept,2))\n",
    "plt.scatter(lat,max_temp)\n",
    "plt.plot(lat,regress_values,\"--\",color=\"r\")\n",
    "plt.annotate(line_eq,(20,36),fontsize=15,color=\"r\")\n",
    "plt.xlabel(\"Latitude\")\n",
    "plt.ylabel(\"Max Temp\")\n",
    "plt.title(f\"Northern Hemisphere - Max Temp vs. Latitude Linear Regression (Created on: {x})\")\n",
    "print(f\"the correlation between weight and tumor volume is {round(correlation[0],2)}\")\n",
    "print(f\"R squared: {rvalue**2}\")  \n",
    "plt.savefig(\"../output_data/Northern Hemisphere lat vs Max temp linear regressoin.png\") \n",
    "plt.show()"
   ]
  },
  {
   "cell_type": "markdown",
   "metadata": {},
   "source": [
    "The correlation between temperature and Latitude in nothern hemisphere is -0.7, indicates a relatively strong negetive correlation."
   ]
  },
  {
   "cell_type": "code",
   "execution_count": null,
   "metadata": {},
   "outputs": [],
   "source": []
  },
  {
   "cell_type": "markdown",
   "metadata": {},
   "source": [
    "####  Southern Hemisphere - Max Temp vs. Latitude Linear Regression"
   ]
  },
  {
   "cell_type": "code",
   "execution_count": 24,
   "metadata": {},
   "outputs": [
    {
     "name": "stdout",
     "output_type": "stream",
     "text": [
      "the correlation between weight and tumor volume is 0.81\n",
      "R squared: 0.6526930595255488\n"
     ]
    },
    {
     "data": {
      "image/png": "[encoded data removed]",
      "text/plain": [
       "<Figure size 432x288 with 1 Axes>"
      ]
     },
     "metadata": {
      "needs_background": "light"
     },
     "output_type": "display_data"
    }
   ],
   "source": [
    "# Calculate the correlation coefficient and linear regression model eight=Capomulin_weight_volume.iloc[:,0]\n",
    "lat=Southern_Hemisphere.iloc[:,2]\n",
    "max_temp=Southern_Hemisphere.iloc[:,3]\n",
    "correlation=st.pearsonr(lat,max_temp)\n",
    "\n",
    "slope, intercept, rvalue, pvalue, stderr = st.linregress(lat,max_temp)\n",
    "regress_values=lat*slope+intercept\n",
    "regress_values\n",
    "line_eq=\"y=\"+str(round(slope,2))+\"x+\"+str(round(intercept,2))\n",
    "plt.scatter(lat,max_temp)\n",
    "plt.plot(lat,regress_values,\"--\",color=\"r\")\n",
    "plt.annotate(line_eq,(20,36),fontsize=15,color=\"r\")\n",
    "plt.xlabel(\"Latitude\")\n",
    "plt.ylabel(\"Max Temp\")\n",
    "plt.title(f\"Southern Hemisphere - Max Temp vs. Latitude Linear Regression (Created on: {x})\")\n",
    "print(f\"the correlation between weight and tumor volume is {round(correlation[0],2)}\")\n",
    "print(f\"R squared: {rvalue**2}\")\n",
    "\n",
    "plt.savefig(\"../output_data/Southern Hemisphere lat vs Max temp linear regressoin.png\") \n",
    "plt.show()  "
   ]
  },
  {
   "cell_type": "markdown",
   "metadata": {},
   "source": [
    " The correlation between temperature and Latitude in southern hemisphere is 0.81, indicates a strong positive correlation."
   ]
  },
  {
   "cell_type": "code",
   "execution_count": null,
   "metadata": {},
   "outputs": [],
   "source": []
  },
  {
   "cell_type": "markdown",
   "metadata": {},
   "source": [
    "####  Northern Hemisphere - Humidity (%) vs. Latitude Linear Regression"
   ]
  },
  {
   "cell_type": "code",
   "execution_count": 25,
   "metadata": {},
   "outputs": [
    {
     "name": "stdout",
     "output_type": "stream",
     "text": [
      "the correlation between Latitude and humidity is 0.02\n",
      "R squared: 0.00045932290291805767\n"
     ]
    },
    {
     "data": {
      "image/png": "[encoded data removed]",
      "text/plain": [
       "<Figure size 432x288 with 1 Axes>"
      ]
     },
     "metadata": {
      "needs_background": "light"
     },
     "output_type": "display_data"
    }
   ],
   "source": [
    "# Calculate the correlation coefficient and linear regression model eight=Capomulin_weight_volume.iloc[:,0]\n",
    "lat=Northern_Hemisphere.iloc[:,2]\n",
    "humidity=Northern_Hemisphere.iloc[:,4]\n",
    "correlation=st.pearsonr(lat,humidity)\n",
    "\n",
    "slope, intercept, rvalue, pvalue, stderr = st.linregress(lat,humidity)\n",
    "regress_values=lat*slope+intercept\n",
    "regress_values\n",
    "line_eq=\"y=\"+str(round(slope,2))+\"x+\"+str(round(intercept,2))\n",
    "plt.scatter(lat,humidity)\n",
    "plt.plot(lat,regress_values,\"--\",color=\"r\")\n",
    "plt.annotate(line_eq,(20,36),fontsize=15,color=\"r\")\n",
    "plt.xlabel(\"Latitude\")\n",
    "plt.ylabel(\"humidity\")\n",
    "plt.title(f\"Northern Hemisphere - humidity (%) vs. Latitude Linear Regression (Created on: {x})\")\n",
    "print(f\"the correlation between Latitude and humidity is {round(correlation[0],2)}\")\n",
    "print(f\"R squared: {rvalue**2}\") \n",
    "plt.savefig(\"../output_data/Northern_Hemisphere lat vs Humidity linear regressoin.png\") \n",
    "plt.show()  "
   ]
  },
  {
   "cell_type": "markdown",
   "metadata": {},
   "source": [
    "The correlation between humidity and Latitude in nothern hemisphere is 0.02, indicates no correlation between these two factors."
   ]
  },
  {
   "cell_type": "code",
   "execution_count": null,
   "metadata": {},
   "outputs": [],
   "source": []
  },
  {
   "cell_type": "markdown",
   "metadata": {},
   "source": [
    "####  Southern Hemisphere - Humidity (%) vs. Latitude Linear Regression"
   ]
  },
  {
   "cell_type": "code",
   "execution_count": 27,
   "metadata": {},
   "outputs": [
    {
     "name": "stdout",
     "output_type": "stream",
     "text": [
      "the correlation between Latitude and humidity is -0.07\n",
      "R squared: 0.005302622548073489\n"
     ]
    },
    {
     "data": {
      "image/png": "[encoded data removed]",
      "text/plain": [
       "<Figure size 432x288 with 1 Axes>"
      ]
     },
     "metadata": {
      "needs_background": "light"
     },
     "output_type": "display_data"
    }
   ],
   "source": [
    "# Calculate the correlation coefficient and linear regression model eight=Capomulin_weight_volume.iloc[:,0]\n",
    "lat=Southern_Hemisphere.iloc[:,2]\n",
    "humidity=Southern_Hemisphere.iloc[:,4]\n",
    "correlation=st.pearsonr(lat,humidity)\n",
    "\n",
    "slope, intercept, rvalue, pvalue, stderr = st.linregress(lat,humidity)\n",
    "regress_values=lat*slope+intercept\n",
    "regress_values\n",
    "line_eq=\"y=\"+str(round(slope,2))+\"x+\"+str(round(intercept,2))\n",
    "plt.scatter(lat,humidity)\n",
    "plt.plot(lat,regress_values,\"--\",color=\"r\")\n",
    "plt.annotate(line_eq,(20,36),fontsize=15,color=\"r\")\n",
    "plt.xlabel(\"Latitude\")\n",
    "plt.ylabel(\"humidity\")\n",
    "plt.title(f\"Southern Hemisphere - humidity (%) vs. Latitude Linear Regression (Created on: {x})\")\n",
    "print(f\"the correlation between Latitude and humidity is {round(correlation[0],2)}\")\n",
    "print(f\"R squared: {rvalue**2}\") \n",
    "plt.savefig(\"../output_data/Southernn_Hemisphere lat vs Humidity linear regressoin.png\") \n",
    "plt.show()  "
   ]
  },
  {
   "cell_type": "markdown",
   "metadata": {},
   "source": [
    "The correlation between humidity and Latitude in southern hemisphere is -0.07, indicates no correlation between these two factors."
   ]
  },
  {
   "cell_type": "code",
   "execution_count": null,
   "metadata": {},
   "outputs": [],
   "source": []
  },
  {
   "cell_type": "markdown",
   "metadata": {},
   "source": [
    "####  Northern Hemisphere - Cloudiness (%) vs. Latitude Linear Regression"
   ]
  },
  {
   "cell_type": "code",
   "execution_count": 28,
   "metadata": {},
   "outputs": [
    {
     "name": "stdout",
     "output_type": "stream",
     "text": [
      "the correlation between Latitude and Cloudiness is 0.0\n",
      "R squared: 4.164635034721502e-06\n"
     ]
    },
    {
     "data": {
      "image/png": "[encoded data removed]",
      "text/plain": [
       "<Figure size 432x288 with 1 Axes>"
      ]
     },
     "metadata": {
      "needs_background": "light"
     },
     "output_type": "display_data"
    }
   ],
   "source": [
    "# Calculate the correlation coefficient and linear regression model eight=Capomulin_weight_volume.iloc[:,0]\n",
    "lat=Northern_Hemisphere.iloc[:,2]\n",
    "Cloudiness=Northern_Hemisphere.iloc[:,6]\n",
    "correlation=st.pearsonr(lat,Cloudiness)\n",
    "\n",
    "slope, intercept, rvalue, pvalue, stderr = st.linregress(lat,Cloudiness)\n",
    "regress_values=lat*slope+intercept\n",
    "regress_values\n",
    "line_eq=\"y=\"+str(round(slope,2))+\"x+\"+str(round(intercept,2))\n",
    "plt.scatter(lat,Cloudiness)\n",
    "plt.plot(lat,regress_values,\"--\",color=\"r\")\n",
    "plt.annotate(line_eq,(20,36),fontsize=15,color=\"r\")\n",
    "plt.xlabel(\"Latitude\")\n",
    "plt.ylabel(\"Cloudiness\")\n",
    "plt.title(f\"Northern Hemisphere - Cloudiness vs. Latitude Linear Regression (Created on: {x})\")\n",
    "print(f\"the correlation between Latitude and Cloudiness is {round(correlation[0],2)}\")\n",
    "print(f\"R squared: {rvalue**2}\") \n",
    "plt.savefig(\"../output_data/Northern_Hemisphere lat vs Cloudiness linear regressoin.png\") \n",
    "plt.show()  "
   ]
  },
  {
   "cell_type": "markdown",
   "metadata": {},
   "source": [
    "The correlation between cloudiness and Latitude in nothern hemisphere is 0.0, indicates no correlation between these two factors."
   ]
  },
  {
   "cell_type": "code",
   "execution_count": null,
   "metadata": {},
   "outputs": [],
   "source": []
  },
  {
   "cell_type": "markdown",
   "metadata": {},
   "source": [
    "####  Southern Hemisphere - Cloudiness (%) vs. Latitude Linear Regression"
   ]
  },
  {
   "cell_type": "code",
   "execution_count": 29,
   "metadata": {},
   "outputs": [
    {
     "name": "stdout",
     "output_type": "stream",
     "text": [
      "the correlation between Latitude and Cloudiness is 0.15\n",
      "R squared: 0.022137060931153175\n"
     ]
    },
    {
     "data": {
      "image/png": "[encoded data removed]",
      "text/plain": [
       "<Figure size 432x288 with 1 Axes>"
      ]
     },
     "metadata": {
      "needs_background": "light"
     },
     "output_type": "display_data"
    }
   ],
   "source": [
    "# Calculate the correlation coefficient and linear regression model eight=Capomulin_weight_volume.iloc[:,0]\n",
    "lat=Southern_Hemisphere.iloc[:,2]\n",
    "Cloudiness=Southern_Hemisphere.iloc[:,6]\n",
    "correlation=st.pearsonr(lat,Cloudiness)\n",
    "\n",
    "slope, intercept, rvalue, pvalue, stderr = st.linregress(lat,Cloudiness)\n",
    "regress_values=lat*slope+intercept\n",
    "regress_values\n",
    "line_eq=\"y=\"+str(round(slope,2))+\"x+\"+str(round(intercept,2))\n",
    "plt.scatter(lat,Cloudiness)\n",
    "plt.plot(lat,regress_values,\"--\",color=\"r\")\n",
    "plt.annotate(line_eq,(20,36),fontsize=15,color=\"r\")\n",
    "plt.xlabel(\"Latitude\")\n",
    "plt.ylabel(\"Cloudiness\")\n",
    "plt.title(f\"Southern Hemisphere - Cloudiness vs. Latitude Linear Regression (Created on: {x})\")\n",
    "print(f\"the correlation between Latitude and Cloudiness is {round(correlation[0],2)}\")\n",
    "print(f\"R squared: {rvalue**2}\") \n",
    "plt.savefig(\"../output_data/Southernn_Hemisphere lat vs Cloudiness linear regressoin.png\") \n",
    "plt.show()  "
   ]
  },
  {
   "cell_type": "markdown",
   "metadata": {},
   "source": [
    "The correlation between cloudiness and Latitude in southern hemisphere is 0.15, indicates no correlation between these two factors."
   ]
  },
  {
   "cell_type": "code",
   "execution_count": null,
   "metadata": {},
   "outputs": [],
   "source": []
  },
  {
   "cell_type": "markdown",
   "metadata": {},
   "source": [
    "####  Northern Hemisphere - Wind Speed (mph) vs. Latitude Linear Regression"
   ]
  },
  {
   "cell_type": "code",
   "execution_count": 30,
   "metadata": {},
   "outputs": [
    {
     "name": "stdout",
     "output_type": "stream",
     "text": [
      "the correlation between Latitude and Wind Speed is -0.07\n",
      "R squared: 0.005394274826615993\n"
     ]
    },
    {
     "data": {
      "image/png": "[encoded data removed]",
      "text/plain": [
       "<Figure size 432x288 with 1 Axes>"
      ]
     },
     "metadata": {
      "needs_background": "light"
     },
     "output_type": "display_data"
    }
   ],
   "source": [
    "# Calculate the correlation coefficient and linear regression model eight=Capomulin_weight_volume.iloc[:,0]\n",
    "lat=Northern_Hemisphere.iloc[:,2]\n",
    "Wind_Speed=Northern_Hemisphere.iloc[:,5]\n",
    "correlation=st.pearsonr(lat,Wind_Speed)\n",
    "slope, intercept, rvalue, pvalue, stderr = st.linregress(lat,Wind_Speed)\n",
    "regress_values=lat*slope+intercept\n",
    "regress_values\n",
    "line_eq=\"y=\"+str(round(slope,2))+\"x+\"+str(round(intercept,2))\n",
    "plt.scatter(lat,Wind_Speed)\n",
    "plt.plot(lat,regress_values,\"--\",color=\"r\")\n",
    "plt.annotate(line_eq,(20,36),fontsize=15,color=\"r\")\n",
    "plt.xlabel(\"Latitude\")\n",
    "plt.ylabel(\"Wind Speed(mph)\")\n",
    "plt.title(f\"Northern Hemisphere - Wind Speed vs. Latitude Linear Regression (Created on: {x})\") \n",
    "print(f\"the correlation between Latitude and Wind Speed is {round(correlation[0],2)}\")\n",
    "print(f\"R squared: {rvalue**2}\") \n",
    "plt.savefig(\"../output_data/Northern_Hemisphere lat vs Wind Speed linear regressoin.png\") \n",
    "plt.show() "
   ]
  },
  {
   "cell_type": "markdown",
   "metadata": {},
   "source": [
    "The correlation between wind speed and Latitude in northern hemisphere is -0.07, indicates no correlation between these two factors."
   ]
  },
  {
   "cell_type": "code",
   "execution_count": null,
   "metadata": {},
   "outputs": [],
   "source": []
  },
  {
   "cell_type": "markdown",
   "metadata": {},
   "source": [
    "####  Southern Hemisphere - Wind Speed (mph) vs. Latitude Linear Regression"
   ]
  },
  {
   "cell_type": "code",
   "execution_count": 31,
   "metadata": {},
   "outputs": [
    {
     "name": "stdout",
     "output_type": "stream",
     "text": [
      "the correlation between Latitude and Wind Speed is -0.05\n",
      "R squared: 0.0020831261929532036\n"
     ]
    },
    {
     "data": {
      "image/png": "[encoded data removed]",
      "text/plain": [
       "<Figure size 432x288 with 1 Axes>"
      ]
     },
     "metadata": {
      "needs_background": "light"
     },
     "output_type": "display_data"
    }
   ],
   "source": [
    "# Calculate the correlation coefficient and linear regression model eight=Capomulin_weight_volume.iloc[:,0]\n",
    "lat=Southern_Hemisphere.iloc[:,2]\n",
    "Wind_Speed=Southern_Hemisphere.iloc[:,5]\n",
    "correlation=st.pearsonr(lat,Wind_Speed)\n",
    "slope, intercept, rvalue, pvalue, stderr = st.linregress(lat,Wind_Speed)\n",
    "regress_values=lat*slope+intercept\n",
    "regress_values\n",
    "line_eq=\"y=\"+str(round(slope,2))+\"x+\"+str(round(intercept,2))\n",
    "plt.scatter(lat,Wind_Speed)\n",
    "plt.plot(lat,regress_values,\"--\",color=\"r\")\n",
    "plt.annotate(line_eq,(20,36),fontsize=15,color=\"r\")\n",
    "plt.xlabel(\"Latitude\")\n",
    "plt.ylabel(\"Wind Speed(mph)\")\n",
    "plt.title(f\"Southern Hemispher - Wind Speed vs. Latitude Linear Regression (Created on: {x})\")\n",
    "print(f\"the correlation between Latitude and Wind Speed is {round(correlation[0],2)}\")\n",
    "print(f\"R squared: {rvalue**2}\") \n",
    "plt.savefig(\"../output_data/Southern_Hemisphere lat vs Wind Speed linear regressoin.png\") \n",
    "plt.show()  "
   ]
  },
  {
   "cell_type": "markdown",
   "metadata": {},
   "source": [
    "The correlation between wind speed and Latitude in southern hemisphere is -0.05, indicates no correlation between these two factors."
   ]
  },
  {
   "cell_type": "code",
   "execution_count": null,
   "metadata": {},
   "outputs": [],
   "source": []
  }
 ],
 "metadata": {
  "anaconda-cloud": {},
  "kernel_info": {
   "name": "python3"
  },
  "kernelspec": {
   "display_name": "Python [conda env:pythondata] *",
   "language": "python",
   "name": "conda-env-pythondata-py"
  },
  "language_info": {
   "codemirror_mode": {
    "name": "ipython",
    "version": 3
   },
   "file_extension": ".py",
   "mimetype": "text/x-python",
   "name": "python",
   "nbconvert_exporter": "python",
   "pygments_lexer": "ipython3",
   "version": "3.6.10"
  },
  "latex_envs": {
   "LaTeX_envs_menu_present": true,
   "autoclose": false,
   "autocomplete": true,
   "bibliofile": "biblio.bib",
   "cite_by": "apalike",
   "current_citInitial": 1,
   "eqLabelWithNumbers": true,
   "eqNumInitial": 1,
   "hotkeys": {
    "equation": "Ctrl-E",
    "itemize": "Ctrl-I"
   },
   "labels_anchors": false,
   "latex_user_defs": false,
   "report_style_numbering": false,
   "user_envs_cfg": false
  },
  "nteract": {
   "version": "0.12.3"
  }
 },
 "nbformat": 4,
 "nbformat_minor": 2
}
