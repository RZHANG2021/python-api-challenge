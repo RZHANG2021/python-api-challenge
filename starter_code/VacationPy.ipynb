{
 "cells": [
  {
   "cell_type": "markdown",
   "metadata": {},
   "source": [
    "# VacationPy\n",
    "----\n",
    "\n",
    "#### Note\n",
    "* Keep an eye on your API usage. Use https://developers.google.com/maps/reporting/gmp-reporting as reference for how to monitor your usage and billing.\n",
    "\n",
    "* Instructions have been included for each segment. You do not have to follow them exactly, but they are included to help you think through the steps."
   ]
  },
  {
   "cell_type": "code",
   "execution_count": 6,
   "metadata": {},
   "outputs": [],
   "source": [
    "# Dependencies and Setup\n",
    "import matplotlib.pyplot as plt\n",
    "import pandas as pd\n",
    "import numpy as np\n",
    "import requests\n",
    "import gmaps\n",
    "import os\n",
    "\n",
    "# Import API key\n",
    "from api_keys import g_key"
   ]
  },
  {
   "cell_type": "markdown",
   "metadata": {},
   "source": [
    "### Store Part I results into DataFrame\n",
    "* Load the csv exported in Part I to a DataFrame"
   ]
  },
  {
   "cell_type": "code",
   "execution_count": 8,
   "metadata": {},
   "outputs": [
    {
     "name": "stdout",
     "output_type": "stream",
     "text": [
      "<class 'pandas.core.frame.DataFrame'>\n",
      "RangeIndex: 560 entries, 0 to 559\n",
      "Data columns (total 9 columns):\n",
      " #   Column      Non-Null Count  Dtype  \n",
      "---  ------      --------------  -----  \n",
      " 0   city        560 non-null    object \n",
      " 1   lng         560 non-null    float64\n",
      " 2   lat         560 non-null    float64\n",
      " 3   Max Temp    560 non-null    float64\n",
      " 4   Humidity    560 non-null    int64  \n",
      " 5   Wind Speed  560 non-null    float64\n",
      " 6   Cloudiness  560 non-null    int64  \n",
      " 7   Country     555 non-null    object \n",
      " 8   Date        560 non-null    int64  \n",
      "dtypes: float64(4), int64(3), object(2)\n",
      "memory usage: 39.5+ KB\n"
     ]
    }
   ],
   "source": [
    "weather_data_path=\"../output_data/weather_data.csv\"\n",
    "weather_data_df=pd.read_csv(weather_data_path,encoding=\"utf-8\")\n",
    "weather_data_df.info()"
   ]
  },
  {
   "cell_type": "markdown",
   "metadata": {},
   "source": [
    "### Humidity Heatmap\n",
    "* Configure gmaps.\n",
    "* Use the Lat and Lng as locations and Humidity as the weight.\n",
    "* Add Heatmap layer to map."
   ]
  },
  {
   "cell_type": "code",
   "execution_count": 9,
   "metadata": {},
   "outputs": [],
   "source": [
    "#Configure gmaps\n",
    "gmaps.configure(api_key=g_key)"
   ]
  },
  {
   "cell_type": "code",
   "execution_count": 11,
   "metadata": {},
   "outputs": [],
   "source": [
    "# Store latitude and longitude in locations\n",
    "locations = weather_data_df[[\"lat\", \"lng\"]]\n",
    "\n",
    "# Fill NaN values and convert to float\n",
    "humidity = weather_data_df[\"Humidity\"]"
   ]
  },
  {
   "cell_type": "code",
   "execution_count": 19,
   "metadata": {},
   "outputs": [
    {
     "data": {
      "application/vnd.jupyter.widget-view+json": {
       "model_id": "4f48d666b1ad4b819f76e02d7022cb26",
       "version_major": 2,
       "version_minor": 0
      },
      "text/plain": [
       "Figure(layout=FigureLayout(height='420px'))"
      ]
     },
     "metadata": {},
     "output_type": "display_data"
    }
   ],
   "source": [
    "# Plot Heatmap\n",
    "fig = gmaps.figure(center=(20.0, 80.0), zoom_level=1.5)\n",
    "\n",
    "# Create heat layer\n",
    "heat_layer = gmaps.heatmap_layer(locations, weights=humidity, \n",
    "                                max_intensity=100,\n",
    "                                 dissipating=True,\n",
    "                                 point_radius=5)\n",
    "\n",
    "\n",
    "# Add layer\n",
    "fig.add_layer(heat_layer)\n",
    "\n",
    "# Display figure\n",
    "fig"
   ]
  },
  {
   "cell_type": "markdown",
   "metadata": {},
   "source": [
    "### Create new DataFrame fitting weather criteria\n",
    "* Narrow down the cities to fit weather conditions.\n",
    "* Drop any rows will null values."
   ]
  },
  {
   "cell_type": "code",
   "execution_count": 20,
   "metadata": {},
   "outputs": [
    {
     "name": "stdout",
     "output_type": "stream",
     "text": [
      "<class 'pandas.core.frame.DataFrame'>\n",
      "Int64Index: 10 entries, 17 to 536\n",
      "Data columns (total 9 columns):\n",
      " #   Column      Non-Null Count  Dtype  \n",
      "---  ------      --------------  -----  \n",
      " 0   city        10 non-null     object \n",
      " 1   lng         10 non-null     float64\n",
      " 2   lat         10 non-null     float64\n",
      " 3   Max Temp    10 non-null     float64\n",
      " 4   Humidity    10 non-null     int64  \n",
      " 5   Wind Speed  10 non-null     float64\n",
      " 6   Cloudiness  10 non-null     int64  \n",
      " 7   Country     9 non-null      object \n",
      " 8   Date        10 non-null     int64  \n",
      "dtypes: float64(4), int64(3), object(2)\n",
      "memory usage: 800.0+ bytes\n"
     ]
    }
   ],
   "source": [
    "# A max temperature between 15 to 30.\n",
    "# Wind speed less than 15 mph.\n",
    "# Humidity in between 25-50\n",
    "# cloudiness in beween 10-35\n",
    "Ideal_weather=weather_data_df.loc[(weather_data_df[\"Max Temp\"]>15)&(weather_data_df[\"Max Temp\"]<30)\n",
    "                                  &(weather_data_df[\"Wind Speed\"]<15)\n",
    "                                  &(weather_data_df[\"Humidity\"]>20)&(weather_data_df[\"Humidity\"]<50)\n",
    "                                  &(weather_data_df[\"Cloudiness\"]>10)&(weather_data_df[\"Cloudiness\"]<35)]\n",
    "Ideal_weather.dropna(inplace = False) \n",
    "Ideal_weather.info()\n"
   ]
  },
  {
   "cell_type": "code",
   "execution_count": null,
   "metadata": {},
   "outputs": [],
   "source": [
    "\n",
    "\n"
   ]
  },
  {
   "cell_type": "code",
   "execution_count": 24,
   "metadata": {},
   "outputs": [
    {
     "data": {
      "text/html": [
       "<div>\n",
       "<style scoped>\n",
       "    .dataframe tbody tr th:only-of-type {\n",
       "        vertical-align: middle;\n",
       "    }\n",
       "\n",
       "    .dataframe tbody tr th {\n",
       "        vertical-align: top;\n",
       "    }\n",
       "\n",
       "    .dataframe thead th {\n",
       "        text-align: right;\n",
       "    }\n",
       "</style>\n",
       "<table border=\"1\" class=\"dataframe\">\n",
       "  <thead>\n",
       "    <tr style=\"text-align: right;\">\n",
       "      <th></th>\n",
       "      <th>city</th>\n",
       "      <th>lng</th>\n",
       "      <th>lat</th>\n",
       "      <th>Max Temp</th>\n",
       "      <th>Humidity</th>\n",
       "      <th>Wind Speed</th>\n",
       "      <th>Cloudiness</th>\n",
       "      <th>Country</th>\n",
       "      <th>Date</th>\n",
       "    </tr>\n",
       "  </thead>\n",
       "  <tbody>\n",
       "    <tr>\n",
       "      <th>17</th>\n",
       "      <td>Mantamádos</td>\n",
       "      <td>26.3339</td>\n",
       "      <td>39.3117</td>\n",
       "      <td>26.07</td>\n",
       "      <td>46</td>\n",
       "      <td>1.69</td>\n",
       "      <td>11</td>\n",
       "      <td>GR</td>\n",
       "      <td>1623487183</td>\n",
       "    </tr>\n",
       "    <tr>\n",
       "      <th>29</th>\n",
       "      <td>Blagaj</td>\n",
       "      <td>17.8886</td>\n",
       "      <td>43.2575</td>\n",
       "      <td>23.98</td>\n",
       "      <td>43</td>\n",
       "      <td>2.57</td>\n",
       "      <td>20</td>\n",
       "      <td>BA</td>\n",
       "      <td>1623487185</td>\n",
       "    </tr>\n",
       "    <tr>\n",
       "      <th>45</th>\n",
       "      <td>Şebinkarahisar</td>\n",
       "      <td>38.4236</td>\n",
       "      <td>40.2883</td>\n",
       "      <td>20.15</td>\n",
       "      <td>45</td>\n",
       "      <td>2.19</td>\n",
       "      <td>15</td>\n",
       "      <td>TR</td>\n",
       "      <td>1623487189</td>\n",
       "    </tr>\n",
       "    <tr>\n",
       "      <th>123</th>\n",
       "      <td>Mafeteng</td>\n",
       "      <td>27.2374</td>\n",
       "      <td>-29.8230</td>\n",
       "      <td>15.09</td>\n",
       "      <td>40</td>\n",
       "      <td>3.09</td>\n",
       "      <td>12</td>\n",
       "      <td>LS</td>\n",
       "      <td>1623487210</td>\n",
       "    </tr>\n",
       "    <tr>\n",
       "      <th>124</th>\n",
       "      <td>Krasnovishersk</td>\n",
       "      <td>57.0820</td>\n",
       "      <td>60.4078</td>\n",
       "      <td>25.00</td>\n",
       "      <td>26</td>\n",
       "      <td>2.94</td>\n",
       "      <td>32</td>\n",
       "      <td>RU</td>\n",
       "      <td>1623487210</td>\n",
       "    </tr>\n",
       "  </tbody>\n",
       "</table>\n",
       "</div>"
      ],
      "text/plain": [
       "               city      lng      lat  Max Temp  Humidity  Wind Speed  \\\n",
       "17       Mantamádos  26.3339  39.3117     26.07        46        1.69   \n",
       "29           Blagaj  17.8886  43.2575     23.98        43        2.57   \n",
       "45   Şebinkarahisar  38.4236  40.2883     20.15        45        2.19   \n",
       "123        Mafeteng  27.2374 -29.8230     15.09        40        3.09   \n",
       "124  Krasnovishersk  57.0820  60.4078     25.00        26        2.94   \n",
       "\n",
       "     Cloudiness Country        Date  \n",
       "17           11      GR  1623487183  \n",
       "29           20      BA  1623487185  \n",
       "45           15      TR  1623487189  \n",
       "123          12      LS  1623487210  \n",
       "124          32      RU  1623487210  "
      ]
     },
     "execution_count": 24,
     "metadata": {},
     "output_type": "execute_result"
    }
   ],
   "source": [
    "Ideal_weather.head()"
   ]
  },
  {
   "cell_type": "markdown",
   "metadata": {},
   "source": [
    "### Hotel Map\n",
    "* Store into variable named `hotel_df`.\n",
    "* Add a \"Hotel Name\" column to the DataFrame.\n",
    "* Set parameters to search for hotels with 5000 meters.\n",
    "* Hit the Google Places API for each city's coordinates.\n",
    "* Store the first Hotel result into the DataFrame.\n",
    "* Plot markers on top of the heatmap."
   ]
  },
  {
   "cell_type": "code",
   "execution_count": 50,
   "metadata": {},
   "outputs": [
    {
     "name": "stdout",
     "output_type": "stream",
     "text": [
      "<class 'pandas.core.frame.DataFrame'>\n",
      "Int64Index: 10 entries, 17 to 536\n",
      "Data columns (total 4 columns):\n",
      " #   Column   Non-Null Count  Dtype  \n",
      "---  ------   --------------  -----  \n",
      " 0   Country  9 non-null      object \n",
      " 1   city     10 non-null     object \n",
      " 2   lng      10 non-null     float64\n",
      " 3   lat      10 non-null     float64\n",
      "dtypes: float64(2), object(2)\n",
      "memory usage: 720.0+ bytes\n"
     ]
    }
   ],
   "source": [
    "hotel_df=Ideal_weather[[\"Country\",\"city\",\"lng\",\"lat\"]]\n",
    "hotel_df.info()"
   ]
  },
  {
   "cell_type": "code",
   "execution_count": 51,
   "metadata": {},
   "outputs": [
    {
     "name": "stderr",
     "output_type": "stream",
     "text": [
      "C:\\Users\\mailr\\anaconda3\\envs\\pythondata\\lib\\site-packages\\ipykernel_launcher.py:2: SettingWithCopyWarning: \n",
      "A value is trying to be set on a copy of a slice from a DataFrame.\n",
      "Try using .loc[row_indexer,col_indexer] = value instead\n",
      "\n",
      "See the caveats in the documentation: https://pandas.pydata.org/pandas-docs/stable/user_guide/indexing.html#returning-a-view-versus-a-copy\n",
      "  \n",
      "C:\\Users\\mailr\\anaconda3\\envs\\pythondata\\lib\\site-packages\\ipykernel_launcher.py:3: SettingWithCopyWarning: \n",
      "A value is trying to be set on a copy of a slice from a DataFrame.\n",
      "Try using .loc[row_indexer,col_indexer] = value instead\n",
      "\n",
      "See the caveats in the documentation: https://pandas.pydata.org/pandas-docs/stable/user_guide/indexing.html#returning-a-view-versus-a-copy\n",
      "  This is separate from the ipykernel package so we can avoid doing imports until\n"
     ]
    },
    {
     "data": {
      "text/html": [
       "<div>\n",
       "<style scoped>\n",
       "    .dataframe tbody tr th:only-of-type {\n",
       "        vertical-align: middle;\n",
       "    }\n",
       "\n",
       "    .dataframe tbody tr th {\n",
       "        vertical-align: top;\n",
       "    }\n",
       "\n",
       "    .dataframe thead th {\n",
       "        text-align: right;\n",
       "    }\n",
       "</style>\n",
       "<table border=\"1\" class=\"dataframe\">\n",
       "  <thead>\n",
       "    <tr style=\"text-align: right;\">\n",
       "      <th></th>\n",
       "      <th>Country</th>\n",
       "      <th>city</th>\n",
       "      <th>lng</th>\n",
       "      <th>lat</th>\n",
       "      <th>Hotel Name</th>\n",
       "      <th>Address</th>\n",
       "    </tr>\n",
       "  </thead>\n",
       "  <tbody>\n",
       "    <tr>\n",
       "      <th>17</th>\n",
       "      <td>GR</td>\n",
       "      <td>Mantamádos</td>\n",
       "      <td>26.3339</td>\n",
       "      <td>39.3117</td>\n",
       "      <td></td>\n",
       "      <td></td>\n",
       "    </tr>\n",
       "  </tbody>\n",
       "</table>\n",
       "</div>"
      ],
      "text/plain": [
       "   Country        city      lng      lat Hotel Name Address\n",
       "17      GR  Mantamádos  26.3339  39.3117                   "
      ]
     },
     "execution_count": 51,
     "metadata": {},
     "output_type": "execute_result"
    }
   ],
   "source": [
    "# set up additional columns to hold information\n",
    "hotel_df['Hotel Name'] = \"\"\n",
    "hotel_df['Address'] = \"\"\n",
    "\n",
    "\n",
    "hotel_df.head(1)"
   ]
  },
  {
   "cell_type": "code",
   "execution_count": 27,
   "metadata": {},
   "outputs": [
    {
     "data": {
      "text/html": [
       "<div>\n",
       "<style scoped>\n",
       "    .dataframe tbody tr th:only-of-type {\n",
       "        vertical-align: middle;\n",
       "    }\n",
       "\n",
       "    .dataframe tbody tr th {\n",
       "        vertical-align: top;\n",
       "    }\n",
       "\n",
       "    .dataframe thead th {\n",
       "        text-align: right;\n",
       "    }\n",
       "</style>\n",
       "<table border=\"1\" class=\"dataframe\">\n",
       "  <thead>\n",
       "    <tr style=\"text-align: right;\">\n",
       "      <th></th>\n",
       "      <th>lng</th>\n",
       "      <th>lat</th>\n",
       "    </tr>\n",
       "  </thead>\n",
       "  <tbody>\n",
       "    <tr>\n",
       "      <th>17</th>\n",
       "      <td>26.3339</td>\n",
       "      <td>39.3117</td>\n",
       "    </tr>\n",
       "    <tr>\n",
       "      <th>29</th>\n",
       "      <td>17.8886</td>\n",
       "      <td>43.2575</td>\n",
       "    </tr>\n",
       "    <tr>\n",
       "      <th>45</th>\n",
       "      <td>38.4236</td>\n",
       "      <td>40.2883</td>\n",
       "    </tr>\n",
       "    <tr>\n",
       "      <th>123</th>\n",
       "      <td>27.2374</td>\n",
       "      <td>-29.8230</td>\n",
       "    </tr>\n",
       "    <tr>\n",
       "      <th>124</th>\n",
       "      <td>57.0820</td>\n",
       "      <td>60.4078</td>\n",
       "    </tr>\n",
       "    <tr>\n",
       "      <th>186</th>\n",
       "      <td>68.3333</td>\n",
       "      <td>51.8000</td>\n",
       "    </tr>\n",
       "    <tr>\n",
       "      <th>306</th>\n",
       "      <td>16.3410</td>\n",
       "      <td>-9.5402</td>\n",
       "    </tr>\n",
       "    <tr>\n",
       "      <th>524</th>\n",
       "      <td>43.2500</td>\n",
       "      <td>62.8000</td>\n",
       "    </tr>\n",
       "    <tr>\n",
       "      <th>534</th>\n",
       "      <td>87.6005</td>\n",
       "      <td>43.8010</td>\n",
       "    </tr>\n",
       "    <tr>\n",
       "      <th>536</th>\n",
       "      <td>19.1167</td>\n",
       "      <td>-24.1333</td>\n",
       "    </tr>\n",
       "  </tbody>\n",
       "</table>\n",
       "</div>"
      ],
      "text/plain": [
       "         lng      lat\n",
       "17   26.3339  39.3117\n",
       "29   17.8886  43.2575\n",
       "45   38.4236  40.2883\n",
       "123  27.2374 -29.8230\n",
       "124  57.0820  60.4078\n",
       "186  68.3333  51.8000\n",
       "306  16.3410  -9.5402\n",
       "524  43.2500  62.8000\n",
       "534  87.6005  43.8010\n",
       "536  19.1167 -24.1333"
      ]
     },
     "execution_count": 27,
     "metadata": {},
     "output_type": "execute_result"
    }
   ],
   "source": []
  },
  {
   "cell_type": "code",
   "execution_count": 52,
   "metadata": {},
   "outputs": [
    {
     "name": "stdout",
     "output_type": "stream",
     "text": [
      "39.3117, 26.3339\n"
     ]
    },
    {
     "name": "stderr",
     "output_type": "stream",
     "text": [
      "C:\\Users\\mailr\\anaconda3\\envs\\pythondata\\lib\\site-packages\\pandas\\core\\indexing.py:966: SettingWithCopyWarning: \n",
      "A value is trying to be set on a copy of a slice from a DataFrame.\n",
      "Try using .loc[row_indexer,col_indexer] = value instead\n",
      "\n",
      "See the caveats in the documentation: https://pandas.pydata.org/pandas-docs/stable/user_guide/indexing.html#returning-a-view-versus-a-copy\n",
      "  self.obj[item] = s\n"
     ]
    },
    {
     "name": "stdout",
     "output_type": "stream",
     "text": [
      "Closest hotel is PANORAMA RESORT - ΞΕΝΟΔΟΧΕΙΟ - Ε.ΠΑΛΑΙΟΛΟΓΟΥ ΚΑΙ ΣΙΑ ΤΟΥΡΙΣΤΙΚΑ ΚΑΤΑΛΥΜΑΤΑ Ο.Ε. - ΛΕΣΒΟΣ for Mantamádos .\n",
      "Closest hotel PANORAMA RESORT - ΞΕΝΟΔΟΧΕΙΟ - Ε.ΠΑΛΑΙΟΛΟΓΟΥ ΚΑΙ ΣΙΑ ΤΟΥΡΙΣΤΙΚΑ ΚΑΤΑΛΥΜΑΤΑ Ο.Ε. - ΛΕΣΒΟΣ address is Ασπροπόταμος, ΛΕΣΒΟΣ .\n",
      "43.2575, 17.8886\n",
      "Closest hotel is Hotel Blagaj for Blagaj .\n",
      "Closest hotel Hotel Blagaj address is Branilaca Bosne, Blagaj .\n",
      "40.2883, 38.4236\n",
      "Closest hotel is Colonia Park Hotel () Three Star Hotel for Şebinkarahisar .\n",
      "Closest hotel Colonia Park Hotel () Three Star Hotel address is Bülbül, Şehir Merkezi, Ptt Cd., Şebinkarahisar .\n",
      "-29.823, 27.2374\n",
      "Missing field/result... skipping.\n",
      "60.4078, 57.082\n",
      "Missing field/result... skipping.\n",
      "51.8, 68.3333\n",
      "Closest hotel is Atbasar for Atbasar .\n",
      "Closest hotel Atbasar address is Chokan Valikhanov st. 11, Atbasar .\n",
      "-9.5402, 16.340999999999998\n",
      "Closest hotel is Palanca Hotel for Malanje .\n",
      "Closest hotel Palanca Hotel address is Malanje .\n",
      "62.8, 43.25\n",
      "Missing field/result... skipping.\n",
      "43.801, 87.6005\n",
      "Closest hotel is JinJiang International Hotel Urumqi for Ürümqi .\n",
      "Closest hotel JinJiang International Hotel Urumqi address is Shuimogou District, Ürümqi .\n",
      "-24.1333, 19.1167\n",
      "Closest hotel is Ley-Lia Guest House for Aranos .\n",
      "Closest hotel Ley-Lia Guest House address is 6 Sarel Theron Street, Aranos .\n"
     ]
    }
   ],
   "source": [
    "# Build URL using the Google Maps API\n",
    "base_url = \"https://maps.googleapis.com/maps/api/place/nearbysearch/json\"\n",
    "\n",
    "# Find a hotel based on city_coords.\n",
    "target_search = \"Hotels\"\n",
    "radius = 5000\n",
    "city_coords = hotel_df[[\"lng\",\"lat\"]]\n",
    "\n",
    "# redefine params\n",
    "params = {\n",
    "    \"location\": city_coords,\n",
    "    \"keyword\": target_search,\n",
    "    \"radius\": radius,\n",
    "    \"key\": g_key\n",
    "}\n",
    "\n",
    "# use iterrows to iterate through pandas dataframe\n",
    "for index, row in hotel_df.iterrows():\n",
    "    lat=row[\"lat\"]\n",
    "    lng=row[\"lng\"]\n",
    "    city=row[\"city\"]\n",
    "    # get city location from df\n",
    "    city_coords = f\"{lat}, {lng}\"\n",
    "    print (city_coords)\n",
    "    # add keyword to params dict\n",
    "    params['location'] = city_coords\n",
    "\n",
    "    # assemble url and make API request\n",
    "   \n",
    "    response = requests.get(base_url, params=params).json()\n",
    "    \n",
    "    # extract results\n",
    "    results = response['results']\n",
    "    \n",
    "    try:\n",
    "        \n",
    "        \n",
    "        hotel_df.loc[index, 'Hotel Name'] = results[0]['name']\n",
    "        hotel_df.loc[index, 'Address'] = results[0]['vicinity']\n",
    "        print(f\"Closest hotel is {results[0]['name']} for {city} .\")\n",
    "        print(f\"Closest hotel {results[0]['name']} address is {results[0]['vicinity']} .\")\n",
    "    except (KeyError, IndexError):\n",
    "        print(\"Missing field/result... skipping.\")\n"
   ]
  },
  {
   "cell_type": "code",
   "execution_count": 69,
   "metadata": {
    "scrolled": true
   },
   "outputs": [],
   "source": [
    "hotel_df\n",
    "nan_value = float(\"NaN\")\n",
    "\n",
    "hotel_df_clean=hotel_df.replace(\"\", nan_value, inplace=False)"
   ]
  },
  {
   "cell_type": "code",
   "execution_count": 70,
   "metadata": {
    "scrolled": true
   },
   "outputs": [
    {
     "data": {
      "text/html": [
       "<div>\n",
       "<style scoped>\n",
       "    .dataframe tbody tr th:only-of-type {\n",
       "        vertical-align: middle;\n",
       "    }\n",
       "\n",
       "    .dataframe tbody tr th {\n",
       "        vertical-align: top;\n",
       "    }\n",
       "\n",
       "    .dataframe thead th {\n",
       "        text-align: right;\n",
       "    }\n",
       "</style>\n",
       "<table border=\"1\" class=\"dataframe\">\n",
       "  <thead>\n",
       "    <tr style=\"text-align: right;\">\n",
       "      <th></th>\n",
       "      <th>Country</th>\n",
       "      <th>city</th>\n",
       "      <th>lng</th>\n",
       "      <th>lat</th>\n",
       "      <th>Hotel Name</th>\n",
       "      <th>Address</th>\n",
       "    </tr>\n",
       "  </thead>\n",
       "  <tbody>\n",
       "    <tr>\n",
       "      <th>17</th>\n",
       "      <td>GR</td>\n",
       "      <td>Mantamádos</td>\n",
       "      <td>26.3339</td>\n",
       "      <td>39.3117</td>\n",
       "      <td>PANORAMA RESORT - ΞΕΝΟΔΟΧΕΙΟ - Ε.ΠΑΛΑΙΟΛΟΓΟΥ Κ...</td>\n",
       "      <td>Ασπροπόταμος, ΛΕΣΒΟΣ</td>\n",
       "    </tr>\n",
       "    <tr>\n",
       "      <th>29</th>\n",
       "      <td>BA</td>\n",
       "      <td>Blagaj</td>\n",
       "      <td>17.8886</td>\n",
       "      <td>43.2575</td>\n",
       "      <td>Hotel Blagaj</td>\n",
       "      <td>Branilaca Bosne, Blagaj</td>\n",
       "    </tr>\n",
       "    <tr>\n",
       "      <th>45</th>\n",
       "      <td>TR</td>\n",
       "      <td>Şebinkarahisar</td>\n",
       "      <td>38.4236</td>\n",
       "      <td>40.2883</td>\n",
       "      <td>Colonia Park Hotel () Three Star Hotel</td>\n",
       "      <td>Bülbül, Şehir Merkezi, Ptt Cd., Şebinkarahisar</td>\n",
       "    </tr>\n",
       "    <tr>\n",
       "      <th>186</th>\n",
       "      <td>KZ</td>\n",
       "      <td>Atbasar</td>\n",
       "      <td>68.3333</td>\n",
       "      <td>51.8000</td>\n",
       "      <td>Atbasar</td>\n",
       "      <td>Chokan Valikhanov st. 11, Atbasar</td>\n",
       "    </tr>\n",
       "    <tr>\n",
       "      <th>306</th>\n",
       "      <td>AO</td>\n",
       "      <td>Malanje</td>\n",
       "      <td>16.3410</td>\n",
       "      <td>-9.5402</td>\n",
       "      <td>Palanca Hotel</td>\n",
       "      <td>Malanje</td>\n",
       "    </tr>\n",
       "    <tr>\n",
       "      <th>534</th>\n",
       "      <td>CN</td>\n",
       "      <td>Ürümqi</td>\n",
       "      <td>87.6005</td>\n",
       "      <td>43.8010</td>\n",
       "      <td>JinJiang International Hotel Urumqi</td>\n",
       "      <td>Shuimogou District, Ürümqi</td>\n",
       "    </tr>\n",
       "    <tr>\n",
       "      <th>536</th>\n",
       "      <td>NaN</td>\n",
       "      <td>Aranos</td>\n",
       "      <td>19.1167</td>\n",
       "      <td>-24.1333</td>\n",
       "      <td>Ley-Lia Guest House</td>\n",
       "      <td>6 Sarel Theron Street, Aranos</td>\n",
       "    </tr>\n",
       "  </tbody>\n",
       "</table>\n",
       "</div>"
      ],
      "text/plain": [
       "    Country            city      lng      lat  \\\n",
       "17       GR      Mantamádos  26.3339  39.3117   \n",
       "29       BA          Blagaj  17.8886  43.2575   \n",
       "45       TR  Şebinkarahisar  38.4236  40.2883   \n",
       "186      KZ         Atbasar  68.3333  51.8000   \n",
       "306      AO         Malanje  16.3410  -9.5402   \n",
       "534      CN          Ürümqi  87.6005  43.8010   \n",
       "536     NaN          Aranos  19.1167 -24.1333   \n",
       "\n",
       "                                            Hotel Name  \\\n",
       "17   PANORAMA RESORT - ΞΕΝΟΔΟΧΕΙΟ - Ε.ΠΑΛΑΙΟΛΟΓΟΥ Κ...   \n",
       "29                                        Hotel Blagaj   \n",
       "45              Colonia Park Hotel () Three Star Hotel   \n",
       "186                                            Atbasar   \n",
       "306                                      Palanca Hotel   \n",
       "534                JinJiang International Hotel Urumqi   \n",
       "536                                Ley-Lia Guest House   \n",
       "\n",
       "                                            Address  \n",
       "17                             Ασπροπόταμος, ΛΕΣΒΟΣ  \n",
       "29                          Branilaca Bosne, Blagaj  \n",
       "45   Bülbül, Şehir Merkezi, Ptt Cd., Şebinkarahisar  \n",
       "186               Chokan Valikhanov st. 11, Atbasar  \n",
       "306                                         Malanje  \n",
       "534                      Shuimogou District, Ürümqi  \n",
       "536                   6 Sarel Theron Street, Aranos  "
      ]
     },
     "execution_count": 70,
     "metadata": {},
     "output_type": "execute_result"
    }
   ],
   "source": [
    "hotel_df_clean=hotel_df.dropna(subset = ['Address'],inplace=False)\n",
    "hotel_df_clean"
   ]
  },
  {
   "cell_type": "code",
   "execution_count": 71,
   "metadata": {},
   "outputs": [
    {
     "data": {
      "text/plain": [
       "['Ασπροπόταμος, ΛΕΣΒΟΣ',\n",
       " 'Branilaca Bosne, Blagaj',\n",
       " 'Bülbül, Şehir Merkezi, Ptt Cd., Şebinkarahisar',\n",
       " 'Chokan Valikhanov st. 11, Atbasar',\n",
       " 'Malanje',\n",
       " 'Shuimogou District, Ürümqi',\n",
       " '6 Sarel Theron Street, Aranos']"
      ]
     },
     "execution_count": 71,
     "metadata": {},
     "output_type": "execute_result"
    }
   ],
   "source": [
    "addresses=hotel_df_clean['Address'].tolist()\n",
    "addresses"
   ]
  },
  {
   "cell_type": "code",
   "execution_count": null,
   "metadata": {},
   "outputs": [],
   "source": []
  },
  {
   "cell_type": "code",
   "execution_count": 79,
   "metadata": {},
   "outputs": [
    {
     "data": {
      "application/vnd.jupyter.widget-view+json": {
       "model_id": "fdd4d3a6ac8c48449ddcbcc1052d418f",
       "version_major": 2,
       "version_minor": 0
      },
      "text/plain": [
       "Figure(layout=FigureLayout(height='420px'))"
      ]
     },
     "metadata": {},
     "output_type": "display_data"
    }
   ],
   "source": [
    "\n",
    "# Create a map using city coordinates to set markers\n",
    "\n",
    "# Create a marker_layer using the hotel info to fill the info box\n",
    "\n",
    "# Using the template add the hotel marks to the heatmap\n",
    "info_box_template = \"\"\"\n",
    "<dl>\n",
    "<dt>Hotel Name</dt><dd>{Hotel Name}</dd>\n",
    "<dt>Hotel Adress</dt><dd>{Address}</dd>\n",
    "<dt>City</dt><dd>{city}</dd>\n",
    "<dt>Country</dt><dd>{Country}</dd>\n",
    "</dl>\n",
    "\"\"\"\n",
    "# Store the DataFrame Row\n",
    "hotel_info = [info_box_template.format(**row) for index, row in hotel_df_clean.iterrows()]\n",
    "locations = hotel_df_clean[['lat', 'lng']]\n",
    "fig = gmaps.figure(center=(20.0, 80.0), zoom_level=1.5)\n",
    "markers = gmaps.marker_layer(marker_locations,\n",
    "    info_box_content=hotel_info)\n",
    "\n",
    "# Add marker layer ontop of heat map\n",
    "fig.add_layer(markers)\n",
    "fig.add_layer(heat_layer)\n",
    "# Display figure\n",
    "fig"
   ]
  },
  {
   "cell_type": "code",
   "execution_count": null,
   "metadata": {},
   "outputs": [],
   "source": []
  },
  {
   "cell_type": "code",
   "execution_count": null,
   "metadata": {},
   "outputs": [],
   "source": []
  },
  {
   "cell_type": "code",
   "execution_count": null,
   "metadata": {},
   "outputs": [],
   "source": []
  },
  {
   "cell_type": "code",
   "execution_count": null,
   "metadata": {},
   "outputs": [],
   "source": []
  },
  {
   "cell_type": "code",
   "execution_count": null,
   "metadata": {},
   "outputs": [],
   "source": []
  },
  {
   "cell_type": "code",
   "execution_count": null,
   "metadata": {},
   "outputs": [],
   "source": []
  },
  {
   "cell_type": "code",
   "execution_count": null,
   "metadata": {},
   "outputs": [],
   "source": []
  },
  {
   "cell_type": "code",
   "execution_count": null,
   "metadata": {},
   "outputs": [],
   "source": []
  },
  {
   "cell_type": "code",
   "execution_count": null,
   "metadata": {},
   "outputs": [],
   "source": []
  },
  {
   "cell_type": "code",
   "execution_count": null,
   "metadata": {},
   "outputs": [],
   "source": []
  },
  {
   "cell_type": "code",
   "execution_count": null,
   "metadata": {},
   "outputs": [],
   "source": []
  },
  {
   "cell_type": "code",
   "execution_count": null,
   "metadata": {},
   "outputs": [],
   "source": [
    "# NOTE: Do not change any of the code in this cell\n",
    "\n",
    "# Using the template add the hotel marks to the heatmap\n",
    "info_box_template = \"\"\"\n",
    "<dl>\n",
    "<dt>Name</dt><dd>{Hotel Name}</dd>\n",
    "<dt>City</dt><dd>{City}</dd>\n",
    "<dt>Country</dt><dd>{Country}</dd>\n",
    "</dl>\n",
    "\"\"\"\n",
    "# Store the DataFrame Row\n",
    "# NOTE: be sure to update with your DataFrame name\n",
    "hotel_info = [info_box_template.format(**row) for index, row in hotel_df.iterrows()]\n",
    "locations = hotel_df[[\"Lat\", \"Lng\"]]"
   ]
  },
  {
   "cell_type": "code",
   "execution_count": null,
   "metadata": {},
   "outputs": [],
   "source": [
    "\n"
   ]
  },
  {
   "cell_type": "code",
   "execution_count": null,
   "metadata": {},
   "outputs": [],
   "source": []
  }
 ],
 "metadata": {
  "kernelspec": {
   "display_name": "Python [conda env:pythondata] *",
   "language": "python",
   "name": "conda-env-pythondata-py"
  },
  "language_info": {
   "codemirror_mode": {
    "name": "ipython",
    "version": 3
   },
   "file_extension": ".py",
   "mimetype": "text/x-python",
   "name": "python",
   "nbconvert_exporter": "python",
   "pygments_lexer": "ipython3",
   "version": "3.6.10"
  },
  "latex_envs": {
   "LaTeX_envs_menu_present": true,
   "autoclose": false,
   "autocomplete": true,
   "bibliofile": "biblio.bib",
   "cite_by": "apalike",
   "current_citInitial": 1,
   "eqLabelWithNumbers": true,
   "eqNumInitial": 1,
   "hotkeys": {
    "equation": "Ctrl-E",
    "itemize": "Ctrl-I"
   },
   "labels_anchors": false,
   "latex_user_defs": false,
   "report_style_numbering": false,
   "user_envs_cfg": false
  }
 },
 "nbformat": 4,
 "nbformat_minor": 4
}
