{
 "cells": [
  {
   "cell_type": "markdown",
   "metadata": {},
   "source": [
    "# VacationPy\n",
    "----\n",
    "\n",
    "#### Note\n",
    "* Keep an eye on your API usage. Use https://developers.google.com/maps/reporting/gmp-reporting as reference for how to monitor your usage and billing.\n",
    "\n",
    "* Instructions have been included for each segment. You do not have to follow them exactly, but they are included to help you think through the steps."
   ]
  },
  {
   "cell_type": "code",
   "execution_count": 1,
   "metadata": {},
   "outputs": [],
   "source": [
    "# Dependencies and Setup\n",
    "import matplotlib.pyplot as plt\n",
    "import pandas as pd\n",
    "import numpy as np\n",
    "import requests\n",
    "import gmaps\n",
    "import os\n",
    "\n",
    "# Import API key\n",
    "from api_keys import g_key"
   ]
  },
  {
   "cell_type": "markdown",
   "metadata": {},
   "source": [
    "### Store Part I results into DataFrame\n",
    "* Load the csv exported in Part I to a DataFrame"
   ]
  },
  {
   "cell_type": "code",
   "execution_count": 2,
   "metadata": {},
   "outputs": [
    {
     "name": "stdout",
     "output_type": "stream",
     "text": [
      "<class 'pandas.core.frame.DataFrame'>\n",
      "RangeIndex: 576 entries, 0 to 575\n",
      "Data columns (total 9 columns):\n",
      " #   Column      Non-Null Count  Dtype  \n",
      "---  ------      --------------  -----  \n",
      " 0   city        576 non-null    object \n",
      " 1   lng         576 non-null    float64\n",
      " 2   lat         576 non-null    float64\n",
      " 3   Max Temp    576 non-null    float64\n",
      " 4   Humidity    576 non-null    int64  \n",
      " 5   Wind Speed  576 non-null    float64\n",
      " 6   Cloudiness  576 non-null    int64  \n",
      " 7   Country     572 non-null    object \n",
      " 8   Date        576 non-null    int64  \n",
      "dtypes: float64(4), int64(3), object(2)\n",
      "memory usage: 40.6+ KB\n"
     ]
    }
   ],
   "source": [
    "weather_data_path=\"../output_data/weather_data.csv\"\n",
    "weather_data_df=pd.read_csv(weather_data_path,encoding=\"utf-8\")\n",
    "weather_data_df.info()"
   ]
  },
  {
   "cell_type": "markdown",
   "metadata": {},
   "source": [
    "### Humidity Heatmap\n",
    "* Configure gmaps.\n",
    "* Use the Lat and Lng as locations and Humidity as the weight.\n",
    "* Add Heatmap layer to map."
   ]
  },
  {
   "cell_type": "code",
   "execution_count": 5,
   "metadata": {},
   "outputs": [],
   "source": [
    "#Configure gmaps\n",
    "gmaps.configure(api_key=g_key)"
   ]
  },
  {
   "cell_type": "code",
   "execution_count": 6,
   "metadata": {},
   "outputs": [],
   "source": [
    "# Store latitude and longitude in locations\n",
    "locations = weather_data_df[[\"lat\", \"lng\"]]\n",
    "\n",
    "# Fill NaN values and convert to float\n",
    "humidity = weather_data_df[\"Humidity\"]"
   ]
  },
  {
   "cell_type": "code",
   "execution_count": 7,
   "metadata": {},
   "outputs": [
    {
     "data": {
      "application/vnd.jupyter.widget-view+json": {
       "model_id": "54ab314299a34a34a300ec62b097ed5e",
       "version_major": 2,
       "version_minor": 0
      },
      "text/plain": [
       "Figure(layout=FigureLayout(height='420px'))"
      ]
     },
     "metadata": {},
     "output_type": "display_data"
    }
   ],
   "source": [
    "# Plot Heatmap\n",
    "fig = gmaps.figure(center=(20.0, 80.0), zoom_level=1.5)\n",
    "\n",
    "# Create heat layer\n",
    "heat_layer = gmaps.heatmap_layer(locations, weights=humidity, \n",
    "                                max_intensity=100,\n",
    "                                 dissipating=True,\n",
    "                                 point_radius=5)\n",
    "\n",
    "\n",
    "# Add layer\n",
    "fig.add_layer(heat_layer)\n",
    "\n",
    "# Display figure\n",
    "fig"
   ]
  },
  {
   "cell_type": "markdown",
   "metadata": {},
   "source": [
    "### Create new DataFrame fitting weather criteria\n",
    "* Narrow down the cities to fit weather conditions.\n",
    "* Drop any rows will null values."
   ]
  },
  {
   "cell_type": "code",
   "execution_count": 8,
   "metadata": {},
   "outputs": [
    {
     "name": "stdout",
     "output_type": "stream",
     "text": [
      "<class 'pandas.core.frame.DataFrame'>\n",
      "Int64Index: 6 entries, 121 to 524\n",
      "Data columns (total 9 columns):\n",
      " #   Column      Non-Null Count  Dtype  \n",
      "---  ------      --------------  -----  \n",
      " 0   city        6 non-null      object \n",
      " 1   lng         6 non-null      float64\n",
      " 2   lat         6 non-null      float64\n",
      " 3   Max Temp    6 non-null      float64\n",
      " 4   Humidity    6 non-null      int64  \n",
      " 5   Wind Speed  6 non-null      float64\n",
      " 6   Cloudiness  6 non-null      int64  \n",
      " 7   Country     6 non-null      object \n",
      " 8   Date        6 non-null      int64  \n",
      "dtypes: float64(4), int64(3), object(2)\n",
      "memory usage: 480.0+ bytes\n"
     ]
    }
   ],
   "source": [
    "# A max temperature between 15 to 30.\n",
    "# Wind speed less than 15 mph.\n",
    "# Humidity in between 25-50\n",
    "# cloudiness in beween 10-35\n",
    "Ideal_weather=weather_data_df.loc[(weather_data_df[\"Max Temp\"]>15)&(weather_data_df[\"Max Temp\"]<30)\n",
    "                                  &(weather_data_df[\"Wind Speed\"]<15)\n",
    "                                  &(weather_data_df[\"Humidity\"]>20)&(weather_data_df[\"Humidity\"]<50)\n",
    "                                  &(weather_data_df[\"Cloudiness\"]>10)&(weather_data_df[\"Cloudiness\"]<35)]\n",
    "Ideal_weather.dropna(inplace = False) \n",
    "Ideal_weather.info()\n"
   ]
  },
  {
   "cell_type": "code",
   "execution_count": 9,
   "metadata": {},
   "outputs": [
    {
     "data": {
      "text/html": [
       "<div>\n",
       "<style scoped>\n",
       "    .dataframe tbody tr th:only-of-type {\n",
       "        vertical-align: middle;\n",
       "    }\n",
       "\n",
       "    .dataframe tbody tr th {\n",
       "        vertical-align: top;\n",
       "    }\n",
       "\n",
       "    .dataframe thead th {\n",
       "        text-align: right;\n",
       "    }\n",
       "</style>\n",
       "<table border=\"1\" class=\"dataframe\">\n",
       "  <thead>\n",
       "    <tr style=\"text-align: right;\">\n",
       "      <th></th>\n",
       "      <th>city</th>\n",
       "      <th>lng</th>\n",
       "      <th>lat</th>\n",
       "      <th>Max Temp</th>\n",
       "      <th>Humidity</th>\n",
       "      <th>Wind Speed</th>\n",
       "      <th>Cloudiness</th>\n",
       "      <th>Country</th>\n",
       "      <th>Date</th>\n",
       "    </tr>\n",
       "  </thead>\n",
       "  <tbody>\n",
       "    <tr>\n",
       "      <th>121</th>\n",
       "      <td>Kruisfontein</td>\n",
       "      <td>24.7314</td>\n",
       "      <td>-34.0033</td>\n",
       "      <td>19.38</td>\n",
       "      <td>45</td>\n",
       "      <td>1.80</td>\n",
       "      <td>15</td>\n",
       "      <td>ZA</td>\n",
       "      <td>1624010632</td>\n",
       "    </tr>\n",
       "    <tr>\n",
       "      <th>357</th>\n",
       "      <td>Caluquembe</td>\n",
       "      <td>14.6833</td>\n",
       "      <td>-13.7833</td>\n",
       "      <td>22.45</td>\n",
       "      <td>25</td>\n",
       "      <td>2.85</td>\n",
       "      <td>21</td>\n",
       "      <td>AO</td>\n",
       "      <td>1624010695</td>\n",
       "    </tr>\n",
       "    <tr>\n",
       "      <th>422</th>\n",
       "      <td>Batetskiy</td>\n",
       "      <td>30.3027</td>\n",
       "      <td>58.6461</td>\n",
       "      <td>26.67</td>\n",
       "      <td>37</td>\n",
       "      <td>4.53</td>\n",
       "      <td>11</td>\n",
       "      <td>RU</td>\n",
       "      <td>1624010714</td>\n",
       "    </tr>\n",
       "    <tr>\n",
       "      <th>469</th>\n",
       "      <td>Nchelenge</td>\n",
       "      <td>28.7340</td>\n",
       "      <td>-9.3451</td>\n",
       "      <td>24.92</td>\n",
       "      <td>34</td>\n",
       "      <td>3.69</td>\n",
       "      <td>33</td>\n",
       "      <td>ZM</td>\n",
       "      <td>1624010726</td>\n",
       "    </tr>\n",
       "    <tr>\n",
       "      <th>496</th>\n",
       "      <td>Mount Darwin</td>\n",
       "      <td>31.5838</td>\n",
       "      <td>-16.7725</td>\n",
       "      <td>25.76</td>\n",
       "      <td>29</td>\n",
       "      <td>2.75</td>\n",
       "      <td>12</td>\n",
       "      <td>ZW</td>\n",
       "      <td>1624010735</td>\n",
       "    </tr>\n",
       "  </tbody>\n",
       "</table>\n",
       "</div>"
      ],
      "text/plain": [
       "             city      lng      lat  Max Temp  Humidity  Wind Speed  \\\n",
       "121  Kruisfontein  24.7314 -34.0033     19.38        45        1.80   \n",
       "357    Caluquembe  14.6833 -13.7833     22.45        25        2.85   \n",
       "422     Batetskiy  30.3027  58.6461     26.67        37        4.53   \n",
       "469     Nchelenge  28.7340  -9.3451     24.92        34        3.69   \n",
       "496  Mount Darwin  31.5838 -16.7725     25.76        29        2.75   \n",
       "\n",
       "     Cloudiness Country        Date  \n",
       "121          15      ZA  1624010632  \n",
       "357          21      AO  1624010695  \n",
       "422          11      RU  1624010714  \n",
       "469          33      ZM  1624010726  \n",
       "496          12      ZW  1624010735  "
      ]
     },
     "execution_count": 9,
     "metadata": {},
     "output_type": "execute_result"
    }
   ],
   "source": [
    "Ideal_weather.head()"
   ]
  },
  {
   "cell_type": "markdown",
   "metadata": {},
   "source": [
    "### Hotel Map\n",
    "* Store into variable named `hotel_df`.\n",
    "* Add a \"Hotel Name\" column to the DataFrame.\n",
    "* Set parameters to search for hotels with 5000 meters.\n",
    "* Hit the Google Places API for each city's coordinates.\n",
    "* Store the first Hotel result into the DataFrame.\n",
    "* Plot markers on top of the heatmap."
   ]
  },
  {
   "cell_type": "code",
   "execution_count": 10,
   "metadata": {},
   "outputs": [
    {
     "name": "stdout",
     "output_type": "stream",
     "text": [
      "<class 'pandas.core.frame.DataFrame'>\n",
      "Int64Index: 6 entries, 121 to 524\n",
      "Data columns (total 4 columns):\n",
      " #   Column   Non-Null Count  Dtype  \n",
      "---  ------   --------------  -----  \n",
      " 0   Country  6 non-null      object \n",
      " 1   city     6 non-null      object \n",
      " 2   lng      6 non-null      float64\n",
      " 3   lat      6 non-null      float64\n",
      "dtypes: float64(2), object(2)\n",
      "memory usage: 240.0+ bytes\n"
     ]
    }
   ],
   "source": [
    "hotel_df=Ideal_weather[[\"Country\",\"city\",\"lng\",\"lat\"]]\n",
    "hotel_df.info()"
   ]
  },
  {
   "cell_type": "code",
   "execution_count": 11,
   "metadata": {},
   "outputs": [
    {
     "name": "stderr",
     "output_type": "stream",
     "text": [
      "C:\\Users\\mailr\\anaconda3\\envs\\pythondata\\lib\\site-packages\\ipykernel_launcher.py:2: SettingWithCopyWarning: \n",
      "A value is trying to be set on a copy of a slice from a DataFrame.\n",
      "Try using .loc[row_indexer,col_indexer] = value instead\n",
      "\n",
      "See the caveats in the documentation: https://pandas.pydata.org/pandas-docs/stable/user_guide/indexing.html#returning-a-view-versus-a-copy\n",
      "  \n",
      "C:\\Users\\mailr\\anaconda3\\envs\\pythondata\\lib\\site-packages\\ipykernel_launcher.py:3: SettingWithCopyWarning: \n",
      "A value is trying to be set on a copy of a slice from a DataFrame.\n",
      "Try using .loc[row_indexer,col_indexer] = value instead\n",
      "\n",
      "See the caveats in the documentation: https://pandas.pydata.org/pandas-docs/stable/user_guide/indexing.html#returning-a-view-versus-a-copy\n",
      "  This is separate from the ipykernel package so we can avoid doing imports until\n"
     ]
    }
   ],
   "source": [
    "# set up additional columns to hold information\n",
    "hotel_df['Hotel Name'] = \"\"\n",
    "hotel_df['Address'] = \"\"\n",
    "\n"
   ]
  },
  {
   "cell_type": "code",
   "execution_count": 12,
   "metadata": {},
   "outputs": [
    {
     "name": "stdout",
     "output_type": "stream",
     "text": [
      "-34.0033, 24.7314\n",
      "Missing field/result... skipping.\n",
      "-13.7833, 14.6833\n"
     ]
    },
    {
     "name": "stderr",
     "output_type": "stream",
     "text": [
      "C:\\Users\\mailr\\anaconda3\\envs\\pythondata\\lib\\site-packages\\pandas\\core\\indexing.py:966: SettingWithCopyWarning: \n",
      "A value is trying to be set on a copy of a slice from a DataFrame.\n",
      "Try using .loc[row_indexer,col_indexer] = value instead\n",
      "\n",
      "See the caveats in the documentation: https://pandas.pydata.org/pandas-docs/stable/user_guide/indexing.html#returning-a-view-versus-a-copy\n",
      "  self.obj[item] = s\n"
     ]
    },
    {
     "name": "stdout",
     "output_type": "stream",
     "text": [
      "Closest hotel is Hotel Kalukembe for Caluquembe .\n",
      "Closest hotel Hotel Kalukembe address is Unnamed Road, Kalukembe .\n",
      "58.6461, 30.3027\n",
      "Missing field/result... skipping.\n",
      "-9.3451, 28.734\n",
      "Closest hotel is Relaxin Executive Lodge for Nchelenge .\n",
      "Closest hotel Relaxin Executive Lodge address is Kashikishi .\n",
      "-16.7725, 31.5838\n",
      "Missing field/result... skipping.\n",
      "36.9758, 120.7136\n",
      "Closest hotel is Jin Jiang Golden Mountain International Hotel for Laiyang .\n",
      "Closest hotel Jin Jiang Golden Mountain International Hotel address is No. 83 Heshan Road, Yantai .\n"
     ]
    }
   ],
   "source": [
    "# Build URL using the Google Maps API\n",
    "base_url = \"https://maps.googleapis.com/maps/api/place/nearbysearch/json\"\n",
    "\n",
    "# Find a hotel based on city_coords.\n",
    "target_search = \"Hotels\"\n",
    "radius = 5000\n",
    "city_coords = hotel_df[[\"lng\",\"lat\"]]\n",
    "\n",
    "# redefine params\n",
    "params = {\n",
    "    \"location\": city_coords,\n",
    "    \"keyword\": target_search,\n",
    "    \"radius\": radius,\n",
    "    \"key\": g_key\n",
    "}\n",
    "\n",
    "# use iterrows to iterate through pandas dataframe\n",
    "for index, row in hotel_df.iterrows():\n",
    "    lat=row[\"lat\"]\n",
    "    lng=row[\"lng\"]\n",
    "    city=row[\"city\"]\n",
    "    # get city location from df\n",
    "    city_coords = f\"{lat}, {lng}\"\n",
    "    print (city_coords)\n",
    "    # add keyword to params dict\n",
    "    params['location'] = city_coords\n",
    "\n",
    "    # assemble url and make API request\n",
    "   \n",
    "    response = requests.get(base_url, params=params).json()\n",
    "    \n",
    "    # extract results\n",
    "    results = response['results']\n",
    "    \n",
    "    try:\n",
    "        \n",
    "        \n",
    "        hotel_df.loc[index, 'Hotel Name'] = results[0]['name']\n",
    "        hotel_df.loc[index, 'Address'] = results[0]['vicinity']\n",
    "        print(f\"Closest hotel is {results[0]['name']} for {city} .\")\n",
    "        print(f\"Closest hotel {results[0]['name']} address is {results[0]['vicinity']} .\")\n",
    "    except (KeyError, IndexError):\n",
    "        print(\"Missing field/result... skipping.\")\n"
   ]
  },
  {
   "cell_type": "code",
   "execution_count": 13,
   "metadata": {},
   "outputs": [
    {
     "data": {
      "text/html": [
       "<div>\n",
       "<style scoped>\n",
       "    .dataframe tbody tr th:only-of-type {\n",
       "        vertical-align: middle;\n",
       "    }\n",
       "\n",
       "    .dataframe tbody tr th {\n",
       "        vertical-align: top;\n",
       "    }\n",
       "\n",
       "    .dataframe thead th {\n",
       "        text-align: right;\n",
       "    }\n",
       "</style>\n",
       "<table border=\"1\" class=\"dataframe\">\n",
       "  <thead>\n",
       "    <tr style=\"text-align: right;\">\n",
       "      <th></th>\n",
       "      <th>Country</th>\n",
       "      <th>city</th>\n",
       "      <th>lng</th>\n",
       "      <th>lat</th>\n",
       "      <th>Hotel Name</th>\n",
       "      <th>Address</th>\n",
       "    </tr>\n",
       "  </thead>\n",
       "  <tbody>\n",
       "    <tr>\n",
       "      <th>121</th>\n",
       "      <td>ZA</td>\n",
       "      <td>Kruisfontein</td>\n",
       "      <td>24.7314</td>\n",
       "      <td>-34.0033</td>\n",
       "      <td></td>\n",
       "      <td></td>\n",
       "    </tr>\n",
       "    <tr>\n",
       "      <th>357</th>\n",
       "      <td>AO</td>\n",
       "      <td>Caluquembe</td>\n",
       "      <td>14.6833</td>\n",
       "      <td>-13.7833</td>\n",
       "      <td>Hotel Kalukembe</td>\n",
       "      <td>Unnamed Road, Kalukembe</td>\n",
       "    </tr>\n",
       "    <tr>\n",
       "      <th>422</th>\n",
       "      <td>RU</td>\n",
       "      <td>Batetskiy</td>\n",
       "      <td>30.3027</td>\n",
       "      <td>58.6461</td>\n",
       "      <td></td>\n",
       "      <td></td>\n",
       "    </tr>\n",
       "    <tr>\n",
       "      <th>469</th>\n",
       "      <td>ZM</td>\n",
       "      <td>Nchelenge</td>\n",
       "      <td>28.7340</td>\n",
       "      <td>-9.3451</td>\n",
       "      <td>Relaxin Executive Lodge</td>\n",
       "      <td>Kashikishi</td>\n",
       "    </tr>\n",
       "    <tr>\n",
       "      <th>496</th>\n",
       "      <td>ZW</td>\n",
       "      <td>Mount Darwin</td>\n",
       "      <td>31.5838</td>\n",
       "      <td>-16.7725</td>\n",
       "      <td></td>\n",
       "      <td></td>\n",
       "    </tr>\n",
       "    <tr>\n",
       "      <th>524</th>\n",
       "      <td>CN</td>\n",
       "      <td>Laiyang</td>\n",
       "      <td>120.7136</td>\n",
       "      <td>36.9758</td>\n",
       "      <td>Jin Jiang Golden Mountain International Hotel</td>\n",
       "      <td>No. 83 Heshan Road, Yantai</td>\n",
       "    </tr>\n",
       "  </tbody>\n",
       "</table>\n",
       "</div>"
      ],
      "text/plain": [
       "    Country          city       lng      lat  \\\n",
       "121      ZA  Kruisfontein   24.7314 -34.0033   \n",
       "357      AO    Caluquembe   14.6833 -13.7833   \n",
       "422      RU     Batetskiy   30.3027  58.6461   \n",
       "469      ZM     Nchelenge   28.7340  -9.3451   \n",
       "496      ZW  Mount Darwin   31.5838 -16.7725   \n",
       "524      CN       Laiyang  120.7136  36.9758   \n",
       "\n",
       "                                        Hotel Name                     Address  \n",
       "121                                                                             \n",
       "357                                Hotel Kalukembe     Unnamed Road, Kalukembe  \n",
       "422                                                                             \n",
       "469                        Relaxin Executive Lodge                  Kashikishi  \n",
       "496                                                                             \n",
       "524  Jin Jiang Golden Mountain International Hotel  No. 83 Heshan Road, Yantai  "
      ]
     },
     "execution_count": 13,
     "metadata": {},
     "output_type": "execute_result"
    }
   ],
   "source": [
    "hotel_df.head(8)"
   ]
  },
  {
   "cell_type": "code",
   "execution_count": 14,
   "metadata": {
    "scrolled": true
   },
   "outputs": [
    {
     "data": {
      "text/html": [
       "<div>\n",
       "<style scoped>\n",
       "    .dataframe tbody tr th:only-of-type {\n",
       "        vertical-align: middle;\n",
       "    }\n",
       "\n",
       "    .dataframe tbody tr th {\n",
       "        vertical-align: top;\n",
       "    }\n",
       "\n",
       "    .dataframe thead th {\n",
       "        text-align: right;\n",
       "    }\n",
       "</style>\n",
       "<table border=\"1\" class=\"dataframe\">\n",
       "  <thead>\n",
       "    <tr style=\"text-align: right;\">\n",
       "      <th></th>\n",
       "      <th>Country</th>\n",
       "      <th>city</th>\n",
       "      <th>lng</th>\n",
       "      <th>lat</th>\n",
       "      <th>Hotel Name</th>\n",
       "      <th>Address</th>\n",
       "    </tr>\n",
       "  </thead>\n",
       "  <tbody>\n",
       "    <tr>\n",
       "      <th>121</th>\n",
       "      <td>ZA</td>\n",
       "      <td>Kruisfontein</td>\n",
       "      <td>24.7314</td>\n",
       "      <td>-34.0033</td>\n",
       "      <td>NaN</td>\n",
       "      <td>NaN</td>\n",
       "    </tr>\n",
       "    <tr>\n",
       "      <th>357</th>\n",
       "      <td>AO</td>\n",
       "      <td>Caluquembe</td>\n",
       "      <td>14.6833</td>\n",
       "      <td>-13.7833</td>\n",
       "      <td>Hotel Kalukembe</td>\n",
       "      <td>Unnamed Road, Kalukembe</td>\n",
       "    </tr>\n",
       "    <tr>\n",
       "      <th>422</th>\n",
       "      <td>RU</td>\n",
       "      <td>Batetskiy</td>\n",
       "      <td>30.3027</td>\n",
       "      <td>58.6461</td>\n",
       "      <td>NaN</td>\n",
       "      <td>NaN</td>\n",
       "    </tr>\n",
       "    <tr>\n",
       "      <th>469</th>\n",
       "      <td>ZM</td>\n",
       "      <td>Nchelenge</td>\n",
       "      <td>28.7340</td>\n",
       "      <td>-9.3451</td>\n",
       "      <td>Relaxin Executive Lodge</td>\n",
       "      <td>Kashikishi</td>\n",
       "    </tr>\n",
       "    <tr>\n",
       "      <th>496</th>\n",
       "      <td>ZW</td>\n",
       "      <td>Mount Darwin</td>\n",
       "      <td>31.5838</td>\n",
       "      <td>-16.7725</td>\n",
       "      <td>NaN</td>\n",
       "      <td>NaN</td>\n",
       "    </tr>\n",
       "    <tr>\n",
       "      <th>524</th>\n",
       "      <td>CN</td>\n",
       "      <td>Laiyang</td>\n",
       "      <td>120.7136</td>\n",
       "      <td>36.9758</td>\n",
       "      <td>Jin Jiang Golden Mountain International Hotel</td>\n",
       "      <td>No. 83 Heshan Road, Yantai</td>\n",
       "    </tr>\n",
       "  </tbody>\n",
       "</table>\n",
       "</div>"
      ],
      "text/plain": [
       "    Country          city       lng      lat  \\\n",
       "121      ZA  Kruisfontein   24.7314 -34.0033   \n",
       "357      AO    Caluquembe   14.6833 -13.7833   \n",
       "422      RU     Batetskiy   30.3027  58.6461   \n",
       "469      ZM     Nchelenge   28.7340  -9.3451   \n",
       "496      ZW  Mount Darwin   31.5838 -16.7725   \n",
       "524      CN       Laiyang  120.7136  36.9758   \n",
       "\n",
       "                                        Hotel Name                     Address  \n",
       "121                                            NaN                         NaN  \n",
       "357                                Hotel Kalukembe     Unnamed Road, Kalukembe  \n",
       "422                                            NaN                         NaN  \n",
       "469                        Relaxin Executive Lodge                  Kashikishi  \n",
       "496                                            NaN                         NaN  \n",
       "524  Jin Jiang Golden Mountain International Hotel  No. 83 Heshan Road, Yantai  "
      ]
     },
     "execution_count": 14,
     "metadata": {},
     "output_type": "execute_result"
    }
   ],
   "source": [
    "# hotel_df\n",
    "# nan_value = float(\"NaN\")\n",
    "\n",
    "hotel_df=hotel_df.replace(\"\", np.nan, inplace=False)\n",
    "# hotel_df_clear= hotel_df.dropna(subset=['Address'])\n",
    "# filter = hotel_df['Address'] != \"\"\n",
    "# hotel_df_clean = df[filter]\n",
    "hotel_df.head(8)"
   ]
  },
  {
   "cell_type": "code",
   "execution_count": 15,
   "metadata": {
    "scrolled": true
   },
   "outputs": [
    {
     "data": {
      "text/html": [
       "<div>\n",
       "<style scoped>\n",
       "    .dataframe tbody tr th:only-of-type {\n",
       "        vertical-align: middle;\n",
       "    }\n",
       "\n",
       "    .dataframe tbody tr th {\n",
       "        vertical-align: top;\n",
       "    }\n",
       "\n",
       "    .dataframe thead th {\n",
       "        text-align: right;\n",
       "    }\n",
       "</style>\n",
       "<table border=\"1\" class=\"dataframe\">\n",
       "  <thead>\n",
       "    <tr style=\"text-align: right;\">\n",
       "      <th></th>\n",
       "      <th>Country</th>\n",
       "      <th>city</th>\n",
       "      <th>lng</th>\n",
       "      <th>lat</th>\n",
       "      <th>Hotel Name</th>\n",
       "      <th>Address</th>\n",
       "    </tr>\n",
       "  </thead>\n",
       "  <tbody>\n",
       "    <tr>\n",
       "      <th>357</th>\n",
       "      <td>AO</td>\n",
       "      <td>Caluquembe</td>\n",
       "      <td>14.6833</td>\n",
       "      <td>-13.7833</td>\n",
       "      <td>Hotel Kalukembe</td>\n",
       "      <td>Unnamed Road, Kalukembe</td>\n",
       "    </tr>\n",
       "    <tr>\n",
       "      <th>469</th>\n",
       "      <td>ZM</td>\n",
       "      <td>Nchelenge</td>\n",
       "      <td>28.7340</td>\n",
       "      <td>-9.3451</td>\n",
       "      <td>Relaxin Executive Lodge</td>\n",
       "      <td>Kashikishi</td>\n",
       "    </tr>\n",
       "    <tr>\n",
       "      <th>524</th>\n",
       "      <td>CN</td>\n",
       "      <td>Laiyang</td>\n",
       "      <td>120.7136</td>\n",
       "      <td>36.9758</td>\n",
       "      <td>Jin Jiang Golden Mountain International Hotel</td>\n",
       "      <td>No. 83 Heshan Road, Yantai</td>\n",
       "    </tr>\n",
       "  </tbody>\n",
       "</table>\n",
       "</div>"
      ],
      "text/plain": [
       "    Country        city       lng      lat  \\\n",
       "357      AO  Caluquembe   14.6833 -13.7833   \n",
       "469      ZM   Nchelenge   28.7340  -9.3451   \n",
       "524      CN     Laiyang  120.7136  36.9758   \n",
       "\n",
       "                                        Hotel Name                     Address  \n",
       "357                                Hotel Kalukembe     Unnamed Road, Kalukembe  \n",
       "469                        Relaxin Executive Lodge                  Kashikishi  \n",
       "524  Jin Jiang Golden Mountain International Hotel  No. 83 Heshan Road, Yantai  "
      ]
     },
     "execution_count": 15,
     "metadata": {},
     "output_type": "execute_result"
    }
   ],
   "source": [
    "hotel_df_clean=hotel_df.dropna(inplace=False)\n",
    "hotel_df_clean"
   ]
  },
  {
   "cell_type": "code",
   "execution_count": 16,
   "metadata": {},
   "outputs": [
    {
     "data": {
      "text/plain": [
       "['Unnamed Road, Kalukembe', 'Kashikishi', 'No. 83 Heshan Road, Yantai']"
      ]
     },
     "execution_count": 16,
     "metadata": {},
     "output_type": "execute_result"
    }
   ],
   "source": [
    "addresses=hotel_df_clean['Address'].tolist()\n",
    "addresses"
   ]
  },
  {
   "cell_type": "code",
   "execution_count": null,
   "metadata": {},
   "outputs": [],
   "source": []
  },
  {
   "cell_type": "code",
   "execution_count": 19,
   "metadata": {},
   "outputs": [
    {
     "data": {
      "application/vnd.jupyter.widget-view+json": {
       "model_id": "350a11ee7a744fe0971cca85e6442e6b",
       "version_major": 2,
       "version_minor": 0
      },
      "text/plain": [
       "Figure(layout=FigureLayout(height='420px'))"
      ]
     },
     "metadata": {},
     "output_type": "display_data"
    }
   ],
   "source": [
    "\n",
    "# Create a map using city coordinates to set markers\n",
    "\n",
    "# Create a marker_layer using the hotel info to fill the info box\n",
    "\n",
    "# Using the template add the hotel marks to the heatmap\n",
    "info_box_template = \"\"\"\n",
    "<dl>\n",
    "<dt>Hotel Name</dt><dd>{Hotel Name}</dd>\n",
    "<dt>Hotel Adress</dt><dd>{Address}</dd>\n",
    "<dt>City</dt><dd>{city}</dd>\n",
    "<dt>Country</dt><dd>{Country}</dd>\n",
    "</dl>\n",
    "\"\"\"\n",
    "# Store the DataFrame Row\n",
    "hotel_info = [info_box_template.format(**row) for index, row in hotel_df_clean.iterrows()]\n",
    "marker_locations = hotel_df_clean[['lat', 'lng']]\n",
    "fig = gmaps.figure(center=(20.0, 80.0), zoom_level=1.5)\n",
    "markers = gmaps.marker_layer(marker_locations,\n",
    "    info_box_content=hotel_info)\n",
    "\n",
    "# Add marker layer ontop of heat map\n",
    "fig.add_layer(markers)\n",
    "fig.add_layer(heat_layer)\n",
    "# Display figure\n",
    "fig"
   ]
  },
  {
   "cell_type": "code",
   "execution_count": null,
   "metadata": {},
   "outputs": [],
   "source": []
  },
  {
   "cell_type": "code",
   "execution_count": null,
   "metadata": {},
   "outputs": [],
   "source": []
  },
  {
   "cell_type": "code",
   "execution_count": null,
   "metadata": {},
   "outputs": [],
   "source": []
  },
  {
   "cell_type": "code",
   "execution_count": null,
   "metadata": {},
   "outputs": [],
   "source": []
  },
  {
   "cell_type": "code",
   "execution_count": null,
   "metadata": {},
   "outputs": [],
   "source": []
  },
  {
   "cell_type": "code",
   "execution_count": null,
   "metadata": {},
   "outputs": [],
   "source": []
  },
  {
   "cell_type": "code",
   "execution_count": null,
   "metadata": {},
   "outputs": [],
   "source": []
  },
  {
   "cell_type": "code",
   "execution_count": null,
   "metadata": {},
   "outputs": [],
   "source": []
  },
  {
   "cell_type": "code",
   "execution_count": null,
   "metadata": {},
   "outputs": [],
   "source": []
  },
  {
   "cell_type": "code",
   "execution_count": null,
   "metadata": {},
   "outputs": [],
   "source": []
  },
  {
   "cell_type": "code",
   "execution_count": null,
   "metadata": {},
   "outputs": [],
   "source": []
  },
  {
   "cell_type": "code",
   "execution_count": null,
   "metadata": {},
   "outputs": [],
   "source": [
    "# NOTE: Do not change any of the code in this cell\n",
    "\n",
    "# Using the template add the hotel marks to the heatmap\n",
    "info_box_template = \"\"\"\n",
    "<dl>\n",
    "<dt>Name</dt><dd>{Hotel Name}</dd>\n",
    "<dt>City</dt><dd>{City}</dd>\n",
    "<dt>Country</dt><dd>{Country}</dd>\n",
    "</dl>\n",
    "\"\"\"\n",
    "# Store the DataFrame Row\n",
    "# NOTE: be sure to update with your DataFrame name\n",
    "hotel_info = [info_box_template.format(**row) for index, row in hotel_df.iterrows()]\n",
    "locations = hotel_df[[\"Lat\", \"Lng\"]]"
   ]
  },
  {
   "cell_type": "code",
   "execution_count": null,
   "metadata": {},
   "outputs": [],
   "source": [
    "\n"
   ]
  },
  {
   "cell_type": "code",
   "execution_count": null,
   "metadata": {},
   "outputs": [],
   "source": []
  }
 ],
 "metadata": {
  "kernelspec": {
   "display_name": "Python [conda env:pythondata] *",
   "language": "python",
   "name": "conda-env-pythondata-py"
  },
  "language_info": {
   "codemirror_mode": {
    "name": "ipython",
    "version": 3
   },
   "file_extension": ".py",
   "mimetype": "text/x-python",
   "name": "python",
   "nbconvert_exporter": "python",
   "pygments_lexer": "ipython3",
   "version": "3.6.10"
  },
  "latex_envs": {
   "LaTeX_envs_menu_present": true,
   "autoclose": false,
   "autocomplete": true,
   "bibliofile": "biblio.bib",
   "cite_by": "apalike",
   "current_citInitial": 1,
   "eqLabelWithNumbers": true,
   "eqNumInitial": 1,
   "hotkeys": {
    "equation": "Ctrl-E",
    "itemize": "Ctrl-I"
   },
   "labels_anchors": false,
   "latex_user_defs": false,
   "report_style_numbering": false,
   "user_envs_cfg": false
  }
 },
 "nbformat": 4,
 "nbformat_minor": 4
}
